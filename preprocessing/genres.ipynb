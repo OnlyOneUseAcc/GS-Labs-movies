{
 "cells": [
  {
   "cell_type": "code",
   "execution_count": 1,
   "metadata": {
    "collapsed": true
   },
   "outputs": [],
   "source": [
    "import pandas as pd\n",
    "import numpy as np\n",
    "from scipy.spatial.distance import cosine"
   ]
  },
  {
   "cell_type": "code",
   "execution_count": 2,
   "outputs": [],
   "source": [
    "DATA_PATH = '../data/'\n",
    "POSTPROCESSING = 'postprocessing/'"
   ],
   "metadata": {
    "collapsed": false,
    "pycharm": {
     "name": "#%%\n"
    }
   }
  },
  {
   "cell_type": "markdown",
   "source": [
    "Работа с жанрами контента"
   ],
   "metadata": {
    "collapsed": false,
    "pycharm": {
     "name": "#%% md\n"
    }
   }
  },
  {
   "cell_type": "code",
   "execution_count": 3,
   "outputs": [],
   "source": [
    "content = pd.read_csv(f'{DATA_PATH}{POSTPROCESSING}content.csv',\n",
    "                      index_col='content_uid')"
   ],
   "metadata": {
    "collapsed": false,
    "pycharm": {
     "name": "#%%\n"
    }
   }
  },
  {
   "cell_type": "code",
   "execution_count": 4,
   "outputs": [
    {
     "name": "stdout",
     "output_type": "stream",
     "text": [
      "<class 'pandas.core.frame.DataFrame'>\n",
      "Int64Index: 3829 entries, 9882 to 10190\n",
      "Data columns (total 5 columns):\n",
      " #   Column            Non-Null Count  Dtype  \n",
      "---  ------            --------------  -----  \n",
      " 0   name              3829 non-null   object \n",
      " 1   type              3829 non-null   object \n",
      " 2   serial_id         0 non-null      float64\n",
      " 3   genres            3810 non-null   object \n",
      " 4   duration_seconds  3829 non-null   float64\n",
      "dtypes: float64(2), object(3)\n",
      "memory usage: 179.5+ KB\n"
     ]
    }
   ],
   "source": [
    "content.info()"
   ],
   "metadata": {
    "collapsed": false,
    "pycharm": {
     "name": "#%%\n"
    }
   }
  },
  {
   "cell_type": "markdown",
   "source": [
    "Заполение пропусков"
   ],
   "metadata": {
    "collapsed": false,
    "pycharm": {
     "name": "#%% md\n"
    }
   }
  },
  {
   "cell_type": "code",
   "execution_count": 5,
   "outputs": [],
   "source": [
    "content['genres'] = content['genres'].fillna('отсутствует')"
   ],
   "metadata": {
    "collapsed": false,
    "pycharm": {
     "name": "#%%\n"
    }
   }
  },
  {
   "cell_type": "code",
   "execution_count": 6,
   "outputs": [
    {
     "name": "stdout",
     "output_type": "stream",
     "text": [
      "Изначальное количесво уникальных жанров519\n"
     ]
    }
   ],
   "source": [
    "print(f\"Изначальное количесво уникальных жанров{len(content['genres'].unique())}\")"
   ],
   "metadata": {
    "collapsed": false,
    "pycharm": {
     "name": "#%%\n"
    }
   }
  },
  {
   "cell_type": "markdown",
   "source": [
    "Работа с жанрами\n",
    "* Избавление от пунктуации\n",
    "* Избавление от стоп-слов\n",
    "* Морфолизация"
   ],
   "metadata": {
    "collapsed": false,
    "pycharm": {
     "name": "#%% md\n"
    }
   }
  },
  {
   "cell_type": "code",
   "execution_count": 7,
   "outputs": [],
   "source": [
    "import string\n",
    "import pymorphy2\n",
    "from nltk.stem import SnowballStemmer\n",
    "\n",
    "morph = pymorphy2.MorphAnalyzer()\n",
    "snowball = SnowballStemmer(language=\"russian\")"
   ],
   "metadata": {
    "collapsed": false,
    "pycharm": {
     "name": "#%%\n"
    }
   }
  },
  {
   "cell_type": "code",
   "execution_count": 8,
   "outputs": [
    {
     "name": "stderr",
     "output_type": "stream",
     "text": [
      "[nltk_data] Downloading package punkt to\n",
      "[nltk_data]     C:\\Users\\Алексей\\AppData\\Roaming\\nltk_data...\n",
      "[nltk_data]   Package punkt is already up-to-date!\n"
     ]
    }
   ],
   "source": [
    "import nltk\n",
    "nltk.download('punkt')\n",
    "from nltk.stem.snowball import RussianStemmer"
   ],
   "metadata": {
    "collapsed": false,
    "pycharm": {
     "name": "#%%\n"
    }
   }
  },
  {
   "cell_type": "code",
   "execution_count": 9,
   "outputs": [],
   "source": [
    "stemmer = RussianStemmer(False)"
   ],
   "metadata": {
    "collapsed": false,
    "pycharm": {
     "name": "#%%\n"
    }
   }
  },
  {
   "cell_type": "code",
   "execution_count": 10,
   "outputs": [],
   "source": [
    "content['genres'] = content['genres'].apply(\n",
    "    lambda x: [morph.parse(word.lower())[0].normal_form\n",
    "               for word in nltk.word_tokenize(x) if (word not in string.punctuation) and\n",
    "                    (word not in nltk.corpus.stopwords.words('russian'))]\n",
    ")\n"
   ],
   "metadata": {
    "collapsed": false,
    "pycharm": {
     "name": "#%%\n"
    }
   }
  },
  {
   "cell_type": "code",
   "execution_count": 11,
   "outputs": [],
   "source": [
    "unique = []\n",
    "for item in content.genres:\n",
    "    for word in item:\n",
    "        if word not in unique:\n",
    "            unique.append(word)"
   ],
   "metadata": {
    "collapsed": false,
    "pycharm": {
     "name": "#%%\n"
    }
   }
  },
  {
   "cell_type": "code",
   "execution_count": 12,
   "outputs": [
    {
     "name": "stdout",
     "output_type": "stream",
     "text": [
      "Финальное количесво жанров71\n"
     ]
    }
   ],
   "source": [
    "print(f'Финальное количесво жанров{len(unique)}')"
   ],
   "metadata": {
    "collapsed": false,
    "pycharm": {
     "name": "#%%\n"
    }
   }
  },
  {
   "cell_type": "code",
   "execution_count": 13,
   "outputs": [
    {
     "data": {
      "text/plain": "content_uid\n9882      [игровой, шоу, музыка]\n19870                  [комедия]\n2312        [мелодрама, комедия]\n12655           [драма, комедия]\n25771        [комедийный, драма]\n                  ...           \n20786              [реалити-шоу]\n4037     [биографический, драма]\n10201            [сериал, драма]\n27405             [исторический]\n10190                [мелодрама]\nName: genres, Length: 3829, dtype: object"
     },
     "execution_count": 13,
     "metadata": {},
     "output_type": "execute_result"
    }
   ],
   "source": [
    "content.genres"
   ],
   "metadata": {
    "collapsed": false,
    "pycharm": {
     "name": "#%%\n"
    }
   }
  },
  {
   "cell_type": "markdown",
   "source": [
    "Создание новой таблицы - принадлежности контента к каждому из жанров"
   ],
   "metadata": {
    "collapsed": false,
    "pycharm": {
     "name": "#%% md\n"
    }
   }
  },
  {
   "cell_type": "code",
   "execution_count": 14,
   "outputs": [],
   "source": [
    "film_data = pd.DataFrame(columns=unique, index=content.index)\n",
    "film_data.fillna(0, inplace=True)\n",
    "\n",
    "for _, film in content.iterrows():\n",
    "    if film.genres != 'отсутствовать':\n",
    "        for genre in film.genres:\n",
    "            film_data.loc[film.name, genre] = 1\n"
   ],
   "metadata": {
    "collapsed": false,
    "pycharm": {
     "name": "#%%\n"
    }
   }
  },
  {
   "cell_type": "code",
   "execution_count": 15,
   "outputs": [],
   "source": [
    "film_data.to_csv(f'{DATA_PATH}{POSTPROCESSING}film_genres.csv')"
   ],
   "metadata": {
    "collapsed": false,
    "pycharm": {
     "name": "#%%\n"
    }
   }
  },
  {
   "cell_type": "markdown",
   "source": [
    "Созднание новой таблицы - сколько посмотрел каждый пользователей по типам контента"
   ],
   "metadata": {
    "collapsed": false,
    "pycharm": {
     "name": "#%% md\n"
    }
   }
  },
  {
   "cell_type": "code",
   "execution_count": 16,
   "outputs": [],
   "source": [
    "history = pd.read_csv(f'{DATA_PATH}{POSTPROCESSING}watch_history.csv', index_col=0)\n",
    "users_types = pd.DataFrame(columns=[content.type.unique()], index=history.user_uid.unique()).fillna(0)\n"
   ],
   "metadata": {
    "collapsed": false,
    "pycharm": {
     "name": "#%%\n"
    }
   }
  },
  {
   "cell_type": "code",
   "execution_count": 17,
   "outputs": [],
   "source": [
    "history['type'] = content.loc[history.content_uid.values]['type'].values"
   ],
   "metadata": {
    "collapsed": false,
    "pycharm": {
     "name": "#%%\n"
    }
   }
  },
  {
   "cell_type": "code",
   "execution_count": 18,
   "outputs": [
    {
     "data": {
      "text/plain": "        user_uid                type  second\n0              1               movie    6720\n1              4               movie   23638\n2              4  serial_with_season   30169\n3             25               movie   23969\n4             25  serial_with_season     665\n...          ...                 ...     ...\n265196   1302880               movie      26\n265197   1302881               movie   87822\n265198   1302912               movie      16\n265199   1302913               movie     118\n265200   1302914               movie      96\n\n[265201 rows x 3 columns]",
      "text/html": "<div>\n<style scoped>\n    .dataframe tbody tr th:only-of-type {\n        vertical-align: middle;\n    }\n\n    .dataframe tbody tr th {\n        vertical-align: top;\n    }\n\n    .dataframe thead th {\n        text-align: right;\n    }\n</style>\n<table border=\"1\" class=\"dataframe\">\n  <thead>\n    <tr style=\"text-align: right;\">\n      <th></th>\n      <th>user_uid</th>\n      <th>type</th>\n      <th>second</th>\n    </tr>\n  </thead>\n  <tbody>\n    <tr>\n      <th>0</th>\n      <td>1</td>\n      <td>movie</td>\n      <td>6720</td>\n    </tr>\n    <tr>\n      <th>1</th>\n      <td>4</td>\n      <td>movie</td>\n      <td>23638</td>\n    </tr>\n    <tr>\n      <th>2</th>\n      <td>4</td>\n      <td>serial_with_season</td>\n      <td>30169</td>\n    </tr>\n    <tr>\n      <th>3</th>\n      <td>25</td>\n      <td>movie</td>\n      <td>23969</td>\n    </tr>\n    <tr>\n      <th>4</th>\n      <td>25</td>\n      <td>serial_with_season</td>\n      <td>665</td>\n    </tr>\n    <tr>\n      <th>...</th>\n      <td>...</td>\n      <td>...</td>\n      <td>...</td>\n    </tr>\n    <tr>\n      <th>265196</th>\n      <td>1302880</td>\n      <td>movie</td>\n      <td>26</td>\n    </tr>\n    <tr>\n      <th>265197</th>\n      <td>1302881</td>\n      <td>movie</td>\n      <td>87822</td>\n    </tr>\n    <tr>\n      <th>265198</th>\n      <td>1302912</td>\n      <td>movie</td>\n      <td>16</td>\n    </tr>\n    <tr>\n      <th>265199</th>\n      <td>1302913</td>\n      <td>movie</td>\n      <td>118</td>\n    </tr>\n    <tr>\n      <th>265200</th>\n      <td>1302914</td>\n      <td>movie</td>\n      <td>96</td>\n    </tr>\n  </tbody>\n</table>\n<p>265201 rows × 3 columns</p>\n</div>"
     },
     "execution_count": 18,
     "metadata": {},
     "output_type": "execute_result"
    }
   ],
   "source": [
    "type_history = history[['type', 'second','user_uid']].groupby(by=['user_uid', 'type']).sum().reset_index()\n",
    "type_history"
   ],
   "metadata": {
    "collapsed": false,
    "pycharm": {
     "name": "#%%\n"
    }
   }
  },
  {
   "cell_type": "code",
   "execution_count": 19,
   "outputs": [
    {
     "data": {
      "text/plain": "        serial_with_season movie serial_without_season\n1                        0     0                     0\n4                        0     0                     0\n25                       0     0                     0\n43                       0     0                     0\n45                       0     0                     0\n...                    ...   ...                   ...\n1302880                  0     0                     0\n1302881                  0     0                     0\n1302912                  0     0                     0\n1302913                  0     0                     0\n1302914                  0     0                     0\n\n[233180 rows x 3 columns]",
      "text/html": "<div>\n<style scoped>\n    .dataframe tbody tr th:only-of-type {\n        vertical-align: middle;\n    }\n\n    .dataframe tbody tr th {\n        vertical-align: top;\n    }\n\n    .dataframe thead tr th {\n        text-align: left;\n    }\n</style>\n<table border=\"1\" class=\"dataframe\">\n  <thead>\n    <tr>\n      <th></th>\n      <th>serial_with_season</th>\n      <th>movie</th>\n      <th>serial_without_season</th>\n    </tr>\n  </thead>\n  <tbody>\n    <tr>\n      <th>1</th>\n      <td>0</td>\n      <td>0</td>\n      <td>0</td>\n    </tr>\n    <tr>\n      <th>4</th>\n      <td>0</td>\n      <td>0</td>\n      <td>0</td>\n    </tr>\n    <tr>\n      <th>25</th>\n      <td>0</td>\n      <td>0</td>\n      <td>0</td>\n    </tr>\n    <tr>\n      <th>43</th>\n      <td>0</td>\n      <td>0</td>\n      <td>0</td>\n    </tr>\n    <tr>\n      <th>45</th>\n      <td>0</td>\n      <td>0</td>\n      <td>0</td>\n    </tr>\n    <tr>\n      <th>...</th>\n      <td>...</td>\n      <td>...</td>\n      <td>...</td>\n    </tr>\n    <tr>\n      <th>1302880</th>\n      <td>0</td>\n      <td>0</td>\n      <td>0</td>\n    </tr>\n    <tr>\n      <th>1302881</th>\n      <td>0</td>\n      <td>0</td>\n      <td>0</td>\n    </tr>\n    <tr>\n      <th>1302912</th>\n      <td>0</td>\n      <td>0</td>\n      <td>0</td>\n    </tr>\n    <tr>\n      <th>1302913</th>\n      <td>0</td>\n      <td>0</td>\n      <td>0</td>\n    </tr>\n    <tr>\n      <th>1302914</th>\n      <td>0</td>\n      <td>0</td>\n      <td>0</td>\n    </tr>\n  </tbody>\n</table>\n<p>233180 rows × 3 columns</p>\n</div>"
     },
     "execution_count": 19,
     "metadata": {},
     "output_type": "execute_result"
    }
   ],
   "source": [
    "users_types"
   ],
   "metadata": {
    "collapsed": false,
    "pycharm": {
     "name": "#%%\n"
    }
   }
  },
  {
   "cell_type": "code",
   "execution_count": 20,
   "outputs": [
    {
     "name": "stderr",
     "output_type": "stream",
     "text": [
      "<ipython-input-20-fb20bd491691>:3: SettingWithCopyWarning: \n",
      "A value is trying to be set on a copy of a slice from a DataFrame\n",
      "\n",
      "See the caveats in the documentation: https://pandas.pydata.org/pandas-docs/stable/user_guide/indexing.html#returning-a-view-versus-a-copy\n",
      "  users_types.loc[row.user_uid][row.type] = row.second\n",
      "C:\\ProgramData\\Anaconda3\\lib\\site-packages\\pandas\\core\\indexing.py:670: SettingWithCopyWarning: \n",
      "A value is trying to be set on a copy of a slice from a DataFrame\n",
      "\n",
      "See the caveats in the documentation: https://pandas.pydata.org/pandas-docs/stable/user_guide/indexing.html#returning-a-view-versus-a-copy\n",
      "  iloc._setitem_with_indexer(indexer, value)\n",
      "C:\\ProgramData\\Anaconda3\\lib\\site-packages\\pandas\\core\\series.py:1008: SettingWithCopyWarning: \n",
      "A value is trying to be set on a copy of a slice from a DataFrame\n",
      "\n",
      "See the caveats in the documentation: https://pandas.pydata.org/pandas-docs/stable/user_guide/indexing.html#returning-a-view-versus-a-copy\n",
      "  self.loc[key] = value\n"
     ]
    }
   ],
   "source": [
    "for _, row in type_history.iterrows():\n",
    "\n",
    "    users_types.loc[row.user_uid][row.type] = row.second"
   ],
   "metadata": {
    "collapsed": false,
    "pycharm": {
     "name": "#%%\n"
    }
   }
  },
  {
   "cell_type": "code",
   "execution_count": 21,
   "outputs": [],
   "source": [
    "users_types.to_csv(f'{DATA_PATH}{POSTPROCESSING}user_content_types.csv')"
   ],
   "metadata": {
    "collapsed": false,
    "pycharm": {
     "name": "#%%\n"
    }
   }
  },
  {
   "cell_type": "markdown",
   "source": [
    "Создание новой таблицы - сколько посмотрел пользователь по жанрам"
   ],
   "metadata": {
    "collapsed": false,
    "pycharm": {
     "name": "#%% md\n"
    }
   }
  },
  {
   "cell_type": "code",
   "execution_count": 22,
   "outputs": [
    {
     "data": {
      "text/plain": "        user_uid  second  игровой  шоу  музыка  комедия  мелодрама  драма  \\\n0              1     627        0    0       0        0          0      0   \n1            481    8129        0    0       0        0          0      0   \n2            577      65        0    0       0        0          0      0   \n3           1780     429        0    0       0        0          0      0   \n4           2271     152        0    0       0        0          0      0   \n...          ...     ...      ...  ...     ...      ...        ...    ...   \n981247   1270616      19        0    1       0        0          0      0   \n981248   1276791       3        0    1       0        0          0      0   \n981249   1295114     310        0    1       0        0          0      0   \n981250   1299863     511        0    1       0        0          0      0   \n981251   1301845     825        0    1       0        0          0      0   \n\n        комедийный  фэнтезийный  ...  молодёжь  детский  ситком  индонезия  \\\n0                0            0  ...         0        0       0          0   \n1                0            0  ...         0        0       0          0   \n2                0            0  ...         0        0       0          0   \n3                0            0  ...         0        0       0          0   \n4                0            0  ...         0        0       0          0   \n...            ...          ...  ...       ...      ...     ...        ...   \n981247           0            0  ...         0        0       0          0   \n981248           0            0  ...         0        0       0          0   \n981249           0            0  ...         0        0       0          0   \n981250           0            0  ...         0        0       0          0   \n981251           0            0  ...         0        0       0          0   \n\n        психологический  увлечение  досуг  концерт  скетчкома  интервью  \n0                     0          0      0        0          0         0  \n1                     0          0      0        0          0         0  \n2                     0          0      0        0          0         0  \n3                     0          0      0        0          0         0  \n4                     0          0      0        0          0         0  \n...                 ...        ...    ...      ...        ...       ...  \n981247                0          0      0        0          0         0  \n981248                0          0      0        0          0         0  \n981249                0          0      0        0          0         0  \n981250                0          0      0        0          0         0  \n981251                0          0      0        0          0         0  \n\n[981252 rows x 73 columns]",
      "text/html": "<div>\n<style scoped>\n    .dataframe tbody tr th:only-of-type {\n        vertical-align: middle;\n    }\n\n    .dataframe tbody tr th {\n        vertical-align: top;\n    }\n\n    .dataframe thead th {\n        text-align: right;\n    }\n</style>\n<table border=\"1\" class=\"dataframe\">\n  <thead>\n    <tr style=\"text-align: right;\">\n      <th></th>\n      <th>user_uid</th>\n      <th>second</th>\n      <th>игровой</th>\n      <th>шоу</th>\n      <th>музыка</th>\n      <th>комедия</th>\n      <th>мелодрама</th>\n      <th>драма</th>\n      <th>комедийный</th>\n      <th>фэнтезийный</th>\n      <th>...</th>\n      <th>молодёжь</th>\n      <th>детский</th>\n      <th>ситком</th>\n      <th>индонезия</th>\n      <th>психологический</th>\n      <th>увлечение</th>\n      <th>досуг</th>\n      <th>концерт</th>\n      <th>скетчкома</th>\n      <th>интервью</th>\n    </tr>\n  </thead>\n  <tbody>\n    <tr>\n      <th>0</th>\n      <td>1</td>\n      <td>627</td>\n      <td>0</td>\n      <td>0</td>\n      <td>0</td>\n      <td>0</td>\n      <td>0</td>\n      <td>0</td>\n      <td>0</td>\n      <td>0</td>\n      <td>...</td>\n      <td>0</td>\n      <td>0</td>\n      <td>0</td>\n      <td>0</td>\n      <td>0</td>\n      <td>0</td>\n      <td>0</td>\n      <td>0</td>\n      <td>0</td>\n      <td>0</td>\n    </tr>\n    <tr>\n      <th>1</th>\n      <td>481</td>\n      <td>8129</td>\n      <td>0</td>\n      <td>0</td>\n      <td>0</td>\n      <td>0</td>\n      <td>0</td>\n      <td>0</td>\n      <td>0</td>\n      <td>0</td>\n      <td>...</td>\n      <td>0</td>\n      <td>0</td>\n      <td>0</td>\n      <td>0</td>\n      <td>0</td>\n      <td>0</td>\n      <td>0</td>\n      <td>0</td>\n      <td>0</td>\n      <td>0</td>\n    </tr>\n    <tr>\n      <th>2</th>\n      <td>577</td>\n      <td>65</td>\n      <td>0</td>\n      <td>0</td>\n      <td>0</td>\n      <td>0</td>\n      <td>0</td>\n      <td>0</td>\n      <td>0</td>\n      <td>0</td>\n      <td>...</td>\n      <td>0</td>\n      <td>0</td>\n      <td>0</td>\n      <td>0</td>\n      <td>0</td>\n      <td>0</td>\n      <td>0</td>\n      <td>0</td>\n      <td>0</td>\n      <td>0</td>\n    </tr>\n    <tr>\n      <th>3</th>\n      <td>1780</td>\n      <td>429</td>\n      <td>0</td>\n      <td>0</td>\n      <td>0</td>\n      <td>0</td>\n      <td>0</td>\n      <td>0</td>\n      <td>0</td>\n      <td>0</td>\n      <td>...</td>\n      <td>0</td>\n      <td>0</td>\n      <td>0</td>\n      <td>0</td>\n      <td>0</td>\n      <td>0</td>\n      <td>0</td>\n      <td>0</td>\n      <td>0</td>\n      <td>0</td>\n    </tr>\n    <tr>\n      <th>4</th>\n      <td>2271</td>\n      <td>152</td>\n      <td>0</td>\n      <td>0</td>\n      <td>0</td>\n      <td>0</td>\n      <td>0</td>\n      <td>0</td>\n      <td>0</td>\n      <td>0</td>\n      <td>...</td>\n      <td>0</td>\n      <td>0</td>\n      <td>0</td>\n      <td>0</td>\n      <td>0</td>\n      <td>0</td>\n      <td>0</td>\n      <td>0</td>\n      <td>0</td>\n      <td>0</td>\n    </tr>\n    <tr>\n      <th>...</th>\n      <td>...</td>\n      <td>...</td>\n      <td>...</td>\n      <td>...</td>\n      <td>...</td>\n      <td>...</td>\n      <td>...</td>\n      <td>...</td>\n      <td>...</td>\n      <td>...</td>\n      <td>...</td>\n      <td>...</td>\n      <td>...</td>\n      <td>...</td>\n      <td>...</td>\n      <td>...</td>\n      <td>...</td>\n      <td>...</td>\n      <td>...</td>\n      <td>...</td>\n      <td>...</td>\n    </tr>\n    <tr>\n      <th>981247</th>\n      <td>1270616</td>\n      <td>19</td>\n      <td>0</td>\n      <td>1</td>\n      <td>0</td>\n      <td>0</td>\n      <td>0</td>\n      <td>0</td>\n      <td>0</td>\n      <td>0</td>\n      <td>...</td>\n      <td>0</td>\n      <td>0</td>\n      <td>0</td>\n      <td>0</td>\n      <td>0</td>\n      <td>0</td>\n      <td>0</td>\n      <td>0</td>\n      <td>0</td>\n      <td>0</td>\n    </tr>\n    <tr>\n      <th>981248</th>\n      <td>1276791</td>\n      <td>3</td>\n      <td>0</td>\n      <td>1</td>\n      <td>0</td>\n      <td>0</td>\n      <td>0</td>\n      <td>0</td>\n      <td>0</td>\n      <td>0</td>\n      <td>...</td>\n      <td>0</td>\n      <td>0</td>\n      <td>0</td>\n      <td>0</td>\n      <td>0</td>\n      <td>0</td>\n      <td>0</td>\n      <td>0</td>\n      <td>0</td>\n      <td>0</td>\n    </tr>\n    <tr>\n      <th>981249</th>\n      <td>1295114</td>\n      <td>310</td>\n      <td>0</td>\n      <td>1</td>\n      <td>0</td>\n      <td>0</td>\n      <td>0</td>\n      <td>0</td>\n      <td>0</td>\n      <td>0</td>\n      <td>...</td>\n      <td>0</td>\n      <td>0</td>\n      <td>0</td>\n      <td>0</td>\n      <td>0</td>\n      <td>0</td>\n      <td>0</td>\n      <td>0</td>\n      <td>0</td>\n      <td>0</td>\n    </tr>\n    <tr>\n      <th>981250</th>\n      <td>1299863</td>\n      <td>511</td>\n      <td>0</td>\n      <td>1</td>\n      <td>0</td>\n      <td>0</td>\n      <td>0</td>\n      <td>0</td>\n      <td>0</td>\n      <td>0</td>\n      <td>...</td>\n      <td>0</td>\n      <td>0</td>\n      <td>0</td>\n      <td>0</td>\n      <td>0</td>\n      <td>0</td>\n      <td>0</td>\n      <td>0</td>\n      <td>0</td>\n      <td>0</td>\n    </tr>\n    <tr>\n      <th>981251</th>\n      <td>1301845</td>\n      <td>825</td>\n      <td>0</td>\n      <td>1</td>\n      <td>0</td>\n      <td>0</td>\n      <td>0</td>\n      <td>0</td>\n      <td>0</td>\n      <td>0</td>\n      <td>...</td>\n      <td>0</td>\n      <td>0</td>\n      <td>0</td>\n      <td>0</td>\n      <td>0</td>\n      <td>0</td>\n      <td>0</td>\n      <td>0</td>\n      <td>0</td>\n      <td>0</td>\n    </tr>\n  </tbody>\n</table>\n<p>981252 rows × 73 columns</p>\n</div>"
     },
     "execution_count": 22,
     "metadata": {},
     "output_type": "execute_result"
    }
   ],
   "source": [
    "users_genres = pd.merge(history, film_data, on='content_uid').drop(columns=['content_uid', 'type'])\n",
    "users_genres"
   ],
   "metadata": {
    "collapsed": false,
    "pycharm": {
     "name": "#%%\n"
    }
   }
  },
  {
   "cell_type": "code",
   "execution_count": 23,
   "outputs": [],
   "source": [
    "users_genres.iloc[:, 2:] = users_genres.iloc[:, 2:].apply(lambda x: x * users_genres.second)"
   ],
   "metadata": {
    "collapsed": false,
    "pycharm": {
     "name": "#%%\n"
    }
   }
  },
  {
   "cell_type": "code",
   "execution_count": 24,
   "outputs": [],
   "source": [
    "users_genres = users_genres.drop(columns='second').groupby(by='user_uid').sum()"
   ],
   "metadata": {
    "collapsed": false,
    "pycharm": {
     "name": "#%%\n"
    }
   }
  },
  {
   "cell_type": "code",
   "execution_count": 25,
   "outputs": [],
   "source": [
    "users_genres.to_csv(f'{DATA_PATH}{POSTPROCESSING}users_genres.csv')\n"
   ],
   "metadata": {
    "collapsed": false,
    "pycharm": {
     "name": "#%%\n"
    }
   }
  }
 ],
 "metadata": {
  "kernelspec": {
   "name": "pycharm-a7fa1f9b",
   "language": "python",
   "display_name": "PyCharm (jb_test_2)"
  },
  "language_info": {
   "codemirror_mode": {
    "name": "ipython",
    "version": 2
   },
   "file_extension": ".py",
   "mimetype": "text/x-python",
   "name": "python",
   "nbconvert_exporter": "python",
   "pygments_lexer": "ipython2",
   "version": "2.7.6"
  }
 },
 "nbformat": 4,
 "nbformat_minor": 0
}