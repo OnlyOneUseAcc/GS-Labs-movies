{
 "cells": [
  {
   "cell_type": "code",
   "execution_count": 42,
   "metadata": {
    "collapsed": true
   },
   "outputs": [],
   "source": [
    "import pandas as pd\n",
    "import numpy as np"
   ]
  },
  {
   "cell_type": "code",
   "execution_count": 43,
   "outputs": [],
   "source": [
    "DATA_PATH = '../data/'\n",
    "POSTPROCESSING = 'postprocessing/'"
   ],
   "metadata": {
    "collapsed": false,
    "pycharm": {
     "name": "#%%\n"
    }
   }
  },
  {
   "cell_type": "code",
   "execution_count": 44,
   "outputs": [],
   "source": [
    "content = pd.read_csv(f'{DATA_PATH}{POSTPROCESSING}content.csv',\n",
    "                      index_col='content_uid')"
   ],
   "metadata": {
    "collapsed": false,
    "pycharm": {
     "name": "#%%\n"
    }
   }
  },
  {
   "cell_type": "code",
   "execution_count": 45,
   "outputs": [
    {
     "data": {
      "text/plain": "name                 Ярмарка тщеславия\ntype                serial_with_season\nserial_id                          NaN\ngenres                    Сериал,Драма\nduration_seconds                 19704\nName: 10201, dtype: object"
     },
     "execution_count": 45,
     "metadata": {},
     "output_type": "execute_result"
    }
   ],
   "source": [
    "content.loc[10201]"
   ],
   "metadata": {
    "collapsed": false,
    "pycharm": {
     "name": "#%%\n"
    }
   }
  },
  {
   "cell_type": "code",
   "execution_count": 46,
   "outputs": [
    {
     "name": "stdout",
     "output_type": "stream",
     "text": [
      "<class 'pandas.core.frame.DataFrame'>\n",
      "Int64Index: 3829 entries, 9882 to 10190\n",
      "Data columns (total 5 columns):\n",
      " #   Column            Non-Null Count  Dtype  \n",
      "---  ------            --------------  -----  \n",
      " 0   name              3829 non-null   object \n",
      " 1   type              3829 non-null   object \n",
      " 2   serial_id         0 non-null      float64\n",
      " 3   genres            3810 non-null   object \n",
      " 4   duration_seconds  3829 non-null   float64\n",
      "dtypes: float64(2), object(3)\n",
      "memory usage: 339.5+ KB\n"
     ]
    }
   ],
   "source": [
    "content.info()"
   ],
   "metadata": {
    "collapsed": false,
    "pycharm": {
     "name": "#%%\n"
    }
   }
  },
  {
   "cell_type": "code",
   "execution_count": 47,
   "outputs": [],
   "source": [
    "content['genres'] = content['genres'].fillna('отсутствует')"
   ],
   "metadata": {
    "collapsed": false,
    "pycharm": {
     "name": "#%%\n"
    }
   }
  },
  {
   "cell_type": "code",
   "execution_count": 48,
   "outputs": [
    {
     "data": {
      "text/plain": "519"
     },
     "execution_count": 48,
     "metadata": {},
     "output_type": "execute_result"
    }
   ],
   "source": [
    "len(content['genres'].unique())"
   ],
   "metadata": {
    "collapsed": false,
    "pycharm": {
     "name": "#%%\n"
    }
   }
  },
  {
   "cell_type": "code",
   "execution_count": 49,
   "outputs": [],
   "source": [
    "import string\n",
    "import pymorphy2\n",
    "from nltk.stem import SnowballStemmer\n",
    "\n",
    "morph = pymorphy2.MorphAnalyzer()\n",
    "snowball = SnowballStemmer(language=\"russian\")"
   ],
   "metadata": {
    "collapsed": false,
    "pycharm": {
     "name": "#%%\n"
    }
   }
  },
  {
   "cell_type": "code",
   "execution_count": 50,
   "outputs": [
    {
     "name": "stderr",
     "output_type": "stream",
     "text": [
      "[nltk_data] Downloading package punkt to\n",
      "[nltk_data]     C:\\Users\\Алексей\\AppData\\Roaming\\nltk_data...\n",
      "[nltk_data]   Package punkt is already up-to-date!\n"
     ]
    }
   ],
   "source": [
    "import nltk\n",
    "nltk.download('punkt')\n",
    "from nltk.stem.snowball import RussianStemmer"
   ],
   "metadata": {
    "collapsed": false,
    "pycharm": {
     "name": "#%%\n"
    }
   }
  },
  {
   "cell_type": "code",
   "execution_count": 51,
   "outputs": [],
   "source": [
    "stemmer = RussianStemmer(False)"
   ],
   "metadata": {
    "collapsed": false,
    "pycharm": {
     "name": "#%%\n"
    }
   }
  },
  {
   "cell_type": "code",
   "execution_count": 52,
   "outputs": [],
   "source": [
    "content['genres'] = content['genres'].apply(\n",
    "    lambda x: [morph.parse(word.lower())[0].normal_form\n",
    "               for word in nltk.word_tokenize(x) if (word not in string.punctuation) and\n",
    "                    (word not in nltk.corpus.stopwords.words('russian'))]\n",
    ")\n"
   ],
   "metadata": {
    "collapsed": false,
    "pycharm": {
     "name": "#%%\n"
    }
   }
  },
  {
   "cell_type": "code",
   "execution_count": 53,
   "outputs": [],
   "source": [
    "all_genres = dict()\n",
    "unique = []\n",
    "for item in content.genres:\n",
    "    if 'и' in item:\n",
    "        print(item)\n",
    "    for word in item:\n",
    "        if word not in unique:\n",
    "            unique.append(word)\n",
    "        if word in all_genres.keys():\n",
    "            all_genres[word] += 1\n",
    "        else:\n",
    "            all_genres[word] = 1"
   ],
   "metadata": {
    "collapsed": false,
    "pycharm": {
     "name": "#%%\n"
    }
   }
  },
  {
   "cell_type": "code",
   "execution_count": 54,
   "outputs": [
    {
     "data": {
      "text/plain": "71"
     },
     "execution_count": 54,
     "metadata": {},
     "output_type": "execute_result"
    }
   ],
   "source": [
    "len(unique)"
   ],
   "metadata": {
    "collapsed": false,
    "pycharm": {
     "name": "#%%\n"
    }
   }
  },
  {
   "cell_type": "code",
   "execution_count": 55,
   "outputs": [
    {
     "data": {
      "text/plain": "{'игровой': 4,\n 'шоу': 166,\n 'музыка': 16,\n 'комедия': 856,\n 'мелодрама': 495,\n 'драма': 1398,\n 'комедийный': 113,\n 'фэнтезийный': 5,\n 'боевик': 470,\n 'приключение': 247,\n 'криминальный': 122,\n 'детектив': 230,\n 'триллер': 485,\n 'военный': 153,\n 'криминал': 185,\n 'ужас': 166,\n 'фантастика': 167,\n 'биографический': 34,\n 'фэнтези': 171,\n 'мюзикл': 38,\n 'хоррор': 7,\n 'документальный': 71,\n 'биография': 67,\n 'отсутствовать': 19,\n 'юмор': 37,\n 'стендап': 24,\n 'фантастический': 70,\n 'мультипликационный': 107,\n 'фильм': 158,\n 'спорт': 39,\n 'мистика': 28,\n 'исторический': 22,\n 'кулинария': 7,\n 'реалити-шоу': 43,\n 'мультфильм': 97,\n 'история': 30,\n 'испания': 16,\n 'приключенческий': 23,\n 'ребёнок': 19,\n 'семейный': 107,\n 'трагикомедия': 24,\n 'ток-шоу': 7,\n 'вестерн': 19,\n 'мультсериал': 61,\n 'романтический': 13,\n 'для': 3,\n 'взрослый': 3,\n 'анимация': 11,\n 'спортивный': 16,\n 'мистический': 5,\n 'путешествие': 4,\n 'сказка': 18,\n 'развлекательный': 13,\n 'программа': 16,\n 'научный': 1,\n 'викторин': 2,\n 'италия': 3,\n 'сериал': 8,\n 'развлечение': 7,\n 'чёрный': 7,\n 'мода': 1,\n 'молодёжь': 2,\n 'детский': 1,\n 'ситком': 1,\n 'индонезия': 2,\n 'психологический': 1,\n 'увлечение': 2,\n 'досуг': 2,\n 'концерт': 15,\n 'скетчкома': 3,\n 'интервью': 1}"
     },
     "execution_count": 55,
     "metadata": {},
     "output_type": "execute_result"
    }
   ],
   "source": [
    "all_genres"
   ],
   "metadata": {
    "collapsed": false,
    "pycharm": {
     "name": "#%%\n"
    }
   }
  },
  {
   "cell_type": "code",
   "execution_count": 56,
   "outputs": [
    {
     "data": {
      "text/plain": "content_uid\n9882      [игровой, шоу, музыка]\n19870                  [комедия]\n2312        [мелодрама, комедия]\n12655           [драма, комедия]\n25771        [комедийный, драма]\n                  ...           \n20786              [реалити-шоу]\n4037     [биографический, драма]\n10201            [сериал, драма]\n27405             [исторический]\n10190                [мелодрама]\nName: genres, Length: 3829, dtype: object"
     },
     "execution_count": 56,
     "metadata": {},
     "output_type": "execute_result"
    }
   ],
   "source": [
    "content.genres"
   ],
   "metadata": {
    "collapsed": false,
    "pycharm": {
     "name": "#%%\n"
    }
   }
  },
  {
   "cell_type": "code",
   "execution_count": 57,
   "outputs": [],
   "source": [
    "path = '../navec_hudlit_v1_12B_500K_300d_100q.tar'\n",
    "from navec import Navec\n",
    "\n",
    "navec = Navec.load(path)"
   ],
   "metadata": {
    "collapsed": false,
    "pycharm": {
     "name": "#%%\n"
    }
   }
  },
  {
   "cell_type": "code",
   "execution_count": 58,
   "outputs": [],
   "source": [
    "a = navec['для']\n",
    "b = navec['комедия']"
   ],
   "metadata": {
    "collapsed": false,
    "pycharm": {
     "name": "#%%\n"
    }
   }
  },
  {
   "cell_type": "code",
   "execution_count": 59,
   "outputs": [
    {
     "data": {
      "text/plain": "0.9862090367823839"
     },
     "execution_count": 59,
     "metadata": {},
     "output_type": "execute_result"
    }
   ],
   "source": [
    "from scipy.spatial.distance import cosine\n",
    "\n",
    "cosine(a, b)"
   ],
   "metadata": {
    "collapsed": false,
    "pycharm": {
     "name": "#%%\n"
    }
   }
  },
  {
   "cell_type": "code",
   "execution_count": 60,
   "outputs": [],
   "source": [
    "for item in unique:\n",
    "    for item2 in unique:\n",
    "        try:\n",
    "            if item != item2:\n",
    "                if 0.65 > cosine(navec[item], navec[item2]) > 0:\n",
    "                    #print(f'{item} - {item2}')\n",
    "                    pass\n",
    "        except KeyError:\n",
    "            #print(f'error - {item} - {item2}')\n",
    "            pass\n",
    "\n"
   ],
   "metadata": {
    "collapsed": false,
    "pycharm": {
     "name": "#%%\n"
    }
   }
  },
  {
   "cell_type": "code",
   "execution_count": 61,
   "outputs": [],
   "source": [
    "film_data = pd.DataFrame(columns=unique, index=content.index)\n",
    "film_data.fillna(0, inplace=True)\n",
    "\n",
    "for _, film in content.iterrows():\n",
    "    if film.genres != 'отсутствовать':\n",
    "        for genre in film.genres:\n",
    "            film_data.loc[film.name, genre] = 1\n"
   ],
   "metadata": {
    "collapsed": false,
    "pycharm": {
     "name": "#%%\n"
    }
   }
  },
  {
   "cell_type": "code",
   "execution_count": null,
   "outputs": [],
   "source": [
    "film_data.to_csv(f'{DATA_PATH}{POSTPROCESSING}film_genres.csv')"
   ],
   "metadata": {
    "collapsed": false,
    "pycharm": {
     "name": "#%%\n"
    }
   }
  },
  {
   "cell_type": "code",
   "execution_count": 62,
   "outputs": [],
   "source": [
    "history = pd.read_csv(f'{DATA_PATH}{POSTPROCESSING}watch_history.csv', index_col=0)\n",
    "users_types = pd.DataFrame(columns=[content.type.unique()], index=history.user_uid.unique()).fillna(0)"
   ],
   "metadata": {
    "collapsed": false,
    "pycharm": {
     "name": "#%%\n"
    }
   }
  },
  {
   "cell_type": "code",
   "execution_count": 63,
   "outputs": [
    {
     "data": {
      "text/plain": "        user_uid  content_uid  second\n0              1      11882.0     627\n1              1      26174.0    5693\n2              1      26719.0     400\n3              4       2829.0      12\n4              4       3836.0      64\n...          ...          ...     ...\n981247   1302881      29054.0     476\n981248   1302912      25224.0      16\n981249   1302913      27762.0     118\n981250   1302914      24797.0      26\n981251   1302914      28136.0      70\n\n[981252 rows x 3 columns]",
      "text/html": "<div>\n<style scoped>\n    .dataframe tbody tr th:only-of-type {\n        vertical-align: middle;\n    }\n\n    .dataframe tbody tr th {\n        vertical-align: top;\n    }\n\n    .dataframe thead th {\n        text-align: right;\n    }\n</style>\n<table border=\"1\" class=\"dataframe\">\n  <thead>\n    <tr style=\"text-align: right;\">\n      <th></th>\n      <th>user_uid</th>\n      <th>content_uid</th>\n      <th>second</th>\n    </tr>\n  </thead>\n  <tbody>\n    <tr>\n      <th>0</th>\n      <td>1</td>\n      <td>11882.0</td>\n      <td>627</td>\n    </tr>\n    <tr>\n      <th>1</th>\n      <td>1</td>\n      <td>26174.0</td>\n      <td>5693</td>\n    </tr>\n    <tr>\n      <th>2</th>\n      <td>1</td>\n      <td>26719.0</td>\n      <td>400</td>\n    </tr>\n    <tr>\n      <th>3</th>\n      <td>4</td>\n      <td>2829.0</td>\n      <td>12</td>\n    </tr>\n    <tr>\n      <th>4</th>\n      <td>4</td>\n      <td>3836.0</td>\n      <td>64</td>\n    </tr>\n    <tr>\n      <th>...</th>\n      <td>...</td>\n      <td>...</td>\n      <td>...</td>\n    </tr>\n    <tr>\n      <th>981247</th>\n      <td>1302881</td>\n      <td>29054.0</td>\n      <td>476</td>\n    </tr>\n    <tr>\n      <th>981248</th>\n      <td>1302912</td>\n      <td>25224.0</td>\n      <td>16</td>\n    </tr>\n    <tr>\n      <th>981249</th>\n      <td>1302913</td>\n      <td>27762.0</td>\n      <td>118</td>\n    </tr>\n    <tr>\n      <th>981250</th>\n      <td>1302914</td>\n      <td>24797.0</td>\n      <td>26</td>\n    </tr>\n    <tr>\n      <th>981251</th>\n      <td>1302914</td>\n      <td>28136.0</td>\n      <td>70</td>\n    </tr>\n  </tbody>\n</table>\n<p>981252 rows × 3 columns</p>\n</div>"
     },
     "execution_count": 63,
     "metadata": {},
     "output_type": "execute_result"
    }
   ],
   "source": [
    "history"
   ],
   "metadata": {
    "collapsed": false,
    "pycharm": {
     "name": "#%%\n"
    }
   }
  },
  {
   "cell_type": "code",
   "execution_count": 64,
   "outputs": [],
   "source": [
    "history['type'] = content.loc[history.content_uid.values]['type'].values"
   ],
   "metadata": {
    "collapsed": false,
    "pycharm": {
     "name": "#%%\n"
    }
   }
  },
  {
   "cell_type": "code",
   "execution_count": 65,
   "outputs": [
    {
     "data": {
      "text/plain": "        user_uid                type  second\n0              1               movie    6720\n1              4               movie   23638\n2              4  serial_with_season   30169\n3             25               movie   23969\n4             25  serial_with_season     665\n...          ...                 ...     ...\n265196   1302880               movie      26\n265197   1302881               movie   87822\n265198   1302912               movie      16\n265199   1302913               movie     118\n265200   1302914               movie      96\n\n[265201 rows x 3 columns]",
      "text/html": "<div>\n<style scoped>\n    .dataframe tbody tr th:only-of-type {\n        vertical-align: middle;\n    }\n\n    .dataframe tbody tr th {\n        vertical-align: top;\n    }\n\n    .dataframe thead th {\n        text-align: right;\n    }\n</style>\n<table border=\"1\" class=\"dataframe\">\n  <thead>\n    <tr style=\"text-align: right;\">\n      <th></th>\n      <th>user_uid</th>\n      <th>type</th>\n      <th>second</th>\n    </tr>\n  </thead>\n  <tbody>\n    <tr>\n      <th>0</th>\n      <td>1</td>\n      <td>movie</td>\n      <td>6720</td>\n    </tr>\n    <tr>\n      <th>1</th>\n      <td>4</td>\n      <td>movie</td>\n      <td>23638</td>\n    </tr>\n    <tr>\n      <th>2</th>\n      <td>4</td>\n      <td>serial_with_season</td>\n      <td>30169</td>\n    </tr>\n    <tr>\n      <th>3</th>\n      <td>25</td>\n      <td>movie</td>\n      <td>23969</td>\n    </tr>\n    <tr>\n      <th>4</th>\n      <td>25</td>\n      <td>serial_with_season</td>\n      <td>665</td>\n    </tr>\n    <tr>\n      <th>...</th>\n      <td>...</td>\n      <td>...</td>\n      <td>...</td>\n    </tr>\n    <tr>\n      <th>265196</th>\n      <td>1302880</td>\n      <td>movie</td>\n      <td>26</td>\n    </tr>\n    <tr>\n      <th>265197</th>\n      <td>1302881</td>\n      <td>movie</td>\n      <td>87822</td>\n    </tr>\n    <tr>\n      <th>265198</th>\n      <td>1302912</td>\n      <td>movie</td>\n      <td>16</td>\n    </tr>\n    <tr>\n      <th>265199</th>\n      <td>1302913</td>\n      <td>movie</td>\n      <td>118</td>\n    </tr>\n    <tr>\n      <th>265200</th>\n      <td>1302914</td>\n      <td>movie</td>\n      <td>96</td>\n    </tr>\n  </tbody>\n</table>\n<p>265201 rows × 3 columns</p>\n</div>"
     },
     "execution_count": 65,
     "metadata": {},
     "output_type": "execute_result"
    }
   ],
   "source": [
    "type_history = history[['type', 'second','user_uid']].groupby(by=['user_uid', 'type']).sum().reset_index()\n",
    "type_history"
   ],
   "metadata": {
    "collapsed": false,
    "pycharm": {
     "name": "#%%\n"
    }
   }
  },
  {
   "cell_type": "code",
   "execution_count": 66,
   "outputs": [
    {
     "data": {
      "text/plain": "        serial_with_season movie serial_without_season\n1                        0     0                     0\n4                        0     0                     0\n25                       0     0                     0\n43                       0     0                     0\n45                       0     0                     0\n...                    ...   ...                   ...\n1302880                  0     0                     0\n1302881                  0     0                     0\n1302912                  0     0                     0\n1302913                  0     0                     0\n1302914                  0     0                     0\n\n[233180 rows x 3 columns]",
      "text/html": "<div>\n<style scoped>\n    .dataframe tbody tr th:only-of-type {\n        vertical-align: middle;\n    }\n\n    .dataframe tbody tr th {\n        vertical-align: top;\n    }\n\n    .dataframe thead tr th {\n        text-align: left;\n    }\n</style>\n<table border=\"1\" class=\"dataframe\">\n  <thead>\n    <tr>\n      <th></th>\n      <th>serial_with_season</th>\n      <th>movie</th>\n      <th>serial_without_season</th>\n    </tr>\n  </thead>\n  <tbody>\n    <tr>\n      <th>1</th>\n      <td>0</td>\n      <td>0</td>\n      <td>0</td>\n    </tr>\n    <tr>\n      <th>4</th>\n      <td>0</td>\n      <td>0</td>\n      <td>0</td>\n    </tr>\n    <tr>\n      <th>25</th>\n      <td>0</td>\n      <td>0</td>\n      <td>0</td>\n    </tr>\n    <tr>\n      <th>43</th>\n      <td>0</td>\n      <td>0</td>\n      <td>0</td>\n    </tr>\n    <tr>\n      <th>45</th>\n      <td>0</td>\n      <td>0</td>\n      <td>0</td>\n    </tr>\n    <tr>\n      <th>...</th>\n      <td>...</td>\n      <td>...</td>\n      <td>...</td>\n    </tr>\n    <tr>\n      <th>1302880</th>\n      <td>0</td>\n      <td>0</td>\n      <td>0</td>\n    </tr>\n    <tr>\n      <th>1302881</th>\n      <td>0</td>\n      <td>0</td>\n      <td>0</td>\n    </tr>\n    <tr>\n      <th>1302912</th>\n      <td>0</td>\n      <td>0</td>\n      <td>0</td>\n    </tr>\n    <tr>\n      <th>1302913</th>\n      <td>0</td>\n      <td>0</td>\n      <td>0</td>\n    </tr>\n    <tr>\n      <th>1302914</th>\n      <td>0</td>\n      <td>0</td>\n      <td>0</td>\n    </tr>\n  </tbody>\n</table>\n<p>233180 rows × 3 columns</p>\n</div>"
     },
     "execution_count": 66,
     "metadata": {},
     "output_type": "execute_result"
    }
   ],
   "source": [
    "users_types"
   ],
   "metadata": {
    "collapsed": false,
    "pycharm": {
     "name": "#%%\n"
    }
   }
  },
  {
   "cell_type": "code",
   "execution_count": 67,
   "outputs": [],
   "source": [
    "for _, row in type_history.iterrows():\n",
    "\n",
    "    users_types.loc[row.user_uid][row.type] = row.second"
   ],
   "metadata": {
    "collapsed": false,
    "pycharm": {
     "name": "#%%\n"
    }
   }
  },
  {
   "cell_type": "code",
   "execution_count": null,
   "outputs": [],
   "source": [
    "users_types.to_csv(f'{DATA_PATH}{POSTPROCESSING}user_content_types.csv')"
   ],
   "metadata": {
    "collapsed": false,
    "pycharm": {
     "name": "#%%\n"
    }
   }
  },
  {
   "cell_type": "code",
   "execution_count": 68,
   "outputs": [
    {
     "data": {
      "text/plain": "             игровой  шоу  музыка  комедия  мелодрама  драма  комедийный  \\\ncontent_uid                                                                \n9882               1    1       1        0          0      0           0   \n19870              0    0       0        1          0      0           0   \n2312               0    0       0        1          1      0           0   \n12655              0    0       0        1          0      1           0   \n25771              0    0       0        0          0      1           1   \n...              ...  ...     ...      ...        ...    ...         ...   \n20786              0    0       0        0          0      0           0   \n4037               0    0       0        0          0      1           0   \n10201              0    0       0        0          0      1           0   \n27405              0    0       0        0          0      0           0   \n10190              0    0       0        0          1      0           0   \n\n             фэнтезийный  боевик  приключение  ...  молодёжь  детский  ситком  \\\ncontent_uid                                    ...                              \n9882                   0       0            0  ...         0        0       0   \n19870                  0       0            0  ...         0        0       0   \n2312                   0       0            0  ...         0        0       0   \n12655                  0       0            0  ...         0        0       0   \n25771                  0       0            0  ...         0        0       0   \n...                  ...     ...          ...  ...       ...      ...     ...   \n20786                  0       0            0  ...         0        0       0   \n4037                   0       0            0  ...         0        0       0   \n10201                  0       0            0  ...         0        0       0   \n27405                  0       0            0  ...         0        0       0   \n10190                  0       0            0  ...         0        0       0   \n\n             индонезия  психологический  увлечение  досуг  концерт  скетчкома  \\\ncontent_uid                                                                     \n9882                 0                0          0      0        0          0   \n19870                0                0          0      0        0          0   \n2312                 0                0          0      0        0          0   \n12655                0                0          0      0        0          0   \n25771                0                0          0      0        0          0   \n...                ...              ...        ...    ...      ...        ...   \n20786                0                0          0      0        0          0   \n4037                 0                0          0      0        0          0   \n10201                0                0          0      0        0          0   \n27405                0                0          0      0        0          0   \n10190                0                0          0      0        0          0   \n\n             интервью  \ncontent_uid            \n9882                0  \n19870               0  \n2312                0  \n12655               0  \n25771               0  \n...               ...  \n20786               0  \n4037                0  \n10201               0  \n27405               0  \n10190               0  \n\n[3829 rows x 71 columns]",
      "text/html": "<div>\n<style scoped>\n    .dataframe tbody tr th:only-of-type {\n        vertical-align: middle;\n    }\n\n    .dataframe tbody tr th {\n        vertical-align: top;\n    }\n\n    .dataframe thead th {\n        text-align: right;\n    }\n</style>\n<table border=\"1\" class=\"dataframe\">\n  <thead>\n    <tr style=\"text-align: right;\">\n      <th></th>\n      <th>игровой</th>\n      <th>шоу</th>\n      <th>музыка</th>\n      <th>комедия</th>\n      <th>мелодрама</th>\n      <th>драма</th>\n      <th>комедийный</th>\n      <th>фэнтезийный</th>\n      <th>боевик</th>\n      <th>приключение</th>\n      <th>...</th>\n      <th>молодёжь</th>\n      <th>детский</th>\n      <th>ситком</th>\n      <th>индонезия</th>\n      <th>психологический</th>\n      <th>увлечение</th>\n      <th>досуг</th>\n      <th>концерт</th>\n      <th>скетчкома</th>\n      <th>интервью</th>\n    </tr>\n    <tr>\n      <th>content_uid</th>\n      <th></th>\n      <th></th>\n      <th></th>\n      <th></th>\n      <th></th>\n      <th></th>\n      <th></th>\n      <th></th>\n      <th></th>\n      <th></th>\n      <th></th>\n      <th></th>\n      <th></th>\n      <th></th>\n      <th></th>\n      <th></th>\n      <th></th>\n      <th></th>\n      <th></th>\n      <th></th>\n      <th></th>\n    </tr>\n  </thead>\n  <tbody>\n    <tr>\n      <th>9882</th>\n      <td>1</td>\n      <td>1</td>\n      <td>1</td>\n      <td>0</td>\n      <td>0</td>\n      <td>0</td>\n      <td>0</td>\n      <td>0</td>\n      <td>0</td>\n      <td>0</td>\n      <td>...</td>\n      <td>0</td>\n      <td>0</td>\n      <td>0</td>\n      <td>0</td>\n      <td>0</td>\n      <td>0</td>\n      <td>0</td>\n      <td>0</td>\n      <td>0</td>\n      <td>0</td>\n    </tr>\n    <tr>\n      <th>19870</th>\n      <td>0</td>\n      <td>0</td>\n      <td>0</td>\n      <td>1</td>\n      <td>0</td>\n      <td>0</td>\n      <td>0</td>\n      <td>0</td>\n      <td>0</td>\n      <td>0</td>\n      <td>...</td>\n      <td>0</td>\n      <td>0</td>\n      <td>0</td>\n      <td>0</td>\n      <td>0</td>\n      <td>0</td>\n      <td>0</td>\n      <td>0</td>\n      <td>0</td>\n      <td>0</td>\n    </tr>\n    <tr>\n      <th>2312</th>\n      <td>0</td>\n      <td>0</td>\n      <td>0</td>\n      <td>1</td>\n      <td>1</td>\n      <td>0</td>\n      <td>0</td>\n      <td>0</td>\n      <td>0</td>\n      <td>0</td>\n      <td>...</td>\n      <td>0</td>\n      <td>0</td>\n      <td>0</td>\n      <td>0</td>\n      <td>0</td>\n      <td>0</td>\n      <td>0</td>\n      <td>0</td>\n      <td>0</td>\n      <td>0</td>\n    </tr>\n    <tr>\n      <th>12655</th>\n      <td>0</td>\n      <td>0</td>\n      <td>0</td>\n      <td>1</td>\n      <td>0</td>\n      <td>1</td>\n      <td>0</td>\n      <td>0</td>\n      <td>0</td>\n      <td>0</td>\n      <td>...</td>\n      <td>0</td>\n      <td>0</td>\n      <td>0</td>\n      <td>0</td>\n      <td>0</td>\n      <td>0</td>\n      <td>0</td>\n      <td>0</td>\n      <td>0</td>\n      <td>0</td>\n    </tr>\n    <tr>\n      <th>25771</th>\n      <td>0</td>\n      <td>0</td>\n      <td>0</td>\n      <td>0</td>\n      <td>0</td>\n      <td>1</td>\n      <td>1</td>\n      <td>0</td>\n      <td>0</td>\n      <td>0</td>\n      <td>...</td>\n      <td>0</td>\n      <td>0</td>\n      <td>0</td>\n      <td>0</td>\n      <td>0</td>\n      <td>0</td>\n      <td>0</td>\n      <td>0</td>\n      <td>0</td>\n      <td>0</td>\n    </tr>\n    <tr>\n      <th>...</th>\n      <td>...</td>\n      <td>...</td>\n      <td>...</td>\n      <td>...</td>\n      <td>...</td>\n      <td>...</td>\n      <td>...</td>\n      <td>...</td>\n      <td>...</td>\n      <td>...</td>\n      <td>...</td>\n      <td>...</td>\n      <td>...</td>\n      <td>...</td>\n      <td>...</td>\n      <td>...</td>\n      <td>...</td>\n      <td>...</td>\n      <td>...</td>\n      <td>...</td>\n      <td>...</td>\n    </tr>\n    <tr>\n      <th>20786</th>\n      <td>0</td>\n      <td>0</td>\n      <td>0</td>\n      <td>0</td>\n      <td>0</td>\n      <td>0</td>\n      <td>0</td>\n      <td>0</td>\n      <td>0</td>\n      <td>0</td>\n      <td>...</td>\n      <td>0</td>\n      <td>0</td>\n      <td>0</td>\n      <td>0</td>\n      <td>0</td>\n      <td>0</td>\n      <td>0</td>\n      <td>0</td>\n      <td>0</td>\n      <td>0</td>\n    </tr>\n    <tr>\n      <th>4037</th>\n      <td>0</td>\n      <td>0</td>\n      <td>0</td>\n      <td>0</td>\n      <td>0</td>\n      <td>1</td>\n      <td>0</td>\n      <td>0</td>\n      <td>0</td>\n      <td>0</td>\n      <td>...</td>\n      <td>0</td>\n      <td>0</td>\n      <td>0</td>\n      <td>0</td>\n      <td>0</td>\n      <td>0</td>\n      <td>0</td>\n      <td>0</td>\n      <td>0</td>\n      <td>0</td>\n    </tr>\n    <tr>\n      <th>10201</th>\n      <td>0</td>\n      <td>0</td>\n      <td>0</td>\n      <td>0</td>\n      <td>0</td>\n      <td>1</td>\n      <td>0</td>\n      <td>0</td>\n      <td>0</td>\n      <td>0</td>\n      <td>...</td>\n      <td>0</td>\n      <td>0</td>\n      <td>0</td>\n      <td>0</td>\n      <td>0</td>\n      <td>0</td>\n      <td>0</td>\n      <td>0</td>\n      <td>0</td>\n      <td>0</td>\n    </tr>\n    <tr>\n      <th>27405</th>\n      <td>0</td>\n      <td>0</td>\n      <td>0</td>\n      <td>0</td>\n      <td>0</td>\n      <td>0</td>\n      <td>0</td>\n      <td>0</td>\n      <td>0</td>\n      <td>0</td>\n      <td>...</td>\n      <td>0</td>\n      <td>0</td>\n      <td>0</td>\n      <td>0</td>\n      <td>0</td>\n      <td>0</td>\n      <td>0</td>\n      <td>0</td>\n      <td>0</td>\n      <td>0</td>\n    </tr>\n    <tr>\n      <th>10190</th>\n      <td>0</td>\n      <td>0</td>\n      <td>0</td>\n      <td>0</td>\n      <td>1</td>\n      <td>0</td>\n      <td>0</td>\n      <td>0</td>\n      <td>0</td>\n      <td>0</td>\n      <td>...</td>\n      <td>0</td>\n      <td>0</td>\n      <td>0</td>\n      <td>0</td>\n      <td>0</td>\n      <td>0</td>\n      <td>0</td>\n      <td>0</td>\n      <td>0</td>\n      <td>0</td>\n    </tr>\n  </tbody>\n</table>\n<p>3829 rows × 71 columns</p>\n</div>"
     },
     "execution_count": 68,
     "metadata": {},
     "output_type": "execute_result"
    }
   ],
   "source": [
    "film_data"
   ],
   "metadata": {
    "collapsed": false,
    "pycharm": {
     "name": "#%%\n"
    }
   }
  },
  {
   "cell_type": "code",
   "execution_count": 69,
   "outputs": [
    {
     "data": {
      "text/plain": "        user_uid  second  игровой  шоу  музыка  комедия  мелодрама  драма  \\\n0              1     627        0    0       0        0          0      0   \n1            481    8129        0    0       0        0          0      0   \n2            577      65        0    0       0        0          0      0   \n3           1780     429        0    0       0        0          0      0   \n4           2271     152        0    0       0        0          0      0   \n...          ...     ...      ...  ...     ...      ...        ...    ...   \n981247   1270616      19        0    1       0        0          0      0   \n981248   1276791       3        0    1       0        0          0      0   \n981249   1295114     310        0    1       0        0          0      0   \n981250   1299863     511        0    1       0        0          0      0   \n981251   1301845     825        0    1       0        0          0      0   \n\n        комедийный  фэнтезийный  ...  молодёжь  детский  ситком  индонезия  \\\n0                0            0  ...         0        0       0          0   \n1                0            0  ...         0        0       0          0   \n2                0            0  ...         0        0       0          0   \n3                0            0  ...         0        0       0          0   \n4                0            0  ...         0        0       0          0   \n...            ...          ...  ...       ...      ...     ...        ...   \n981247           0            0  ...         0        0       0          0   \n981248           0            0  ...         0        0       0          0   \n981249           0            0  ...         0        0       0          0   \n981250           0            0  ...         0        0       0          0   \n981251           0            0  ...         0        0       0          0   \n\n        психологический  увлечение  досуг  концерт  скетчкома  интервью  \n0                     0          0      0        0          0         0  \n1                     0          0      0        0          0         0  \n2                     0          0      0        0          0         0  \n3                     0          0      0        0          0         0  \n4                     0          0      0        0          0         0  \n...                 ...        ...    ...      ...        ...       ...  \n981247                0          0      0        0          0         0  \n981248                0          0      0        0          0         0  \n981249                0          0      0        0          0         0  \n981250                0          0      0        0          0         0  \n981251                0          0      0        0          0         0  \n\n[981252 rows x 73 columns]",
      "text/html": "<div>\n<style scoped>\n    .dataframe tbody tr th:only-of-type {\n        vertical-align: middle;\n    }\n\n    .dataframe tbody tr th {\n        vertical-align: top;\n    }\n\n    .dataframe thead th {\n        text-align: right;\n    }\n</style>\n<table border=\"1\" class=\"dataframe\">\n  <thead>\n    <tr style=\"text-align: right;\">\n      <th></th>\n      <th>user_uid</th>\n      <th>second</th>\n      <th>игровой</th>\n      <th>шоу</th>\n      <th>музыка</th>\n      <th>комедия</th>\n      <th>мелодрама</th>\n      <th>драма</th>\n      <th>комедийный</th>\n      <th>фэнтезийный</th>\n      <th>...</th>\n      <th>молодёжь</th>\n      <th>детский</th>\n      <th>ситком</th>\n      <th>индонезия</th>\n      <th>психологический</th>\n      <th>увлечение</th>\n      <th>досуг</th>\n      <th>концерт</th>\n      <th>скетчкома</th>\n      <th>интервью</th>\n    </tr>\n  </thead>\n  <tbody>\n    <tr>\n      <th>0</th>\n      <td>1</td>\n      <td>627</td>\n      <td>0</td>\n      <td>0</td>\n      <td>0</td>\n      <td>0</td>\n      <td>0</td>\n      <td>0</td>\n      <td>0</td>\n      <td>0</td>\n      <td>...</td>\n      <td>0</td>\n      <td>0</td>\n      <td>0</td>\n      <td>0</td>\n      <td>0</td>\n      <td>0</td>\n      <td>0</td>\n      <td>0</td>\n      <td>0</td>\n      <td>0</td>\n    </tr>\n    <tr>\n      <th>1</th>\n      <td>481</td>\n      <td>8129</td>\n      <td>0</td>\n      <td>0</td>\n      <td>0</td>\n      <td>0</td>\n      <td>0</td>\n      <td>0</td>\n      <td>0</td>\n      <td>0</td>\n      <td>...</td>\n      <td>0</td>\n      <td>0</td>\n      <td>0</td>\n      <td>0</td>\n      <td>0</td>\n      <td>0</td>\n      <td>0</td>\n      <td>0</td>\n      <td>0</td>\n      <td>0</td>\n    </tr>\n    <tr>\n      <th>2</th>\n      <td>577</td>\n      <td>65</td>\n      <td>0</td>\n      <td>0</td>\n      <td>0</td>\n      <td>0</td>\n      <td>0</td>\n      <td>0</td>\n      <td>0</td>\n      <td>0</td>\n      <td>...</td>\n      <td>0</td>\n      <td>0</td>\n      <td>0</td>\n      <td>0</td>\n      <td>0</td>\n      <td>0</td>\n      <td>0</td>\n      <td>0</td>\n      <td>0</td>\n      <td>0</td>\n    </tr>\n    <tr>\n      <th>3</th>\n      <td>1780</td>\n      <td>429</td>\n      <td>0</td>\n      <td>0</td>\n      <td>0</td>\n      <td>0</td>\n      <td>0</td>\n      <td>0</td>\n      <td>0</td>\n      <td>0</td>\n      <td>...</td>\n      <td>0</td>\n      <td>0</td>\n      <td>0</td>\n      <td>0</td>\n      <td>0</td>\n      <td>0</td>\n      <td>0</td>\n      <td>0</td>\n      <td>0</td>\n      <td>0</td>\n    </tr>\n    <tr>\n      <th>4</th>\n      <td>2271</td>\n      <td>152</td>\n      <td>0</td>\n      <td>0</td>\n      <td>0</td>\n      <td>0</td>\n      <td>0</td>\n      <td>0</td>\n      <td>0</td>\n      <td>0</td>\n      <td>...</td>\n      <td>0</td>\n      <td>0</td>\n      <td>0</td>\n      <td>0</td>\n      <td>0</td>\n      <td>0</td>\n      <td>0</td>\n      <td>0</td>\n      <td>0</td>\n      <td>0</td>\n    </tr>\n    <tr>\n      <th>...</th>\n      <td>...</td>\n      <td>...</td>\n      <td>...</td>\n      <td>...</td>\n      <td>...</td>\n      <td>...</td>\n      <td>...</td>\n      <td>...</td>\n      <td>...</td>\n      <td>...</td>\n      <td>...</td>\n      <td>...</td>\n      <td>...</td>\n      <td>...</td>\n      <td>...</td>\n      <td>...</td>\n      <td>...</td>\n      <td>...</td>\n      <td>...</td>\n      <td>...</td>\n      <td>...</td>\n    </tr>\n    <tr>\n      <th>981247</th>\n      <td>1270616</td>\n      <td>19</td>\n      <td>0</td>\n      <td>1</td>\n      <td>0</td>\n      <td>0</td>\n      <td>0</td>\n      <td>0</td>\n      <td>0</td>\n      <td>0</td>\n      <td>...</td>\n      <td>0</td>\n      <td>0</td>\n      <td>0</td>\n      <td>0</td>\n      <td>0</td>\n      <td>0</td>\n      <td>0</td>\n      <td>0</td>\n      <td>0</td>\n      <td>0</td>\n    </tr>\n    <tr>\n      <th>981248</th>\n      <td>1276791</td>\n      <td>3</td>\n      <td>0</td>\n      <td>1</td>\n      <td>0</td>\n      <td>0</td>\n      <td>0</td>\n      <td>0</td>\n      <td>0</td>\n      <td>0</td>\n      <td>...</td>\n      <td>0</td>\n      <td>0</td>\n      <td>0</td>\n      <td>0</td>\n      <td>0</td>\n      <td>0</td>\n      <td>0</td>\n      <td>0</td>\n      <td>0</td>\n      <td>0</td>\n    </tr>\n    <tr>\n      <th>981249</th>\n      <td>1295114</td>\n      <td>310</td>\n      <td>0</td>\n      <td>1</td>\n      <td>0</td>\n      <td>0</td>\n      <td>0</td>\n      <td>0</td>\n      <td>0</td>\n      <td>0</td>\n      <td>...</td>\n      <td>0</td>\n      <td>0</td>\n      <td>0</td>\n      <td>0</td>\n      <td>0</td>\n      <td>0</td>\n      <td>0</td>\n      <td>0</td>\n      <td>0</td>\n      <td>0</td>\n    </tr>\n    <tr>\n      <th>981250</th>\n      <td>1299863</td>\n      <td>511</td>\n      <td>0</td>\n      <td>1</td>\n      <td>0</td>\n      <td>0</td>\n      <td>0</td>\n      <td>0</td>\n      <td>0</td>\n      <td>0</td>\n      <td>...</td>\n      <td>0</td>\n      <td>0</td>\n      <td>0</td>\n      <td>0</td>\n      <td>0</td>\n      <td>0</td>\n      <td>0</td>\n      <td>0</td>\n      <td>0</td>\n      <td>0</td>\n    </tr>\n    <tr>\n      <th>981251</th>\n      <td>1301845</td>\n      <td>825</td>\n      <td>0</td>\n      <td>1</td>\n      <td>0</td>\n      <td>0</td>\n      <td>0</td>\n      <td>0</td>\n      <td>0</td>\n      <td>0</td>\n      <td>...</td>\n      <td>0</td>\n      <td>0</td>\n      <td>0</td>\n      <td>0</td>\n      <td>0</td>\n      <td>0</td>\n      <td>0</td>\n      <td>0</td>\n      <td>0</td>\n      <td>0</td>\n    </tr>\n  </tbody>\n</table>\n<p>981252 rows × 73 columns</p>\n</div>"
     },
     "execution_count": 69,
     "metadata": {},
     "output_type": "execute_result"
    }
   ],
   "source": [
    "users_genres = pd.merge(history, film_data, on='content_uid').drop(columns=['content_uid', 'type'])\n",
    "users_genres"
   ],
   "metadata": {
    "collapsed": false,
    "pycharm": {
     "name": "#%%\n"
    }
   }
  },
  {
   "cell_type": "code",
   "execution_count": 70,
   "outputs": [],
   "source": [
    "users_genres.iloc[:, 2:] = users_genres.iloc[:, 2:].apply(lambda x: x * users_genres.second)"
   ],
   "metadata": {
    "collapsed": false,
    "pycharm": {
     "name": "#%%\n"
    }
   }
  },
  {
   "cell_type": "code",
   "execution_count": 71,
   "outputs": [],
   "source": [
    "users_genres = users_genres.drop(columns='second').groupby(by='user_uid').sum()"
   ],
   "metadata": {
    "collapsed": false,
    "pycharm": {
     "name": "#%%\n"
    }
   }
  },
  {
   "cell_type": "code",
   "execution_count": 75,
   "outputs": [],
   "source": [
    "\n",
    "users_genres.to_csv(f'{DATA_PATH}{POSTPROCESSING}users_genres.csv')"
   ],
   "metadata": {
    "collapsed": false,
    "pycharm": {
     "name": "#%%\n"
    }
   }
  },
  {
   "cell_type": "code",
   "execution_count": 72,
   "outputs": [
    {
     "data": {
      "text/plain": "          игровой  шоу  музыка  комедия  мелодрама  драма  комедийный  \\\nuser_uid                                                                \n1               0    0       0        0          0    400           0   \n4               0    0       0    27683      12981  12324        5154   \n25              0    0       0      900       6920  10666        1559   \n43              0    0       0      599         61     61           0   \n45              0    0       0     1470       1938   4257         293   \n...           ...  ...     ...      ...        ...    ...         ...   \n1302880         0    0       0        0          0      0           0   \n1302881         0    0       0    25366      13850  39685        7374   \n1302912         0    0       0        0          0     16           0   \n1302913         0    0       0        0          0      0           0   \n1302914         0    0       0       26          0     96           0   \n\n          фэнтезийный  боевик  приключение  ...  молодёжь  детский  ситком  \\\nuser_uid                                    ...                              \n1                   0       0            0  ...         0        0       0   \n4                   0       0            0  ...         0        0       0   \n25                  0   14166            0  ...         0        0       0   \n43                  0       0            0  ...         0        0       0   \n45                  0    6029            0  ...         0        0       0   \n...               ...     ...          ...  ...       ...      ...     ...   \n1302880             0       0            0  ...         0        0       0   \n1302881             0    4852          804  ...         0        0       0   \n1302912             0       0            0  ...         0        0       0   \n1302913             0       0            0  ...         0        0       0   \n1302914             0       0            0  ...         0        0       0   \n\n          индонезия  психологический  увлечение  досуг  концерт  скетчкома  \\\nuser_uid                                                                     \n1                 0                0          0      0        0          0   \n4                 0                0          0      0        0          0   \n25                0                0          0      0        0          0   \n43                0                0          0      0        0          0   \n45                0                0          0      0        0          0   \n...             ...              ...        ...    ...      ...        ...   \n1302880           0                0          0      0        0          0   \n1302881           0                0          0      0        0          0   \n1302912           0                0          0      0        0          0   \n1302913           0                0          0      0        0          0   \n1302914           0                0          0      0        0          0   \n\n          интервью  \nuser_uid            \n1                0  \n4                0  \n25               0  \n43               0  \n45               0  \n...            ...  \n1302880          0  \n1302881          0  \n1302912          0  \n1302913          0  \n1302914          0  \n\n[233180 rows x 71 columns]",
      "text/html": "<div>\n<style scoped>\n    .dataframe tbody tr th:only-of-type {\n        vertical-align: middle;\n    }\n\n    .dataframe tbody tr th {\n        vertical-align: top;\n    }\n\n    .dataframe thead th {\n        text-align: right;\n    }\n</style>\n<table border=\"1\" class=\"dataframe\">\n  <thead>\n    <tr style=\"text-align: right;\">\n      <th></th>\n      <th>игровой</th>\n      <th>шоу</th>\n      <th>музыка</th>\n      <th>комедия</th>\n      <th>мелодрама</th>\n      <th>драма</th>\n      <th>комедийный</th>\n      <th>фэнтезийный</th>\n      <th>боевик</th>\n      <th>приключение</th>\n      <th>...</th>\n      <th>молодёжь</th>\n      <th>детский</th>\n      <th>ситком</th>\n      <th>индонезия</th>\n      <th>психологический</th>\n      <th>увлечение</th>\n      <th>досуг</th>\n      <th>концерт</th>\n      <th>скетчкома</th>\n      <th>интервью</th>\n    </tr>\n    <tr>\n      <th>user_uid</th>\n      <th></th>\n      <th></th>\n      <th></th>\n      <th></th>\n      <th></th>\n      <th></th>\n      <th></th>\n      <th></th>\n      <th></th>\n      <th></th>\n      <th></th>\n      <th></th>\n      <th></th>\n      <th></th>\n      <th></th>\n      <th></th>\n      <th></th>\n      <th></th>\n      <th></th>\n      <th></th>\n      <th></th>\n    </tr>\n  </thead>\n  <tbody>\n    <tr>\n      <th>1</th>\n      <td>0</td>\n      <td>0</td>\n      <td>0</td>\n      <td>0</td>\n      <td>0</td>\n      <td>400</td>\n      <td>0</td>\n      <td>0</td>\n      <td>0</td>\n      <td>0</td>\n      <td>...</td>\n      <td>0</td>\n      <td>0</td>\n      <td>0</td>\n      <td>0</td>\n      <td>0</td>\n      <td>0</td>\n      <td>0</td>\n      <td>0</td>\n      <td>0</td>\n      <td>0</td>\n    </tr>\n    <tr>\n      <th>4</th>\n      <td>0</td>\n      <td>0</td>\n      <td>0</td>\n      <td>27683</td>\n      <td>12981</td>\n      <td>12324</td>\n      <td>5154</td>\n      <td>0</td>\n      <td>0</td>\n      <td>0</td>\n      <td>...</td>\n      <td>0</td>\n      <td>0</td>\n      <td>0</td>\n      <td>0</td>\n      <td>0</td>\n      <td>0</td>\n      <td>0</td>\n      <td>0</td>\n      <td>0</td>\n      <td>0</td>\n    </tr>\n    <tr>\n      <th>25</th>\n      <td>0</td>\n      <td>0</td>\n      <td>0</td>\n      <td>900</td>\n      <td>6920</td>\n      <td>10666</td>\n      <td>1559</td>\n      <td>0</td>\n      <td>14166</td>\n      <td>0</td>\n      <td>...</td>\n      <td>0</td>\n      <td>0</td>\n      <td>0</td>\n      <td>0</td>\n      <td>0</td>\n      <td>0</td>\n      <td>0</td>\n      <td>0</td>\n      <td>0</td>\n      <td>0</td>\n    </tr>\n    <tr>\n      <th>43</th>\n      <td>0</td>\n      <td>0</td>\n      <td>0</td>\n      <td>599</td>\n      <td>61</td>\n      <td>61</td>\n      <td>0</td>\n      <td>0</td>\n      <td>0</td>\n      <td>0</td>\n      <td>...</td>\n      <td>0</td>\n      <td>0</td>\n      <td>0</td>\n      <td>0</td>\n      <td>0</td>\n      <td>0</td>\n      <td>0</td>\n      <td>0</td>\n      <td>0</td>\n      <td>0</td>\n    </tr>\n    <tr>\n      <th>45</th>\n      <td>0</td>\n      <td>0</td>\n      <td>0</td>\n      <td>1470</td>\n      <td>1938</td>\n      <td>4257</td>\n      <td>293</td>\n      <td>0</td>\n      <td>6029</td>\n      <td>0</td>\n      <td>...</td>\n      <td>0</td>\n      <td>0</td>\n      <td>0</td>\n      <td>0</td>\n      <td>0</td>\n      <td>0</td>\n      <td>0</td>\n      <td>0</td>\n      <td>0</td>\n      <td>0</td>\n    </tr>\n    <tr>\n      <th>...</th>\n      <td>...</td>\n      <td>...</td>\n      <td>...</td>\n      <td>...</td>\n      <td>...</td>\n      <td>...</td>\n      <td>...</td>\n      <td>...</td>\n      <td>...</td>\n      <td>...</td>\n      <td>...</td>\n      <td>...</td>\n      <td>...</td>\n      <td>...</td>\n      <td>...</td>\n      <td>...</td>\n      <td>...</td>\n      <td>...</td>\n      <td>...</td>\n      <td>...</td>\n      <td>...</td>\n    </tr>\n    <tr>\n      <th>1302880</th>\n      <td>0</td>\n      <td>0</td>\n      <td>0</td>\n      <td>0</td>\n      <td>0</td>\n      <td>0</td>\n      <td>0</td>\n      <td>0</td>\n      <td>0</td>\n      <td>0</td>\n      <td>...</td>\n      <td>0</td>\n      <td>0</td>\n      <td>0</td>\n      <td>0</td>\n      <td>0</td>\n      <td>0</td>\n      <td>0</td>\n      <td>0</td>\n      <td>0</td>\n      <td>0</td>\n    </tr>\n    <tr>\n      <th>1302881</th>\n      <td>0</td>\n      <td>0</td>\n      <td>0</td>\n      <td>25366</td>\n      <td>13850</td>\n      <td>39685</td>\n      <td>7374</td>\n      <td>0</td>\n      <td>4852</td>\n      <td>804</td>\n      <td>...</td>\n      <td>0</td>\n      <td>0</td>\n      <td>0</td>\n      <td>0</td>\n      <td>0</td>\n      <td>0</td>\n      <td>0</td>\n      <td>0</td>\n      <td>0</td>\n      <td>0</td>\n    </tr>\n    <tr>\n      <th>1302912</th>\n      <td>0</td>\n      <td>0</td>\n      <td>0</td>\n      <td>0</td>\n      <td>0</td>\n      <td>16</td>\n      <td>0</td>\n      <td>0</td>\n      <td>0</td>\n      <td>0</td>\n      <td>...</td>\n      <td>0</td>\n      <td>0</td>\n      <td>0</td>\n      <td>0</td>\n      <td>0</td>\n      <td>0</td>\n      <td>0</td>\n      <td>0</td>\n      <td>0</td>\n      <td>0</td>\n    </tr>\n    <tr>\n      <th>1302913</th>\n      <td>0</td>\n      <td>0</td>\n      <td>0</td>\n      <td>0</td>\n      <td>0</td>\n      <td>0</td>\n      <td>0</td>\n      <td>0</td>\n      <td>0</td>\n      <td>0</td>\n      <td>...</td>\n      <td>0</td>\n      <td>0</td>\n      <td>0</td>\n      <td>0</td>\n      <td>0</td>\n      <td>0</td>\n      <td>0</td>\n      <td>0</td>\n      <td>0</td>\n      <td>0</td>\n    </tr>\n    <tr>\n      <th>1302914</th>\n      <td>0</td>\n      <td>0</td>\n      <td>0</td>\n      <td>26</td>\n      <td>0</td>\n      <td>96</td>\n      <td>0</td>\n      <td>0</td>\n      <td>0</td>\n      <td>0</td>\n      <td>...</td>\n      <td>0</td>\n      <td>0</td>\n      <td>0</td>\n      <td>0</td>\n      <td>0</td>\n      <td>0</td>\n      <td>0</td>\n      <td>0</td>\n      <td>0</td>\n      <td>0</td>\n    </tr>\n  </tbody>\n</table>\n<p>233180 rows × 71 columns</p>\n</div>"
     },
     "execution_count": 72,
     "metadata": {},
     "output_type": "execute_result"
    }
   ],
   "source": [
    "users_genres"
   ],
   "metadata": {
    "collapsed": false,
    "pycharm": {
     "name": "#%%\n"
    }
   }
  },
  {
   "cell_type": "code",
   "execution_count": 73,
   "outputs": [
    {
     "data": {
      "text/plain": "        serial_with_season  movie serial_without_season\n1                        0   6720                     0\n4                    30169  23638                     0\n25                     665  23969                     0\n43                       0    660                     0\n45                       0  14370                     0\n...                    ...    ...                   ...\n1302880                  0     26                     0\n1302881                  0  87822                     0\n1302912                  0     16                     0\n1302913                  0    118                     0\n1302914                  0     96                     0\n\n[233180 rows x 3 columns]",
      "text/html": "<div>\n<style scoped>\n    .dataframe tbody tr th:only-of-type {\n        vertical-align: middle;\n    }\n\n    .dataframe tbody tr th {\n        vertical-align: top;\n    }\n\n    .dataframe thead tr th {\n        text-align: left;\n    }\n</style>\n<table border=\"1\" class=\"dataframe\">\n  <thead>\n    <tr>\n      <th></th>\n      <th>serial_with_season</th>\n      <th>movie</th>\n      <th>serial_without_season</th>\n    </tr>\n  </thead>\n  <tbody>\n    <tr>\n      <th>1</th>\n      <td>0</td>\n      <td>6720</td>\n      <td>0</td>\n    </tr>\n    <tr>\n      <th>4</th>\n      <td>30169</td>\n      <td>23638</td>\n      <td>0</td>\n    </tr>\n    <tr>\n      <th>25</th>\n      <td>665</td>\n      <td>23969</td>\n      <td>0</td>\n    </tr>\n    <tr>\n      <th>43</th>\n      <td>0</td>\n      <td>660</td>\n      <td>0</td>\n    </tr>\n    <tr>\n      <th>45</th>\n      <td>0</td>\n      <td>14370</td>\n      <td>0</td>\n    </tr>\n    <tr>\n      <th>...</th>\n      <td>...</td>\n      <td>...</td>\n      <td>...</td>\n    </tr>\n    <tr>\n      <th>1302880</th>\n      <td>0</td>\n      <td>26</td>\n      <td>0</td>\n    </tr>\n    <tr>\n      <th>1302881</th>\n      <td>0</td>\n      <td>87822</td>\n      <td>0</td>\n    </tr>\n    <tr>\n      <th>1302912</th>\n      <td>0</td>\n      <td>16</td>\n      <td>0</td>\n    </tr>\n    <tr>\n      <th>1302913</th>\n      <td>0</td>\n      <td>118</td>\n      <td>0</td>\n    </tr>\n    <tr>\n      <th>1302914</th>\n      <td>0</td>\n      <td>96</td>\n      <td>0</td>\n    </tr>\n  </tbody>\n</table>\n<p>233180 rows × 3 columns</p>\n</div>"
     },
     "execution_count": 73,
     "metadata": {},
     "output_type": "execute_result"
    }
   ],
   "source": [
    "users_types"
   ],
   "metadata": {
    "collapsed": false,
    "pycharm": {
     "name": "#%%\n"
    }
   }
  },
  {
   "cell_type": "code",
   "execution_count": 74,
   "outputs": [
    {
     "data": {
      "text/plain": "             игровой  шоу  музыка  комедия  мелодрама  драма  комедийный  \\\ncontent_uid                                                                \n9882               1    1       1        0          0      0           0   \n19870              0    0       0        1          0      0           0   \n2312               0    0       0        1          1      0           0   \n12655              0    0       0        1          0      1           0   \n25771              0    0       0        0          0      1           1   \n...              ...  ...     ...      ...        ...    ...         ...   \n20786              0    0       0        0          0      0           0   \n4037               0    0       0        0          0      1           0   \n10201              0    0       0        0          0      1           0   \n27405              0    0       0        0          0      0           0   \n10190              0    0       0        0          1      0           0   \n\n             фэнтезийный  боевик  приключение  ...  молодёжь  детский  ситком  \\\ncontent_uid                                    ...                              \n9882                   0       0            0  ...         0        0       0   \n19870                  0       0            0  ...         0        0       0   \n2312                   0       0            0  ...         0        0       0   \n12655                  0       0            0  ...         0        0       0   \n25771                  0       0            0  ...         0        0       0   \n...                  ...     ...          ...  ...       ...      ...     ...   \n20786                  0       0            0  ...         0        0       0   \n4037                   0       0            0  ...         0        0       0   \n10201                  0       0            0  ...         0        0       0   \n27405                  0       0            0  ...         0        0       0   \n10190                  0       0            0  ...         0        0       0   \n\n             индонезия  психологический  увлечение  досуг  концерт  скетчкома  \\\ncontent_uid                                                                     \n9882                 0                0          0      0        0          0   \n19870                0                0          0      0        0          0   \n2312                 0                0          0      0        0          0   \n12655                0                0          0      0        0          0   \n25771                0                0          0      0        0          0   \n...                ...              ...        ...    ...      ...        ...   \n20786                0                0          0      0        0          0   \n4037                 0                0          0      0        0          0   \n10201                0                0          0      0        0          0   \n27405                0                0          0      0        0          0   \n10190                0                0          0      0        0          0   \n\n             интервью  \ncontent_uid            \n9882                0  \n19870               0  \n2312                0  \n12655               0  \n25771               0  \n...               ...  \n20786               0  \n4037                0  \n10201               0  \n27405               0  \n10190               0  \n\n[3829 rows x 71 columns]",
      "text/html": "<div>\n<style scoped>\n    .dataframe tbody tr th:only-of-type {\n        vertical-align: middle;\n    }\n\n    .dataframe tbody tr th {\n        vertical-align: top;\n    }\n\n    .dataframe thead th {\n        text-align: right;\n    }\n</style>\n<table border=\"1\" class=\"dataframe\">\n  <thead>\n    <tr style=\"text-align: right;\">\n      <th></th>\n      <th>игровой</th>\n      <th>шоу</th>\n      <th>музыка</th>\n      <th>комедия</th>\n      <th>мелодрама</th>\n      <th>драма</th>\n      <th>комедийный</th>\n      <th>фэнтезийный</th>\n      <th>боевик</th>\n      <th>приключение</th>\n      <th>...</th>\n      <th>молодёжь</th>\n      <th>детский</th>\n      <th>ситком</th>\n      <th>индонезия</th>\n      <th>психологический</th>\n      <th>увлечение</th>\n      <th>досуг</th>\n      <th>концерт</th>\n      <th>скетчкома</th>\n      <th>интервью</th>\n    </tr>\n    <tr>\n      <th>content_uid</th>\n      <th></th>\n      <th></th>\n      <th></th>\n      <th></th>\n      <th></th>\n      <th></th>\n      <th></th>\n      <th></th>\n      <th></th>\n      <th></th>\n      <th></th>\n      <th></th>\n      <th></th>\n      <th></th>\n      <th></th>\n      <th></th>\n      <th></th>\n      <th></th>\n      <th></th>\n      <th></th>\n      <th></th>\n    </tr>\n  </thead>\n  <tbody>\n    <tr>\n      <th>9882</th>\n      <td>1</td>\n      <td>1</td>\n      <td>1</td>\n      <td>0</td>\n      <td>0</td>\n      <td>0</td>\n      <td>0</td>\n      <td>0</td>\n      <td>0</td>\n      <td>0</td>\n      <td>...</td>\n      <td>0</td>\n      <td>0</td>\n      <td>0</td>\n      <td>0</td>\n      <td>0</td>\n      <td>0</td>\n      <td>0</td>\n      <td>0</td>\n      <td>0</td>\n      <td>0</td>\n    </tr>\n    <tr>\n      <th>19870</th>\n      <td>0</td>\n      <td>0</td>\n      <td>0</td>\n      <td>1</td>\n      <td>0</td>\n      <td>0</td>\n      <td>0</td>\n      <td>0</td>\n      <td>0</td>\n      <td>0</td>\n      <td>...</td>\n      <td>0</td>\n      <td>0</td>\n      <td>0</td>\n      <td>0</td>\n      <td>0</td>\n      <td>0</td>\n      <td>0</td>\n      <td>0</td>\n      <td>0</td>\n      <td>0</td>\n    </tr>\n    <tr>\n      <th>2312</th>\n      <td>0</td>\n      <td>0</td>\n      <td>0</td>\n      <td>1</td>\n      <td>1</td>\n      <td>0</td>\n      <td>0</td>\n      <td>0</td>\n      <td>0</td>\n      <td>0</td>\n      <td>...</td>\n      <td>0</td>\n      <td>0</td>\n      <td>0</td>\n      <td>0</td>\n      <td>0</td>\n      <td>0</td>\n      <td>0</td>\n      <td>0</td>\n      <td>0</td>\n      <td>0</td>\n    </tr>\n    <tr>\n      <th>12655</th>\n      <td>0</td>\n      <td>0</td>\n      <td>0</td>\n      <td>1</td>\n      <td>0</td>\n      <td>1</td>\n      <td>0</td>\n      <td>0</td>\n      <td>0</td>\n      <td>0</td>\n      <td>...</td>\n      <td>0</td>\n      <td>0</td>\n      <td>0</td>\n      <td>0</td>\n      <td>0</td>\n      <td>0</td>\n      <td>0</td>\n      <td>0</td>\n      <td>0</td>\n      <td>0</td>\n    </tr>\n    <tr>\n      <th>25771</th>\n      <td>0</td>\n      <td>0</td>\n      <td>0</td>\n      <td>0</td>\n      <td>0</td>\n      <td>1</td>\n      <td>1</td>\n      <td>0</td>\n      <td>0</td>\n      <td>0</td>\n      <td>...</td>\n      <td>0</td>\n      <td>0</td>\n      <td>0</td>\n      <td>0</td>\n      <td>0</td>\n      <td>0</td>\n      <td>0</td>\n      <td>0</td>\n      <td>0</td>\n      <td>0</td>\n    </tr>\n    <tr>\n      <th>...</th>\n      <td>...</td>\n      <td>...</td>\n      <td>...</td>\n      <td>...</td>\n      <td>...</td>\n      <td>...</td>\n      <td>...</td>\n      <td>...</td>\n      <td>...</td>\n      <td>...</td>\n      <td>...</td>\n      <td>...</td>\n      <td>...</td>\n      <td>...</td>\n      <td>...</td>\n      <td>...</td>\n      <td>...</td>\n      <td>...</td>\n      <td>...</td>\n      <td>...</td>\n      <td>...</td>\n    </tr>\n    <tr>\n      <th>20786</th>\n      <td>0</td>\n      <td>0</td>\n      <td>0</td>\n      <td>0</td>\n      <td>0</td>\n      <td>0</td>\n      <td>0</td>\n      <td>0</td>\n      <td>0</td>\n      <td>0</td>\n      <td>...</td>\n      <td>0</td>\n      <td>0</td>\n      <td>0</td>\n      <td>0</td>\n      <td>0</td>\n      <td>0</td>\n      <td>0</td>\n      <td>0</td>\n      <td>0</td>\n      <td>0</td>\n    </tr>\n    <tr>\n      <th>4037</th>\n      <td>0</td>\n      <td>0</td>\n      <td>0</td>\n      <td>0</td>\n      <td>0</td>\n      <td>1</td>\n      <td>0</td>\n      <td>0</td>\n      <td>0</td>\n      <td>0</td>\n      <td>...</td>\n      <td>0</td>\n      <td>0</td>\n      <td>0</td>\n      <td>0</td>\n      <td>0</td>\n      <td>0</td>\n      <td>0</td>\n      <td>0</td>\n      <td>0</td>\n      <td>0</td>\n    </tr>\n    <tr>\n      <th>10201</th>\n      <td>0</td>\n      <td>0</td>\n      <td>0</td>\n      <td>0</td>\n      <td>0</td>\n      <td>1</td>\n      <td>0</td>\n      <td>0</td>\n      <td>0</td>\n      <td>0</td>\n      <td>...</td>\n      <td>0</td>\n      <td>0</td>\n      <td>0</td>\n      <td>0</td>\n      <td>0</td>\n      <td>0</td>\n      <td>0</td>\n      <td>0</td>\n      <td>0</td>\n      <td>0</td>\n    </tr>\n    <tr>\n      <th>27405</th>\n      <td>0</td>\n      <td>0</td>\n      <td>0</td>\n      <td>0</td>\n      <td>0</td>\n      <td>0</td>\n      <td>0</td>\n      <td>0</td>\n      <td>0</td>\n      <td>0</td>\n      <td>...</td>\n      <td>0</td>\n      <td>0</td>\n      <td>0</td>\n      <td>0</td>\n      <td>0</td>\n      <td>0</td>\n      <td>0</td>\n      <td>0</td>\n      <td>0</td>\n      <td>0</td>\n    </tr>\n    <tr>\n      <th>10190</th>\n      <td>0</td>\n      <td>0</td>\n      <td>0</td>\n      <td>0</td>\n      <td>1</td>\n      <td>0</td>\n      <td>0</td>\n      <td>0</td>\n      <td>0</td>\n      <td>0</td>\n      <td>...</td>\n      <td>0</td>\n      <td>0</td>\n      <td>0</td>\n      <td>0</td>\n      <td>0</td>\n      <td>0</td>\n      <td>0</td>\n      <td>0</td>\n      <td>0</td>\n      <td>0</td>\n    </tr>\n  </tbody>\n</table>\n<p>3829 rows × 71 columns</p>\n</div>"
     },
     "execution_count": 74,
     "metadata": {},
     "output_type": "execute_result"
    }
   ],
   "source": [
    "film_data"
   ],
   "metadata": {
    "collapsed": false,
    "pycharm": {
     "name": "#%%\n"
    }
   }
  },
  {
   "cell_type": "code",
   "execution_count": null,
   "outputs": [],
   "source": [],
   "metadata": {
    "collapsed": false,
    "pycharm": {
     "name": "#%%\n"
    }
   }
  }
 ],
 "metadata": {
  "kernelspec": {
   "name": "pycharm-a7fa1f9b",
   "language": "python",
   "display_name": "PyCharm (jb_test_2)"
  },
  "language_info": {
   "codemirror_mode": {
    "name": "ipython",
    "version": 2
   },
   "file_extension": ".py",
   "mimetype": "text/x-python",
   "name": "python",
   "nbconvert_exporter": "python",
   "pygments_lexer": "ipython2",
   "version": "2.7.6"
  }
 },
 "nbformat": 4,
 "nbformat_minor": 0
}