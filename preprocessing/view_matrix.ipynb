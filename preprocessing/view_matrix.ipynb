{
 "cells": [
  {
   "cell_type": "markdown",
   "source": [
    "Создание нормированной матрицы просмотров для каждого пользователя"
   ],
   "metadata": {
    "collapsed": false,
    "pycharm": {
     "name": "#%% md\n"
    }
   }
  },
  {
   "cell_type": "code",
   "execution_count": 1,
   "metadata": {
    "collapsed": true
   },
   "outputs": [],
   "source": [
    "import numpy as np\n",
    "import pandas as pd\n",
    "import scipy.sparse as sparse"
   ]
  },
  {
   "cell_type": "code",
   "execution_count": 2,
   "outputs": [],
   "source": [
    "CONST_PATH = '../data/postprocessing/'"
   ],
   "metadata": {
    "collapsed": false,
    "pycharm": {
     "name": "#%%\n"
    }
   }
  },
  {
   "cell_type": "code",
   "execution_count": 3,
   "outputs": [
    {
     "data": {
      "text/plain": "                             name                type  serial_id  \\\ncontent_uid                                                        \n9882          \"Шоу \"Студия \"Союз\"  serial_with_season        NaN   \n19870                   #СидЯдома  serial_with_season        NaN   \n2312            (Не)жданный принц               movie        NaN   \n12655                         1+1               movie        NaN   \n25771        1+1. Нарушая правила               movie        NaN   \n\n                         genres  duration_seconds  \ncontent_uid                                        \n9882         Игровое шоу,Музыка           88765.0  \n19870                   Комедия           13253.0  \n2312          Мелодрама,Комедия            4983.0  \n12655             Драма,Комедия            6452.0  \n25771          Комедийная драма            6323.0  ",
      "text/html": "<div>\n<style scoped>\n    .dataframe tbody tr th:only-of-type {\n        vertical-align: middle;\n    }\n\n    .dataframe tbody tr th {\n        vertical-align: top;\n    }\n\n    .dataframe thead th {\n        text-align: right;\n    }\n</style>\n<table border=\"1\" class=\"dataframe\">\n  <thead>\n    <tr style=\"text-align: right;\">\n      <th></th>\n      <th>name</th>\n      <th>type</th>\n      <th>serial_id</th>\n      <th>genres</th>\n      <th>duration_seconds</th>\n    </tr>\n    <tr>\n      <th>content_uid</th>\n      <th></th>\n      <th></th>\n      <th></th>\n      <th></th>\n      <th></th>\n    </tr>\n  </thead>\n  <tbody>\n    <tr>\n      <th>9882</th>\n      <td>\"Шоу \"Студия \"Союз\"</td>\n      <td>serial_with_season</td>\n      <td>NaN</td>\n      <td>Игровое шоу,Музыка</td>\n      <td>88765.0</td>\n    </tr>\n    <tr>\n      <th>19870</th>\n      <td>#СидЯдома</td>\n      <td>serial_with_season</td>\n      <td>NaN</td>\n      <td>Комедия</td>\n      <td>13253.0</td>\n    </tr>\n    <tr>\n      <th>2312</th>\n      <td>(Не)жданный принц</td>\n      <td>movie</td>\n      <td>NaN</td>\n      <td>Мелодрама,Комедия</td>\n      <td>4983.0</td>\n    </tr>\n    <tr>\n      <th>12655</th>\n      <td>1+1</td>\n      <td>movie</td>\n      <td>NaN</td>\n      <td>Драма,Комедия</td>\n      <td>6452.0</td>\n    </tr>\n    <tr>\n      <th>25771</th>\n      <td>1+1. Нарушая правила</td>\n      <td>movie</td>\n      <td>NaN</td>\n      <td>Комедийная драма</td>\n      <td>6323.0</td>\n    </tr>\n  </tbody>\n</table>\n</div>"
     },
     "execution_count": 3,
     "metadata": {},
     "output_type": "execute_result"
    }
   ],
   "source": [
    "content_df = pd.read_csv(f'{CONST_PATH}content.csv', index_col='content_uid')\n",
    "content_df.head()"
   ],
   "metadata": {
    "collapsed": false,
    "pycharm": {
     "name": "#%%\n"
    }
   }
  },
  {
   "cell_type": "code",
   "execution_count": 4,
   "outputs": [
    {
     "data": {
      "text/plain": "   user_uid  content_uid  second\n0         1      11882.0     627\n1         1      26174.0    5693\n2         1      26719.0     400\n3         4       2829.0      12\n4         4       3836.0      64",
      "text/html": "<div>\n<style scoped>\n    .dataframe tbody tr th:only-of-type {\n        vertical-align: middle;\n    }\n\n    .dataframe tbody tr th {\n        vertical-align: top;\n    }\n\n    .dataframe thead th {\n        text-align: right;\n    }\n</style>\n<table border=\"1\" class=\"dataframe\">\n  <thead>\n    <tr style=\"text-align: right;\">\n      <th></th>\n      <th>user_uid</th>\n      <th>content_uid</th>\n      <th>second</th>\n    </tr>\n  </thead>\n  <tbody>\n    <tr>\n      <th>0</th>\n      <td>1</td>\n      <td>11882.0</td>\n      <td>627</td>\n    </tr>\n    <tr>\n      <th>1</th>\n      <td>1</td>\n      <td>26174.0</td>\n      <td>5693</td>\n    </tr>\n    <tr>\n      <th>2</th>\n      <td>1</td>\n      <td>26719.0</td>\n      <td>400</td>\n    </tr>\n    <tr>\n      <th>3</th>\n      <td>4</td>\n      <td>2829.0</td>\n      <td>12</td>\n    </tr>\n    <tr>\n      <th>4</th>\n      <td>4</td>\n      <td>3836.0</td>\n      <td>64</td>\n    </tr>\n  </tbody>\n</table>\n</div>"
     },
     "execution_count": 4,
     "metadata": {},
     "output_type": "execute_result"
    }
   ],
   "source": [
    "history = pd.read_csv(f'{CONST_PATH}watch_history.csv', index_col=0)\n",
    "history.head()"
   ],
   "metadata": {
    "collapsed": false,
    "pycharm": {
     "name": "#%%\n"
    }
   }
  },
  {
   "cell_type": "code",
   "execution_count": null,
   "outputs": [],
   "source": [
    "users = {key: value for key, value in zip(history.user_uid.unique(), range(len(history.user_uid.unique())))}\n",
    "content = {key: value for key, value in zip(content_df.index.values, range(len(content_df.index.values)))}\n",
    "count_users = len(users)\n",
    "count_content = content_df.shape[0]\n",
    "view_matrix = sparse.lil_matrix(np.zeros((count_users, count_content)))\n",
    "view_matrix"
   ],
   "metadata": {
    "collapsed": false,
    "pycharm": {
     "name": "#%%\n"
    }
   }
  },
  {
   "cell_type": "code",
   "execution_count": null,
   "outputs": [],
   "source": [
    "# for _, row in history.iterrows():\n",
    "#     view_matrix[users[row.user_uid], content[row.content_uid]] =\\\n",
    "#         row.second / content_df.loc[row.content_uid, 'duration_seconds']\n",
    "#\n",
    "# sparse.save_npz(f'{CONST_PATH}sparse_matrix.npz', view_matrix.tocsr())"
   ],
   "metadata": {
    "collapsed": false,
    "pycharm": {
     "name": "#%%\n"
    }
   }
  },
  {
   "cell_type": "code",
   "execution_count": 1,
   "outputs": [],
   "source": [
    "from duration_matrix import DurationSparseMatrix"
   ],
   "metadata": {
    "collapsed": false,
    "pycharm": {
     "name": "#%%\n"
    }
   }
  },
  {
   "cell_type": "code",
   "execution_count": 2,
   "outputs": [],
   "source": [
    "dsm = DurationSparseMatrix()\n",
    "history, content_df = dsm.read_info()\n",
    "history_len = len(history.user_uid.unique())\n",
    "content_len = len(content_df.index.values)\n",
    "dsm.create_empty_matrix((history_len, content_len))\n",
    "dsm.fill_matrix()"
   ],
   "metadata": {
    "collapsed": false,
    "pycharm": {
     "name": "#%%\n"
    }
   }
  },
  {
   "cell_type": "code",
   "execution_count": 3,
   "outputs": [
    {
     "data": {
      "text/plain": "array([[0., 0., 0., ..., 0., 0., 0.],\n       [0., 0., 0., ..., 0., 0., 0.]])"
     },
     "execution_count": 3,
     "metadata": {},
     "output_type": "execute_result"
    }
   ],
   "source": [
    "dsm.get_matrix_part((4, 1), ax_type='users')"
   ],
   "metadata": {
    "collapsed": false,
    "pycharm": {
     "name": "#%%\n"
    }
   }
  }
 ],
 "metadata": {
  "kernelspec": {
   "name": "pycharm-a7fa1f9b",
   "language": "python",
   "display_name": "PyCharm (jb_test_2)"
  },
  "language_info": {
   "codemirror_mode": {
    "name": "ipython",
    "version": 2
   },
   "file_extension": ".py",
   "mimetype": "text/x-python",
   "name": "python",
   "nbconvert_exporter": "python",
   "pygments_lexer": "ipython2",
   "version": "2.7.6"
  }
 },
 "nbformat": 4,
 "nbformat_minor": 0
}