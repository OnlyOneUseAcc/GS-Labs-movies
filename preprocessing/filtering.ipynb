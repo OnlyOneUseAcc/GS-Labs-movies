{
 "cells": [
  {
   "cell_type": "code",
   "execution_count": 33,
   "metadata": {
    "collapsed": true
   },
   "outputs": [],
   "source": [
    "import pandas as pd\n",
    "import numpy as np\n",
    "import matplotlib.pyplot as plt"
   ]
  },
  {
   "cell_type": "code",
   "execution_count": 34,
   "outputs": [],
   "source": [
    "DATA_PATH = '../data/'\n",
    "POSTPROCESSING = 'postprocessing/'\n",
    "RAW = 'raw/'"
   ],
   "metadata": {
    "collapsed": false,
    "pycharm": {
     "name": "#%%\n"
    }
   }
  },
  {
   "cell_type": "code",
   "execution_count": 35,
   "outputs": [
    {
     "data": {
      "text/plain": "                            name                type  serial_id  \\\ncontent_uid                                                       \n9882         \"Шоу \"Студия \"Союз\"  serial_with_season        NaN   \n13701        \"Шоу \"Студия \"Союз\"             episode     9882.0   \n12274        \"Шоу \"Студия \"Союз\"             episode     9882.0   \n13579        \"Шоу \"Студия \"Союз\"             episode     9882.0   \n18055        \"Шоу \"Студия \"Союз\"             episode     9882.0   \n\n                         genres  duration_seconds  \ncontent_uid                                        \n9882         Игровое шоу,Музыка               NaN  \n13701                       NaN            2823.0  \n12274                       NaN            2694.0  \n13579                       NaN            2739.0  \n18055                       NaN            2887.0  ",
      "text/html": "<div>\n<style scoped>\n    .dataframe tbody tr th:only-of-type {\n        vertical-align: middle;\n    }\n\n    .dataframe tbody tr th {\n        vertical-align: top;\n    }\n\n    .dataframe thead th {\n        text-align: right;\n    }\n</style>\n<table border=\"1\" class=\"dataframe\">\n  <thead>\n    <tr style=\"text-align: right;\">\n      <th></th>\n      <th>name</th>\n      <th>type</th>\n      <th>serial_id</th>\n      <th>genres</th>\n      <th>duration_seconds</th>\n    </tr>\n    <tr>\n      <th>content_uid</th>\n      <th></th>\n      <th></th>\n      <th></th>\n      <th></th>\n      <th></th>\n    </tr>\n  </thead>\n  <tbody>\n    <tr>\n      <th>9882</th>\n      <td>\"Шоу \"Студия \"Союз\"</td>\n      <td>serial_with_season</td>\n      <td>NaN</td>\n      <td>Игровое шоу,Музыка</td>\n      <td>NaN</td>\n    </tr>\n    <tr>\n      <th>13701</th>\n      <td>\"Шоу \"Студия \"Союз\"</td>\n      <td>episode</td>\n      <td>9882.0</td>\n      <td>NaN</td>\n      <td>2823.0</td>\n    </tr>\n    <tr>\n      <th>12274</th>\n      <td>\"Шоу \"Студия \"Союз\"</td>\n      <td>episode</td>\n      <td>9882.0</td>\n      <td>NaN</td>\n      <td>2694.0</td>\n    </tr>\n    <tr>\n      <th>13579</th>\n      <td>\"Шоу \"Студия \"Союз\"</td>\n      <td>episode</td>\n      <td>9882.0</td>\n      <td>NaN</td>\n      <td>2739.0</td>\n    </tr>\n    <tr>\n      <th>18055</th>\n      <td>\"Шоу \"Студия \"Союз\"</td>\n      <td>episode</td>\n      <td>9882.0</td>\n      <td>NaN</td>\n      <td>2887.0</td>\n    </tr>\n  </tbody>\n</table>\n</div>"
     },
     "execution_count": 35,
     "metadata": {},
     "output_type": "execute_result"
    }
   ],
   "source": [
    "content = pd.read_csv(f\"{DATA_PATH}{RAW}content.csv\", index_col='content_uid')\n",
    "content.head()"
   ],
   "metadata": {
    "collapsed": false,
    "pycharm": {
     "name": "#%%\n"
    }
   }
  },
  {
   "cell_type": "code",
   "execution_count": 36,
   "outputs": [
    {
     "data": {
      "text/plain": "   user_uid  content_uid  second\n0         1        26719     400\n1         1        11882     627\n2         1        26174    5693\n3         4        28436     828\n4         4         3836      64",
      "text/html": "<div>\n<style scoped>\n    .dataframe tbody tr th:only-of-type {\n        vertical-align: middle;\n    }\n\n    .dataframe tbody tr th {\n        vertical-align: top;\n    }\n\n    .dataframe thead th {\n        text-align: right;\n    }\n</style>\n<table border=\"1\" class=\"dataframe\">\n  <thead>\n    <tr style=\"text-align: right;\">\n      <th></th>\n      <th>user_uid</th>\n      <th>content_uid</th>\n      <th>second</th>\n    </tr>\n  </thead>\n  <tbody>\n    <tr>\n      <th>0</th>\n      <td>1</td>\n      <td>26719</td>\n      <td>400</td>\n    </tr>\n    <tr>\n      <th>1</th>\n      <td>1</td>\n      <td>11882</td>\n      <td>627</td>\n    </tr>\n    <tr>\n      <th>2</th>\n      <td>1</td>\n      <td>26174</td>\n      <td>5693</td>\n    </tr>\n    <tr>\n      <th>3</th>\n      <td>4</td>\n      <td>28436</td>\n      <td>828</td>\n    </tr>\n    <tr>\n      <th>4</th>\n      <td>4</td>\n      <td>3836</td>\n      <td>64</td>\n    </tr>\n  </tbody>\n</table>\n</div>"
     },
     "execution_count": 36,
     "metadata": {},
     "output_type": "execute_result"
    }
   ],
   "source": [
    "history = pd.read_csv(f'{DATA_PATH}{RAW}watch_history.csv')\n",
    "history.head()"
   ],
   "metadata": {
    "collapsed": false,
    "pycharm": {
     "name": "#%%\n"
    }
   }
  },
  {
   "cell_type": "markdown",
   "source": [
    "Распределение контента по типам"
   ],
   "metadata": {
    "collapsed": false,
    "pycharm": {
     "name": "#%% md\n"
    }
   }
  },
  {
   "cell_type": "code",
   "execution_count": 37,
   "outputs": [
    {
     "data": {
      "text/plain": "<Figure size 1080x720 with 1 Axes>",
      "image/png": "[encoded data removed]"
     },
     "metadata": {
      "needs_background": "light"
     },
     "output_type": "display_data"
    }
   ],
   "source": [
    "info = np.unique(content['type'], return_counts=True)\n",
    "plt.figure(figsize=(15, 10))\n",
    "plt.bar(x=np.arange(1, 8, 2), height=info[1])\n",
    "plt.xticks(np.arange(1, 8, 2), info[0])\n",
    "plt.savefig(f'{DATA_PATH}plots/type_bar.png')\n",
    "plt.show()"
   ],
   "metadata": {
    "collapsed": false,
    "pycharm": {
     "name": "#%%\n"
    }
   }
  },
  {
   "cell_type": "markdown",
   "source": [
    "Пропуски длительности контента по типу"
   ],
   "metadata": {
    "collapsed": false,
    "pycharm": {
     "name": "#%% md\n"
    }
   }
  },
  {
   "cell_type": "code",
   "execution_count": 38,
   "outputs": [
    {
     "data": {
      "text/plain": "<Figure size 720x360 with 1 Axes>",
      "image/png": "[encoded data removed]"
     },
     "metadata": {
      "needs_background": "light"
     },
     "output_type": "display_data"
    }
   ],
   "source": [
    "info = content.groupby(by=['type']).agg(\n",
    "    count_nan = pd.NamedAgg(column='duration_seconds', aggfunc=lambda x: x.isna().sum())\n",
    ")\n",
    "\n",
    "plt.figure(figsize=(10, 5))\n",
    "plt.bar(x=np.arange(1, 8, 2), height=info.values.reshape(1, -1)[0])\n",
    "plt.xticks(np.arange(1, 8, 2), list(info.index))\n",
    "plt.savefig(f'{DATA_PATH}plots/missed_types.png')\n",
    "plt.show()"
   ],
   "metadata": {
    "collapsed": false,
    "pycharm": {
     "name": "#%%\n"
    }
   }
  },
  {
   "cell_type": "code",
   "execution_count": 39,
   "outputs": [
    {
     "name": "stdout",
     "output_type": "stream",
     "text": [
      "Всего пропущено значений длительности фильмов - 68\n"
     ]
    }
   ],
   "source": [
    "miss_duration = content[(content['type'] == 'movie') &\n",
    "                        (content['duration_seconds'].isna())].index.to_list()\n",
    "print(f'Всего пропущено значений длительности фильмов - {len(miss_duration)}')"
   ],
   "metadata": {
    "collapsed": false,
    "pycharm": {
     "name": "#%%\n"
    }
   }
  },
  {
   "cell_type": "markdown",
   "source": [
    "Заполним пропуски длительности фильмов, собранной информацией"
   ],
   "metadata": {
    "collapsed": false,
    "pycharm": {
     "name": "#%% md\n"
    }
   }
  },
  {
   "cell_type": "code",
   "execution_count": 40,
   "outputs": [],
   "source": [
    "collect_data_path = '../data/raw/missed_movies.csv'\n",
    "collect_data = pd.read_csv(collect_data_path, index_col=1)"
   ],
   "metadata": {
    "collapsed": false,
    "pycharm": {
     "name": "#%%\n"
    }
   }
  },
  {
   "cell_type": "markdown",
   "source": [
    "* Не всю информацию удалось собрать"
   ],
   "metadata": {
    "collapsed": false,
    "pycharm": {
     "name": "#%% md\n"
    }
   }
  },
  {
   "cell_type": "code",
   "execution_count": 41,
   "outputs": [
    {
     "data": {
      "text/plain": "[25226]"
     },
     "execution_count": 41,
     "metadata": {},
     "output_type": "execute_result"
    }
   ],
   "source": [
    "delete_list = collect_data[collect_data['duration_seconds'].isna()].index.to_list()\n",
    "delete_list"
   ],
   "metadata": {
    "collapsed": false,
    "pycharm": {
     "name": "#%%\n"
    }
   }
  },
  {
   "cell_type": "code",
   "execution_count": 42,
   "outputs": [],
   "source": [
    "content.loc[collect_data.index, 'duration_seconds'] = collect_data['duration_seconds'] * 60"
   ],
   "metadata": {
    "collapsed": false,
    "pycharm": {
     "name": "#%%\n"
    }
   }
  },
  {
   "cell_type": "code",
   "execution_count": 43,
   "outputs": [],
   "source": [
    "history = history.drop(history[history['content_uid'].isin(delete_list)].index)\n",
    "content = content.drop(content[content.index.isin(delete_list)].index)"
   ],
   "metadata": {
    "collapsed": false,
    "pycharm": {
     "name": "#%%\n"
    }
   }
  },
  {
   "cell_type": "markdown",
   "source": [
    "Объединяем эпизоды сериала в единый контент"
   ],
   "metadata": {
    "collapsed": false,
    "pycharm": {
     "name": "#%% md\n"
    }
   }
  },
  {
   "cell_type": "code",
   "execution_count": 44,
   "outputs": [
    {
     "data": {
      "text/plain": "           duration_seconds\nserial_id                  \n250.0                2605.0\n551.0               34311.0\n691.0               10652.0\n841.0               42302.0\n992.0               44345.0\n...                     ...\n30165.0             80412.0\n30266.0             61665.0\n30407.0             56563.0\n30456.0             36873.0\n30533.0             23252.0\n\n[684 rows x 1 columns]",
      "text/html": "<div>\n<style scoped>\n    .dataframe tbody tr th:only-of-type {\n        vertical-align: middle;\n    }\n\n    .dataframe tbody tr th {\n        vertical-align: top;\n    }\n\n    .dataframe thead th {\n        text-align: right;\n    }\n</style>\n<table border=\"1\" class=\"dataframe\">\n  <thead>\n    <tr style=\"text-align: right;\">\n      <th></th>\n      <th>duration_seconds</th>\n    </tr>\n    <tr>\n      <th>serial_id</th>\n      <th></th>\n    </tr>\n  </thead>\n  <tbody>\n    <tr>\n      <th>250.0</th>\n      <td>2605.0</td>\n    </tr>\n    <tr>\n      <th>551.0</th>\n      <td>34311.0</td>\n    </tr>\n    <tr>\n      <th>691.0</th>\n      <td>10652.0</td>\n    </tr>\n    <tr>\n      <th>841.0</th>\n      <td>42302.0</td>\n    </tr>\n    <tr>\n      <th>992.0</th>\n      <td>44345.0</td>\n    </tr>\n    <tr>\n      <th>...</th>\n      <td>...</td>\n    </tr>\n    <tr>\n      <th>30165.0</th>\n      <td>80412.0</td>\n    </tr>\n    <tr>\n      <th>30266.0</th>\n      <td>61665.0</td>\n    </tr>\n    <tr>\n      <th>30407.0</th>\n      <td>56563.0</td>\n    </tr>\n    <tr>\n      <th>30456.0</th>\n      <td>36873.0</td>\n    </tr>\n    <tr>\n      <th>30533.0</th>\n      <td>23252.0</td>\n    </tr>\n  </tbody>\n</table>\n<p>684 rows × 1 columns</p>\n</div>"
     },
     "execution_count": 44,
     "metadata": {},
     "output_type": "execute_result"
    }
   ],
   "source": [
    "seasons_serials_duration = content[content.type.isin(['episode'])][['serial_id', 'duration_seconds']].groupby(by='serial_id').sum()\n",
    "seasons_serials_duration"
   ],
   "metadata": {
    "collapsed": false,
    "pycharm": {
     "name": "#%%\n"
    }
   }
  },
  {
   "cell_type": "code",
   "execution_count": 45,
   "outputs": [],
   "source": [
    "content.loc[seasons_serials_duration.index, 'duration_seconds'] = seasons_serials_duration"
   ],
   "metadata": {
    "collapsed": false,
    "pycharm": {
     "name": "#%%\n"
    }
   }
  },
  {
   "cell_type": "markdown",
   "source": [
    "Удаляем контент, без эпизодов => без просморов"
   ],
   "metadata": {
    "collapsed": false,
    "pycharm": {
     "name": "#%% md\n"
    }
   }
  },
  {
   "cell_type": "code",
   "execution_count": 46,
   "outputs": [
    {
     "data": {
      "text/plain": "Empty DataFrame\nColumns: [user_uid, content_uid, second]\nIndex: []",
      "text/html": "<div>\n<style scoped>\n    .dataframe tbody tr th:only-of-type {\n        vertical-align: middle;\n    }\n\n    .dataframe tbody tr th {\n        vertical-align: top;\n    }\n\n    .dataframe thead th {\n        text-align: right;\n    }\n</style>\n<table border=\"1\" class=\"dataframe\">\n  <thead>\n    <tr style=\"text-align: right;\">\n      <th></th>\n      <th>user_uid</th>\n      <th>content_uid</th>\n      <th>second</th>\n    </tr>\n  </thead>\n  <tbody>\n  </tbody>\n</table>\n</div>"
     },
     "execution_count": 46,
     "metadata": {},
     "output_type": "execute_result"
    }
   ],
   "source": [
    "id = content[content.duration_seconds.isna()].index\n",
    "history[history.content_uid.isin(id)]"
   ],
   "metadata": {
    "collapsed": false,
    "pycharm": {
     "name": "#%%\n"
    }
   }
  },
  {
   "cell_type": "code",
   "execution_count": 47,
   "outputs": [],
   "source": [
    "content.drop(id, inplace=True)"
   ],
   "metadata": {
    "collapsed": false,
    "pycharm": {
     "name": "#%%\n"
    }
   }
  },
  {
   "cell_type": "markdown",
   "source": [
    "Обновляем историю просмотров"
   ],
   "metadata": {
    "collapsed": false,
    "pycharm": {
     "name": "#%% md\n"
    }
   }
  },
  {
   "cell_type": "code",
   "source": [
    "history[history.content_uid.isin(\n",
    "    content[content.type == 'serial_with_season'].index\n",
    ")]\n"
   ],
   "metadata": {
    "collapsed": false,
    "pycharm": {
     "name": "#%%\n"
    }
   },
   "execution_count": 48,
   "outputs": [
    {
     "data": {
      "text/plain": "Empty DataFrame\nColumns: [user_uid, content_uid, second]\nIndex: []",
      "text/html": "<div>\n<style scoped>\n    .dataframe tbody tr th:only-of-type {\n        vertical-align: middle;\n    }\n\n    .dataframe tbody tr th {\n        vertical-align: top;\n    }\n\n    .dataframe thead th {\n        text-align: right;\n    }\n</style>\n<table border=\"1\" class=\"dataframe\">\n  <thead>\n    <tr style=\"text-align: right;\">\n      <th></th>\n      <th>user_uid</th>\n      <th>content_uid</th>\n      <th>second</th>\n    </tr>\n  </thead>\n  <tbody>\n  </tbody>\n</table>\n</div>"
     },
     "execution_count": 48,
     "metadata": {},
     "output_type": "execute_result"
    }
   ]
  },
  {
   "cell_type": "code",
   "execution_count": 49,
   "outputs": [
    {
     "data": {
      "text/plain": "   user_uid  content_uid  second\n0         1      26719.0     400\n1         1      11882.0     627\n2         1      26174.0    5693\n3         4      28436.0     828\n4         4       3836.0      64",
      "text/html": "<div>\n<style scoped>\n    .dataframe tbody tr th:only-of-type {\n        vertical-align: middle;\n    }\n\n    .dataframe tbody tr th {\n        vertical-align: top;\n    }\n\n    .dataframe thead th {\n        text-align: right;\n    }\n</style>\n<table border=\"1\" class=\"dataframe\">\n  <thead>\n    <tr style=\"text-align: right;\">\n      <th></th>\n      <th>user_uid</th>\n      <th>content_uid</th>\n      <th>second</th>\n    </tr>\n  </thead>\n  <tbody>\n    <tr>\n      <th>0</th>\n      <td>1</td>\n      <td>26719.0</td>\n      <td>400</td>\n    </tr>\n    <tr>\n      <th>1</th>\n      <td>1</td>\n      <td>11882.0</td>\n      <td>627</td>\n    </tr>\n    <tr>\n      <th>2</th>\n      <td>1</td>\n      <td>26174.0</td>\n      <td>5693</td>\n    </tr>\n    <tr>\n      <th>3</th>\n      <td>4</td>\n      <td>28436.0</td>\n      <td>828</td>\n    </tr>\n    <tr>\n      <th>4</th>\n      <td>4</td>\n      <td>3836.0</td>\n      <td>64</td>\n    </tr>\n  </tbody>\n</table>\n</div>"
     },
     "execution_count": 49,
     "metadata": {},
     "output_type": "execute_result"
    }
   ],
   "source": [
    "history['content_uid'] = history['content_uid'].apply(lambda x: content.loc[x, 'serial_id'] if content.loc[x, 'type'] == 'episode' else x)\n",
    "history.head()"
   ],
   "metadata": {
    "collapsed": false,
    "pycharm": {
     "name": "#%%\n"
    }
   }
  },
  {
   "cell_type": "code",
   "execution_count": 50,
   "outputs": [],
   "source": [
    "\n",
    "history = history.groupby(by=['user_uid', 'content_uid']).sum().reset_index()"
   ],
   "metadata": {
    "collapsed": false,
    "pycharm": {
     "name": "#%%\n"
    }
   }
  },
  {
   "cell_type": "markdown",
   "source": [
    "Тк мы скомпоновали эпизоды по сериалам, сами эпизоды нам не нужны"
   ],
   "metadata": {
    "collapsed": false,
    "pycharm": {
     "name": "#%% md\n"
    }
   }
  },
  {
   "cell_type": "code",
   "execution_count": 51,
   "outputs": [],
   "source": [
    "content.drop(content[content.type == 'episode'].index, inplace=True)"
   ],
   "metadata": {
    "collapsed": false,
    "pycharm": {
     "name": "#%%\n"
    }
   }
  },
  {
   "cell_type": "markdown",
   "source": [
    "Пропуски значений после фильтрации"
   ],
   "metadata": {
    "collapsed": false,
    "pycharm": {
     "name": "#%% md\n"
    }
   }
  },
  {
   "cell_type": "code",
   "execution_count": 56,
   "outputs": [
    {
     "data": {
      "text/plain": "<Figure size 720x360 with 1 Axes>",
      "image/png": "[encoded data removed]"
     },
     "metadata": {
      "needs_background": "light"
     },
     "output_type": "display_data"
    }
   ],
   "source": [
    "info = content.groupby(by=['type']).agg(\n",
    "    count_nan = pd.NamedAgg(column='duration_seconds', aggfunc=lambda x: x.isna().sum())\n",
    ")\n",
    "\n",
    "plt.figure(figsize=(10, 5))\n",
    "plt.bar(x=np.arange(1, 6, 2), height=info.values.reshape(1, -1)[0])\n",
    "plt.xticks(np.arange(1, 6, 2), list(info.index))\n",
    "plt.savefig(f'{DATA_PATH}plots/post_missed_types.png')\n",
    "plt.show()"
   ],
   "metadata": {
    "collapsed": false,
    "pycharm": {
     "name": "#%%\n"
    }
   }
  },
  {
   "cell_type": "code",
   "execution_count": 55,
   "outputs": [],
   "source": [
    "content.to_csv(f'{DATA_PATH}{POSTPROCESSING}content.csv')\n",
    "history.to_csv(f'{DATA_PATH}{POSTPROCESSING}watch_history.csv')\n"
   ],
   "metadata": {
    "collapsed": false,
    "pycharm": {
     "name": "#%%\n"
    }
   }
  }
 ],
 "metadata": {
  "kernelspec": {
   "name": "pycharm-a7fa1f9b",
   "language": "python",
   "display_name": "PyCharm (jb_test_2)"
  },
  "language_info": {
   "codemirror_mode": {
    "name": "ipython",
    "version": 2
   },
   "file_extension": ".py",
   "mimetype": "text/x-python",
   "name": "python",
   "nbconvert_exporter": "python",
   "pygments_lexer": "ipython2",
   "version": "2.7.6"
  }
 },
 "nbformat": 4,
 "nbformat_minor": 0
}