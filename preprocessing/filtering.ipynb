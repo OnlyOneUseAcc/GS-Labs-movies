{
 "cells": [
  {
   "cell_type": "code",
   "execution_count": 182,
   "metadata": {
    "collapsed": true
   },
   "outputs": [],
   "source": [
    "import pandas as pd\n",
    "import numpy as np"
   ]
  },
  {
   "cell_type": "code",
   "execution_count": 183,
   "outputs": [],
   "source": [
    "DATA_PATH = '../data/'\n",
    "POSTPROCESSING = 'postprocessing/'\n",
    "RAW = 'raw/'"
   ],
   "metadata": {
    "collapsed": false,
    "pycharm": {
     "name": "#%%\n"
    }
   }
  },
  {
   "cell_type": "code",
   "execution_count": 184,
   "outputs": [
    {
     "data": {
      "text/plain": "                            name                type  serial_id  \\\ncontent_uid                                                       \n9882         \"Шоу \"Студия \"Союз\"  serial_with_season        NaN   \n13701        \"Шоу \"Студия \"Союз\"             episode     9882.0   \n12274        \"Шоу \"Студия \"Союз\"             episode     9882.0   \n13579        \"Шоу \"Студия \"Союз\"             episode     9882.0   \n18055        \"Шоу \"Студия \"Союз\"             episode     9882.0   \n\n                         genres  duration_seconds  \ncontent_uid                                        \n9882         Игровое шоу,Музыка               NaN  \n13701                       NaN            2823.0  \n12274                       NaN            2694.0  \n13579                       NaN            2739.0  \n18055                       NaN            2887.0  ",
      "text/html": "<div>\n<style scoped>\n    .dataframe tbody tr th:only-of-type {\n        vertical-align: middle;\n    }\n\n    .dataframe tbody tr th {\n        vertical-align: top;\n    }\n\n    .dataframe thead th {\n        text-align: right;\n    }\n</style>\n<table border=\"1\" class=\"dataframe\">\n  <thead>\n    <tr style=\"text-align: right;\">\n      <th></th>\n      <th>name</th>\n      <th>type</th>\n      <th>serial_id</th>\n      <th>genres</th>\n      <th>duration_seconds</th>\n    </tr>\n    <tr>\n      <th>content_uid</th>\n      <th></th>\n      <th></th>\n      <th></th>\n      <th></th>\n      <th></th>\n    </tr>\n  </thead>\n  <tbody>\n    <tr>\n      <th>9882</th>\n      <td>\"Шоу \"Студия \"Союз\"</td>\n      <td>serial_with_season</td>\n      <td>NaN</td>\n      <td>Игровое шоу,Музыка</td>\n      <td>NaN</td>\n    </tr>\n    <tr>\n      <th>13701</th>\n      <td>\"Шоу \"Студия \"Союз\"</td>\n      <td>episode</td>\n      <td>9882.0</td>\n      <td>NaN</td>\n      <td>2823.0</td>\n    </tr>\n    <tr>\n      <th>12274</th>\n      <td>\"Шоу \"Студия \"Союз\"</td>\n      <td>episode</td>\n      <td>9882.0</td>\n      <td>NaN</td>\n      <td>2694.0</td>\n    </tr>\n    <tr>\n      <th>13579</th>\n      <td>\"Шоу \"Студия \"Союз\"</td>\n      <td>episode</td>\n      <td>9882.0</td>\n      <td>NaN</td>\n      <td>2739.0</td>\n    </tr>\n    <tr>\n      <th>18055</th>\n      <td>\"Шоу \"Студия \"Союз\"</td>\n      <td>episode</td>\n      <td>9882.0</td>\n      <td>NaN</td>\n      <td>2887.0</td>\n    </tr>\n  </tbody>\n</table>\n</div>"
     },
     "execution_count": 184,
     "metadata": {},
     "output_type": "execute_result"
    }
   ],
   "source": [
    "content = pd.read_csv(f\"{DATA_PATH}{RAW}content.csv\", index_col='content_uid')\n",
    "content.head()"
   ],
   "metadata": {
    "collapsed": false,
    "pycharm": {
     "name": "#%%\n"
    }
   }
  },
  {
   "cell_type": "code",
   "execution_count": 185,
   "outputs": [
    {
     "data": {
      "text/plain": "   user_uid  content_uid  second\n0         1        26719     400\n1         1        11882     627\n2         1        26174    5693\n3         4        28436     828\n4         4         3836      64",
      "text/html": "<div>\n<style scoped>\n    .dataframe tbody tr th:only-of-type {\n        vertical-align: middle;\n    }\n\n    .dataframe tbody tr th {\n        vertical-align: top;\n    }\n\n    .dataframe thead th {\n        text-align: right;\n    }\n</style>\n<table border=\"1\" class=\"dataframe\">\n  <thead>\n    <tr style=\"text-align: right;\">\n      <th></th>\n      <th>user_uid</th>\n      <th>content_uid</th>\n      <th>second</th>\n    </tr>\n  </thead>\n  <tbody>\n    <tr>\n      <th>0</th>\n      <td>1</td>\n      <td>26719</td>\n      <td>400</td>\n    </tr>\n    <tr>\n      <th>1</th>\n      <td>1</td>\n      <td>11882</td>\n      <td>627</td>\n    </tr>\n    <tr>\n      <th>2</th>\n      <td>1</td>\n      <td>26174</td>\n      <td>5693</td>\n    </tr>\n    <tr>\n      <th>3</th>\n      <td>4</td>\n      <td>28436</td>\n      <td>828</td>\n    </tr>\n    <tr>\n      <th>4</th>\n      <td>4</td>\n      <td>3836</td>\n      <td>64</td>\n    </tr>\n  </tbody>\n</table>\n</div>"
     },
     "execution_count": 185,
     "metadata": {},
     "output_type": "execute_result"
    }
   ],
   "source": [
    "history = pd.read_csv(f'{DATA_PATH}{RAW}watch_history.csv')\n",
    "history.head()"
   ],
   "metadata": {
    "collapsed": false,
    "pycharm": {
     "name": "#%%\n"
    }
   }
  },
  {
   "cell_type": "code",
   "execution_count": 186,
   "outputs": [
    {
     "data": {
      "text/plain": "(array(['episode', 'movie', 'serial_with_season', 'serial_without_season'],\n       dtype=object),\n array([13466,  3146,   669,    16], dtype=int64))"
     },
     "execution_count": 186,
     "metadata": {},
     "output_type": "execute_result"
    }
   ],
   "source": [
    "# построить гистограмму по типам\n",
    "np.unique(content['type'], return_counts=True)"
   ],
   "metadata": {
    "collapsed": false,
    "pycharm": {
     "name": "#%%\n"
    }
   }
  },
  {
   "cell_type": "code",
   "execution_count": 187,
   "outputs": [
    {
     "data": {
      "text/plain": "array([[<AxesSubplot:title={'center':'count_nan'}>]], dtype=object)"
     },
     "execution_count": 187,
     "metadata": {},
     "output_type": "execute_result"
    },
    {
     "data": {
      "text/plain": "<Figure size 432x288 with 1 Axes>",
      "image/png": "[encoded data removed]"
     },
     "metadata": {
      "needs_background": "light"
     },
     "output_type": "display_data"
    }
   ],
   "source": [
    "# построить гистограмму пропусков\n",
    "content.groupby(by=['type']).agg(\n",
    "    count_nan = pd.NamedAgg(column='duration_seconds', aggfunc=lambda x: x.isna().sum())\n",
    ").hist()"
   ],
   "metadata": {
    "collapsed": false,
    "pycharm": {
     "name": "#%%\n"
    }
   }
  },
  {
   "cell_type": "code",
   "execution_count": 188,
   "outputs": [
    {
     "name": "stdout",
     "output_type": "stream",
     "text": [
      "68\n"
     ]
    }
   ],
   "source": [
    "# пропущенные длительноть фильмов можно колво отобразить\n",
    "\n",
    "miss_duration = content[(content['type'] == 'movie') &\n",
    "                        (content['duration_seconds'].isna())].index.to_list()\n",
    "print(len(miss_duration))"
   ],
   "metadata": {
    "collapsed": false,
    "pycharm": {
     "name": "#%%\n"
    }
   }
  },
  {
   "cell_type": "code",
   "execution_count": 189,
   "outputs": [],
   "source": [
    "collect_data_path = '../data/raw/missed_movies.csv'\n",
    "collect_data = pd.read_csv(collect_data_path, index_col=1)"
   ],
   "metadata": {
    "collapsed": false,
    "pycharm": {
     "name": "#%%\n"
    }
   }
  },
  {
   "cell_type": "code",
   "execution_count": 190,
   "outputs": [
    {
     "data": {
      "text/plain": "[25226]"
     },
     "execution_count": 190,
     "metadata": {},
     "output_type": "execute_result"
    }
   ],
   "source": [
    "delete_list = collect_data[collect_data['duration_seconds'].isna()].index.to_list()\n",
    "delete_list"
   ],
   "metadata": {
    "collapsed": false,
    "pycharm": {
     "name": "#%%\n"
    }
   }
  },
  {
   "cell_type": "code",
   "execution_count": 191,
   "outputs": [],
   "source": [
    "content.loc[collect_data.index, 'duration_seconds'] = collect_data['duration_seconds'] * 60"
   ],
   "metadata": {
    "collapsed": false,
    "pycharm": {
     "name": "#%%\n"
    }
   }
  },
  {
   "cell_type": "code",
   "execution_count": 192,
   "outputs": [],
   "source": [
    "history = history.drop(history[history.index.isin(delete_list)].index)\n",
    "content = content.drop(content[content.index.isin(delete_list)].index)"
   ],
   "metadata": {
    "collapsed": false,
    "pycharm": {
     "name": "#%%\n"
    }
   }
  },
  {
   "cell_type": "markdown",
   "source": [
    "Выше не смотрим"
   ],
   "metadata": {
    "collapsed": false,
    "pycharm": {
     "name": "#%% md\n"
    }
   }
  },
  {
   "cell_type": "code",
   "execution_count": 193,
   "outputs": [
    {
     "data": {
      "text/plain": "                          name                type  serial_id  \\\ncontent_uid                                                     \n3843         Городские легенды  serial_with_season        NaN   \n12963        Городские легенды             episode     3843.0   \n12962        Городские легенды             episode     3843.0   \n20630        Городские легенды  serial_with_season        NaN   \n20738        Городские легенды             episode    20630.0   \n20640        Городские легенды             episode    20630.0   \n20600        Городские легенды             episode    20630.0   \n20548        Городские легенды             episode    20630.0   \n20647        Городские легенды             episode    20630.0   \n20648        Городские легенды             episode    20630.0   \n20450        Городские легенды             episode    20630.0   \n20452        Городские легенды             episode    20630.0   \n20642        Городские легенды             episode    20630.0   \n20550        Городские легенды             episode    20630.0   \n\n                             genres  duration_seconds  \ncontent_uid                                            \n3843                        Комедия               NaN  \n12963                       Комедия            1423.0  \n12962                       Комедия            1328.0  \n20630        Документальный,Мистика               NaN  \n20738                Документальный            2579.0  \n20640                Документальный            2546.0  \n20600                Документальный            2575.0  \n20548                Документальный            2667.0  \n20647                Документальный            2580.0  \n20648                Документальный            2740.0  \n20450                Документальный            2583.0  \n20452                Документальный            2646.0  \n20642                Документальный            2283.0  \n20550                Документальный            2460.0  ",
      "text/html": "<div>\n<style scoped>\n    .dataframe tbody tr th:only-of-type {\n        vertical-align: middle;\n    }\n\n    .dataframe tbody tr th {\n        vertical-align: top;\n    }\n\n    .dataframe thead th {\n        text-align: right;\n    }\n</style>\n<table border=\"1\" class=\"dataframe\">\n  <thead>\n    <tr style=\"text-align: right;\">\n      <th></th>\n      <th>name</th>\n      <th>type</th>\n      <th>serial_id</th>\n      <th>genres</th>\n      <th>duration_seconds</th>\n    </tr>\n    <tr>\n      <th>content_uid</th>\n      <th></th>\n      <th></th>\n      <th></th>\n      <th></th>\n      <th></th>\n    </tr>\n  </thead>\n  <tbody>\n    <tr>\n      <th>3843</th>\n      <td>Городские легенды</td>\n      <td>serial_with_season</td>\n      <td>NaN</td>\n      <td>Комедия</td>\n      <td>NaN</td>\n    </tr>\n    <tr>\n      <th>12963</th>\n      <td>Городские легенды</td>\n      <td>episode</td>\n      <td>3843.0</td>\n      <td>Комедия</td>\n      <td>1423.0</td>\n    </tr>\n    <tr>\n      <th>12962</th>\n      <td>Городские легенды</td>\n      <td>episode</td>\n      <td>3843.0</td>\n      <td>Комедия</td>\n      <td>1328.0</td>\n    </tr>\n    <tr>\n      <th>20630</th>\n      <td>Городские легенды</td>\n      <td>serial_with_season</td>\n      <td>NaN</td>\n      <td>Документальный,Мистика</td>\n      <td>NaN</td>\n    </tr>\n    <tr>\n      <th>20738</th>\n      <td>Городские легенды</td>\n      <td>episode</td>\n      <td>20630.0</td>\n      <td>Документальный</td>\n      <td>2579.0</td>\n    </tr>\n    <tr>\n      <th>20640</th>\n      <td>Городские легенды</td>\n      <td>episode</td>\n      <td>20630.0</td>\n      <td>Документальный</td>\n      <td>2546.0</td>\n    </tr>\n    <tr>\n      <th>20600</th>\n      <td>Городские легенды</td>\n      <td>episode</td>\n      <td>20630.0</td>\n      <td>Документальный</td>\n      <td>2575.0</td>\n    </tr>\n    <tr>\n      <th>20548</th>\n      <td>Городские легенды</td>\n      <td>episode</td>\n      <td>20630.0</td>\n      <td>Документальный</td>\n      <td>2667.0</td>\n    </tr>\n    <tr>\n      <th>20647</th>\n      <td>Городские легенды</td>\n      <td>episode</td>\n      <td>20630.0</td>\n      <td>Документальный</td>\n      <td>2580.0</td>\n    </tr>\n    <tr>\n      <th>20648</th>\n      <td>Городские легенды</td>\n      <td>episode</td>\n      <td>20630.0</td>\n      <td>Документальный</td>\n      <td>2740.0</td>\n    </tr>\n    <tr>\n      <th>20450</th>\n      <td>Городские легенды</td>\n      <td>episode</td>\n      <td>20630.0</td>\n      <td>Документальный</td>\n      <td>2583.0</td>\n    </tr>\n    <tr>\n      <th>20452</th>\n      <td>Городские легенды</td>\n      <td>episode</td>\n      <td>20630.0</td>\n      <td>Документальный</td>\n      <td>2646.0</td>\n    </tr>\n    <tr>\n      <th>20642</th>\n      <td>Городские легенды</td>\n      <td>episode</td>\n      <td>20630.0</td>\n      <td>Документальный</td>\n      <td>2283.0</td>\n    </tr>\n    <tr>\n      <th>20550</th>\n      <td>Городские легенды</td>\n      <td>episode</td>\n      <td>20630.0</td>\n      <td>Документальный</td>\n      <td>2460.0</td>\n    </tr>\n  </tbody>\n</table>\n</div>"
     },
     "execution_count": 193,
     "metadata": {},
     "output_type": "execute_result"
    }
   ],
   "source": [
    "content[content.name == 'Городские легенды']\n"
   ],
   "metadata": {
    "collapsed": false,
    "pycharm": {
     "name": "#%%\n"
    }
   }
  },
  {
   "cell_type": "code",
   "execution_count": 194,
   "outputs": [
    {
     "data": {
      "text/plain": "           duration_seconds\nserial_id                  \n250.0                2605.0\n551.0               34311.0\n691.0               10652.0\n841.0               42302.0\n992.0               44345.0\n...                     ...\n30165.0             80412.0\n30266.0             61665.0\n30407.0             56563.0\n30456.0             36873.0\n30533.0             23252.0\n\n[684 rows x 1 columns]",
      "text/html": "<div>\n<style scoped>\n    .dataframe tbody tr th:only-of-type {\n        vertical-align: middle;\n    }\n\n    .dataframe tbody tr th {\n        vertical-align: top;\n    }\n\n    .dataframe thead th {\n        text-align: right;\n    }\n</style>\n<table border=\"1\" class=\"dataframe\">\n  <thead>\n    <tr style=\"text-align: right;\">\n      <th></th>\n      <th>duration_seconds</th>\n    </tr>\n    <tr>\n      <th>serial_id</th>\n      <th></th>\n    </tr>\n  </thead>\n  <tbody>\n    <tr>\n      <th>250.0</th>\n      <td>2605.0</td>\n    </tr>\n    <tr>\n      <th>551.0</th>\n      <td>34311.0</td>\n    </tr>\n    <tr>\n      <th>691.0</th>\n      <td>10652.0</td>\n    </tr>\n    <tr>\n      <th>841.0</th>\n      <td>42302.0</td>\n    </tr>\n    <tr>\n      <th>992.0</th>\n      <td>44345.0</td>\n    </tr>\n    <tr>\n      <th>...</th>\n      <td>...</td>\n    </tr>\n    <tr>\n      <th>30165.0</th>\n      <td>80412.0</td>\n    </tr>\n    <tr>\n      <th>30266.0</th>\n      <td>61665.0</td>\n    </tr>\n    <tr>\n      <th>30407.0</th>\n      <td>56563.0</td>\n    </tr>\n    <tr>\n      <th>30456.0</th>\n      <td>36873.0</td>\n    </tr>\n    <tr>\n      <th>30533.0</th>\n      <td>23252.0</td>\n    </tr>\n  </tbody>\n</table>\n<p>684 rows × 1 columns</p>\n</div>"
     },
     "execution_count": 194,
     "metadata": {},
     "output_type": "execute_result"
    }
   ],
   "source": [
    "seasons_serials_duration = content[content.type.isin(['episode'])][['serial_id', 'duration_seconds']].groupby(by='serial_id').sum()\n",
    "seasons_serials_duration\n"
   ],
   "metadata": {
    "collapsed": false,
    "pycharm": {
     "name": "#%%\n"
    }
   }
  },
  {
   "cell_type": "code",
   "execution_count": 195,
   "outputs": [],
   "source": [
    "content.loc[seasons_serials_duration.index, 'duration_seconds'] = seasons_serials_duration"
   ],
   "metadata": {
    "collapsed": false,
    "pycharm": {
     "name": "#%%\n"
    }
   }
  },
  {
   "cell_type": "markdown",
   "source": [
    "Удаляем контент, без эпизодов => без просморов"
   ],
   "metadata": {
    "collapsed": false,
    "pycharm": {
     "name": "#%% md\n"
    }
   }
  },
  {
   "cell_type": "code",
   "execution_count": 196,
   "outputs": [
    {
     "data": {
      "text/plain": "Empty DataFrame\nColumns: [user_uid, content_uid, second]\nIndex: []",
      "text/html": "<div>\n<style scoped>\n    .dataframe tbody tr th:only-of-type {\n        vertical-align: middle;\n    }\n\n    .dataframe tbody tr th {\n        vertical-align: top;\n    }\n\n    .dataframe thead th {\n        text-align: right;\n    }\n</style>\n<table border=\"1\" class=\"dataframe\">\n  <thead>\n    <tr style=\"text-align: right;\">\n      <th></th>\n      <th>user_uid</th>\n      <th>content_uid</th>\n      <th>second</th>\n    </tr>\n  </thead>\n  <tbody>\n  </tbody>\n</table>\n</div>"
     },
     "execution_count": 196,
     "metadata": {},
     "output_type": "execute_result"
    }
   ],
   "source": [
    "id = content[content.duration_seconds.isna()].index\n",
    "history[history.content_uid.isin(id)]"
   ],
   "metadata": {
    "collapsed": false,
    "pycharm": {
     "name": "#%%\n"
    }
   }
  },
  {
   "cell_type": "code",
   "execution_count": 197,
   "outputs": [],
   "source": [
    "content.drop(id, inplace=True)"
   ],
   "metadata": {
    "collapsed": false,
    "pycharm": {
     "name": "#%%\n"
    }
   }
  },
  {
   "cell_type": "markdown",
   "source": [
    "Тк мы скомпоновали эпизоды по сериалам, сами эпизоды нам не нужны"
   ],
   "metadata": {
    "collapsed": false,
    "pycharm": {
     "name": "#%% md\n"
    }
   }
  },
  {
   "cell_type": "code",
   "execution_count": 198,
   "outputs": [],
   "source": [
    "content.drop(content[content.type == 'episode'].index, inplace=True)"
   ],
   "metadata": {
    "collapsed": false,
    "pycharm": {
     "name": "#%%\n"
    }
   }
  },
  {
   "cell_type": "code",
   "execution_count": 199,
   "outputs": [
    {
     "data": {
      "text/plain": "                       count_nan\ntype                            \nmovie                        0.0\nserial_with_season           0.0\nserial_without_season        0.0",
      "text/html": "<div>\n<style scoped>\n    .dataframe tbody tr th:only-of-type {\n        vertical-align: middle;\n    }\n\n    .dataframe tbody tr th {\n        vertical-align: top;\n    }\n\n    .dataframe thead th {\n        text-align: right;\n    }\n</style>\n<table border=\"1\" class=\"dataframe\">\n  <thead>\n    <tr style=\"text-align: right;\">\n      <th></th>\n      <th>count_nan</th>\n    </tr>\n    <tr>\n      <th>type</th>\n      <th></th>\n    </tr>\n  </thead>\n  <tbody>\n    <tr>\n      <th>movie</th>\n      <td>0.0</td>\n    </tr>\n    <tr>\n      <th>serial_with_season</th>\n      <td>0.0</td>\n    </tr>\n    <tr>\n      <th>serial_without_season</th>\n      <td>0.0</td>\n    </tr>\n  </tbody>\n</table>\n</div>"
     },
     "execution_count": 199,
     "metadata": {},
     "output_type": "execute_result"
    }
   ],
   "source": [
    "content.groupby(by=['type']).agg(\n",
    "    count_nan = pd.NamedAgg(column='duration_seconds', aggfunc=lambda x: x.isna().sum())\n",
    ")"
   ],
   "metadata": {
    "collapsed": false,
    "pycharm": {
     "name": "#%%\n"
    }
   }
  },
  {
   "cell_type": "code",
   "execution_count": 200,
   "outputs": [],
   "source": [
    "content.to_csv(f'{DATA_PATH}{POSTPROCESSING}content.csv')\n",
    "history.to_csv(f'{DATA_PATH}{POSTPROCESSING}watch_history.csv')\n"
   ],
   "metadata": {
    "collapsed": false,
    "pycharm": {
     "name": "#%%\n"
    }
   }
  }
 ],
 "metadata": {
  "kernelspec": {
   "name": "pycharm-a7fa1f9b",
   "language": "python",
   "display_name": "PyCharm (jb_test_2)"
  },
  "language_info": {
   "codemirror_mode": {
    "name": "ipython",
    "version": 2
   },
   "file_extension": ".py",
   "mimetype": "text/x-python",
   "name": "python",
   "nbconvert_exporter": "python",
   "pygments_lexer": "ipython2",
   "version": "2.7.6"
  }
 },
 "nbformat": 4,
 "nbformat_minor": 0
}