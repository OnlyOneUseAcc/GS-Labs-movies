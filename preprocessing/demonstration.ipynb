{
 "cells": [
  {
   "cell_type": "code",
   "execution_count": 20,
   "metadata": {
    "collapsed": true
   },
   "outputs": [],
   "source": [
    "import pandas as pd\n",
    "import numpy as np"
   ]
  },
  {
   "cell_type": "code",
   "execution_count": 21,
   "outputs": [],
   "source": [
    "CONTENT_PATH = '../data/'"
   ],
   "metadata": {
    "collapsed": false,
    "pycharm": {
     "name": "#%%\n"
    }
   }
  },
  {
   "cell_type": "code",
   "execution_count": 22,
   "outputs": [
    {
     "data": {
      "text/plain": "   content_uid                 name                type  serial_id  \\\n0         9882  \"Шоу \"Студия \"Союз\"  serial_with_season        NaN   \n1        13701  \"Шоу \"Студия \"Союз\"             episode     9882.0   \n2        12274  \"Шоу \"Студия \"Союз\"             episode     9882.0   \n3        13579  \"Шоу \"Студия \"Союз\"             episode     9882.0   \n4        18055  \"Шоу \"Студия \"Союз\"             episode     9882.0   \n\n               genres  duration_seconds  \n0  Игровое шоу,Музыка               NaN  \n1                 NaN            2823.0  \n2                 NaN            2694.0  \n3                 NaN            2739.0  \n4                 NaN            2887.0  ",
      "text/html": "<div>\n<style scoped>\n    .dataframe tbody tr th:only-of-type {\n        vertical-align: middle;\n    }\n\n    .dataframe tbody tr th {\n        vertical-align: top;\n    }\n\n    .dataframe thead th {\n        text-align: right;\n    }\n</style>\n<table border=\"1\" class=\"dataframe\">\n  <thead>\n    <tr style=\"text-align: right;\">\n      <th></th>\n      <th>content_uid</th>\n      <th>name</th>\n      <th>type</th>\n      <th>serial_id</th>\n      <th>genres</th>\n      <th>duration_seconds</th>\n    </tr>\n  </thead>\n  <tbody>\n    <tr>\n      <th>0</th>\n      <td>9882</td>\n      <td>\"Шоу \"Студия \"Союз\"</td>\n      <td>serial_with_season</td>\n      <td>NaN</td>\n      <td>Игровое шоу,Музыка</td>\n      <td>NaN</td>\n    </tr>\n    <tr>\n      <th>1</th>\n      <td>13701</td>\n      <td>\"Шоу \"Студия \"Союз\"</td>\n      <td>episode</td>\n      <td>9882.0</td>\n      <td>NaN</td>\n      <td>2823.0</td>\n    </tr>\n    <tr>\n      <th>2</th>\n      <td>12274</td>\n      <td>\"Шоу \"Студия \"Союз\"</td>\n      <td>episode</td>\n      <td>9882.0</td>\n      <td>NaN</td>\n      <td>2694.0</td>\n    </tr>\n    <tr>\n      <th>3</th>\n      <td>13579</td>\n      <td>\"Шоу \"Студия \"Союз\"</td>\n      <td>episode</td>\n      <td>9882.0</td>\n      <td>NaN</td>\n      <td>2739.0</td>\n    </tr>\n    <tr>\n      <th>4</th>\n      <td>18055</td>\n      <td>\"Шоу \"Студия \"Союз\"</td>\n      <td>episode</td>\n      <td>9882.0</td>\n      <td>NaN</td>\n      <td>2887.0</td>\n    </tr>\n  </tbody>\n</table>\n</div>"
     },
     "execution_count": 22,
     "metadata": {},
     "output_type": "execute_result"
    }
   ],
   "source": [
    "content = pd.read_csv(f\"{CONTENT_PATH}content.csv\")\n",
    "content.head()"
   ],
   "metadata": {
    "collapsed": false,
    "pycharm": {
     "name": "#%%\n"
    }
   }
  },
  {
   "cell_type": "code",
   "execution_count": 23,
   "outputs": [
    {
     "name": "stdout",
     "output_type": "stream",
     "text": [
      "<class 'pandas.core.frame.DataFrame'>\n",
      "RangeIndex: 17297 entries, 0 to 17296\n",
      "Data columns (total 6 columns):\n",
      " #   Column            Non-Null Count  Dtype  \n",
      "---  ------            --------------  -----  \n",
      " 0   content_uid       17297 non-null  int64  \n",
      " 1   name              17297 non-null  object \n",
      " 2   type              17297 non-null  object \n",
      " 3   serial_id         13466 non-null  float64\n",
      " 4   genres            16023 non-null  object \n",
      " 5   duration_seconds  16902 non-null  float64\n",
      "dtypes: float64(2), int64(1), object(3)\n",
      "memory usage: 810.9+ KB\n"
     ]
    }
   ],
   "source": [
    "content.info()"
   ],
   "metadata": {
    "collapsed": false,
    "pycharm": {
     "name": "#%%\n"
    }
   }
  },
  {
   "cell_type": "code",
   "execution_count": 24,
   "outputs": [
    {
     "data": {
      "text/plain": "(array(['episode', 'movie', 'serial_with_season', 'serial_without_season'],\n       dtype=object),\n array([13466,  3146,   669,    16], dtype=int64))"
     },
     "execution_count": 24,
     "metadata": {},
     "output_type": "execute_result"
    }
   ],
   "source": [
    "np.unique(content['type'], return_counts=True)"
   ],
   "metadata": {
    "collapsed": false,
    "pycharm": {
     "name": "#%%\n"
    }
   }
  },
  {
   "cell_type": "code",
   "execution_count": 25,
   "outputs": [
    {
     "data": {
      "text/plain": "   user_uid  content_uid  second\n0         1        26719     400\n1         1        11882     627\n2         1        26174    5693\n3         4        28436     828\n4         4         3836      64",
      "text/html": "<div>\n<style scoped>\n    .dataframe tbody tr th:only-of-type {\n        vertical-align: middle;\n    }\n\n    .dataframe tbody tr th {\n        vertical-align: top;\n    }\n\n    .dataframe thead th {\n        text-align: right;\n    }\n</style>\n<table border=\"1\" class=\"dataframe\">\n  <thead>\n    <tr style=\"text-align: right;\">\n      <th></th>\n      <th>user_uid</th>\n      <th>content_uid</th>\n      <th>second</th>\n    </tr>\n  </thead>\n  <tbody>\n    <tr>\n      <th>0</th>\n      <td>1</td>\n      <td>26719</td>\n      <td>400</td>\n    </tr>\n    <tr>\n      <th>1</th>\n      <td>1</td>\n      <td>11882</td>\n      <td>627</td>\n    </tr>\n    <tr>\n      <th>2</th>\n      <td>1</td>\n      <td>26174</td>\n      <td>5693</td>\n    </tr>\n    <tr>\n      <th>3</th>\n      <td>4</td>\n      <td>28436</td>\n      <td>828</td>\n    </tr>\n    <tr>\n      <th>4</th>\n      <td>4</td>\n      <td>3836</td>\n      <td>64</td>\n    </tr>\n  </tbody>\n</table>\n</div>"
     },
     "execution_count": 25,
     "metadata": {},
     "output_type": "execute_result"
    }
   ],
   "source": [
    "history = pd.read_csv(f'{CONTENT_PATH}watch_history.csv')\n",
    "history.head()"
   ],
   "metadata": {
    "collapsed": false,
    "pycharm": {
     "name": "#%%\n"
    }
   }
  },
  {
   "cell_type": "code",
   "execution_count": 26,
   "outputs": [
    {
     "name": "stdout",
     "output_type": "stream",
     "text": [
      "<class 'pandas.core.frame.DataFrame'>\n",
      "RangeIndex: 1286131 entries, 0 to 1286130\n",
      "Data columns (total 3 columns):\n",
      " #   Column       Non-Null Count    Dtype\n",
      "---  ------       --------------    -----\n",
      " 0   user_uid     1286131 non-null  int64\n",
      " 1   content_uid  1286131 non-null  int64\n",
      " 2   second       1286131 non-null  int64\n",
      "dtypes: int64(3)\n",
      "memory usage: 29.4 MB\n"
     ]
    }
   ],
   "source": [
    "history.info()"
   ],
   "metadata": {
    "collapsed": false,
    "pycharm": {
     "name": "#%%\n"
    }
   }
  },
  {
   "cell_type": "code",
   "execution_count": 27,
   "outputs": [
    {
     "data": {
      "text/plain": "318"
     },
     "execution_count": 27,
     "metadata": {},
     "output_type": "execute_result"
    }
   ],
   "source": [
    "\n",
    "content[content['type'] == 'serial_with_season']['duration_seconds'].isna().sum()"
   ],
   "metadata": {
    "collapsed": false,
    "pycharm": {
     "name": "#%%\n"
    }
   }
  },
  {
   "cell_type": "code",
   "execution_count": 28,
   "outputs": [
    {
     "data": {
      "text/plain": "395"
     },
     "execution_count": 28,
     "metadata": {},
     "output_type": "execute_result"
    }
   ],
   "source": [
    "content[\"duration_seconds\"].isna().sum()"
   ],
   "metadata": {
    "collapsed": false,
    "pycharm": {
     "name": "#%%\n"
    }
   }
  },
  {
   "cell_type": "code",
   "execution_count": 29,
   "outputs": [
    {
     "data": {
      "text/plain": "                       count_nan\ntype                            \nepisode                      0.0\nmovie                       68.0\nserial_with_season         318.0\nserial_without_season        9.0",
      "text/html": "<div>\n<style scoped>\n    .dataframe tbody tr th:only-of-type {\n        vertical-align: middle;\n    }\n\n    .dataframe tbody tr th {\n        vertical-align: top;\n    }\n\n    .dataframe thead th {\n        text-align: right;\n    }\n</style>\n<table border=\"1\" class=\"dataframe\">\n  <thead>\n    <tr style=\"text-align: right;\">\n      <th></th>\n      <th>count_nan</th>\n    </tr>\n    <tr>\n      <th>type</th>\n      <th></th>\n    </tr>\n  </thead>\n  <tbody>\n    <tr>\n      <th>episode</th>\n      <td>0.0</td>\n    </tr>\n    <tr>\n      <th>movie</th>\n      <td>68.0</td>\n    </tr>\n    <tr>\n      <th>serial_with_season</th>\n      <td>318.0</td>\n    </tr>\n    <tr>\n      <th>serial_without_season</th>\n      <td>9.0</td>\n    </tr>\n  </tbody>\n</table>\n</div>"
     },
     "execution_count": 29,
     "metadata": {},
     "output_type": "execute_result"
    }
   ],
   "source": [
    "content.groupby(by=['type']).agg(\n",
    "    count_nan = pd.NamedAgg(column='duration_seconds', aggfunc=lambda x: x.isna().sum())\n",
    ")"
   ],
   "metadata": {
    "collapsed": false,
    "pycharm": {
     "name": "#%%\n"
    }
   }
  },
  {
   "cell_type": "code",
   "execution_count": 30,
   "outputs": [
    {
     "name": "stdout",
     "output_type": "stream",
     "text": [
      "[22864, 6070, 26933, 5713, 25226, 4001, 30796, 5726, 27481, 4464, 4463, 25091, 9573, 3248, 24973, 27969, 2771, 26421, 29372, 26674, 25352, 8232, 3410, 24788, 26526, 27785, 24786, 26067, 2743, 24812, 8556, 26780, 26562, 27109, 26784, 25245, 8224, 26446, 5880, 2156, 5079, 2145, 7321, 29018, 24908, 26205, 2263, 1666, 26995, 27485, 2711, 27764, 3887, 27515, 3928, 27136, 24994, 7357, 26005, 26910, 27135, 24650, 24828, 4670, 15821, 4857, 26214, 4037]\n"
     ]
    }
   ],
   "source": [
    "miss_duratiom = content[(content['type'] == 'movie') &\n",
    "                        (content['duration_seconds'].isna() )]['content_uid'].to_list()\n",
    "print(miss_duratiom)"
   ],
   "metadata": {
    "collapsed": false,
    "pycharm": {
     "name": "#%%\n"
    }
   }
  },
  {
   "cell_type": "code",
   "execution_count": 31,
   "outputs": [
    {
     "data": {
      "text/plain": "             user_uid  second\ncontent_uid                  \n26055           23090     230\n14147            6117    2829\n10965           27182    3167\n3498             5764    4162\n7250            25458    5343\n...               ...     ...\n7562             4697     235\n28834           15954    2802\n7846             4894     753\n3352            26450     300\n27597            4062    5359\n\n[68 rows x 2 columns]",
      "text/html": "<div>\n<style scoped>\n    .dataframe tbody tr th:only-of-type {\n        vertical-align: middle;\n    }\n\n    .dataframe tbody tr th {\n        vertical-align: top;\n    }\n\n    .dataframe thead th {\n        text-align: right;\n    }\n</style>\n<table border=\"1\" class=\"dataframe\">\n  <thead>\n    <tr style=\"text-align: right;\">\n      <th></th>\n      <th>user_uid</th>\n      <th>second</th>\n    </tr>\n    <tr>\n      <th>content_uid</th>\n      <th></th>\n      <th></th>\n    </tr>\n  </thead>\n  <tbody>\n    <tr>\n      <th>26055</th>\n      <td>23090</td>\n      <td>230</td>\n    </tr>\n    <tr>\n      <th>14147</th>\n      <td>6117</td>\n      <td>2829</td>\n    </tr>\n    <tr>\n      <th>10965</th>\n      <td>27182</td>\n      <td>3167</td>\n    </tr>\n    <tr>\n      <th>3498</th>\n      <td>5764</td>\n      <td>4162</td>\n    </tr>\n    <tr>\n      <th>7250</th>\n      <td>25458</td>\n      <td>5343</td>\n    </tr>\n    <tr>\n      <th>...</th>\n      <td>...</td>\n      <td>...</td>\n    </tr>\n    <tr>\n      <th>7562</th>\n      <td>4697</td>\n      <td>235</td>\n    </tr>\n    <tr>\n      <th>28834</th>\n      <td>15954</td>\n      <td>2802</td>\n    </tr>\n    <tr>\n      <th>7846</th>\n      <td>4894</td>\n      <td>753</td>\n    </tr>\n    <tr>\n      <th>3352</th>\n      <td>26450</td>\n      <td>300</td>\n    </tr>\n    <tr>\n      <th>27597</th>\n      <td>4062</td>\n      <td>5359</td>\n    </tr>\n  </tbody>\n</table>\n<p>68 rows × 2 columns</p>\n</div>"
     },
     "execution_count": 31,
     "metadata": {},
     "output_type": "execute_result"
    }
   ],
   "source": [
    "history2 =  history.set_index('content_uid')\n",
    "history2.iloc[miss_duratiom]\n"
   ],
   "metadata": {
    "collapsed": false,
    "pycharm": {
     "name": "#%%\n"
    }
   }
  },
  {
   "cell_type": "code",
   "execution_count": 32,
   "outputs": [],
   "source": [
    "path_1 = '../data/missed_movies.csv'\n",
    "\n",
    "collect_data = pd.read_csv(path_1)"
   ],
   "metadata": {
    "collapsed": false,
    "pycharm": {
     "name": "#%%\n"
    }
   }
  },
  {
   "cell_type": "code",
   "execution_count": 33,
   "outputs": [
    {
     "data": {
      "text/plain": "    Unnamed: 0  content_uid                       name  duration_seconds\n0           54        22864  12 рождественских желаний               NaN\n1           60         6070                 13-й район               NaN\n2           70        26933        2 спальни, 1 ванная               NaN\n3          325         5713                    Авиатор               NaN\n4          618        25226  Аптечный сомелье. Фоменко               NaN\n..         ...          ...                        ...               ...\n63       16436         4670         Чего хотят женщины               NaN\n64       16615        15821             Чёрный тюльпан               NaN\n65       16667         4857         Шербурские зонтики               NaN\n66       16845        26214                     Шрэк 2               NaN\n67       17282         4037               Яркая звезда               NaN\n\n[68 rows x 4 columns]",
      "text/html": "<div>\n<style scoped>\n    .dataframe tbody tr th:only-of-type {\n        vertical-align: middle;\n    }\n\n    .dataframe tbody tr th {\n        vertical-align: top;\n    }\n\n    .dataframe thead th {\n        text-align: right;\n    }\n</style>\n<table border=\"1\" class=\"dataframe\">\n  <thead>\n    <tr style=\"text-align: right;\">\n      <th></th>\n      <th>Unnamed: 0</th>\n      <th>content_uid</th>\n      <th>name</th>\n      <th>duration_seconds</th>\n    </tr>\n  </thead>\n  <tbody>\n    <tr>\n      <th>0</th>\n      <td>54</td>\n      <td>22864</td>\n      <td>12 рождественских желаний</td>\n      <td>NaN</td>\n    </tr>\n    <tr>\n      <th>1</th>\n      <td>60</td>\n      <td>6070</td>\n      <td>13-й район</td>\n      <td>NaN</td>\n    </tr>\n    <tr>\n      <th>2</th>\n      <td>70</td>\n      <td>26933</td>\n      <td>2 спальни, 1 ванная</td>\n      <td>NaN</td>\n    </tr>\n    <tr>\n      <th>3</th>\n      <td>325</td>\n      <td>5713</td>\n      <td>Авиатор</td>\n      <td>NaN</td>\n    </tr>\n    <tr>\n      <th>4</th>\n      <td>618</td>\n      <td>25226</td>\n      <td>Аптечный сомелье. Фоменко</td>\n      <td>NaN</td>\n    </tr>\n    <tr>\n      <th>...</th>\n      <td>...</td>\n      <td>...</td>\n      <td>...</td>\n      <td>...</td>\n    </tr>\n    <tr>\n      <th>63</th>\n      <td>16436</td>\n      <td>4670</td>\n      <td>Чего хотят женщины</td>\n      <td>NaN</td>\n    </tr>\n    <tr>\n      <th>64</th>\n      <td>16615</td>\n      <td>15821</td>\n      <td>Чёрный тюльпан</td>\n      <td>NaN</td>\n    </tr>\n    <tr>\n      <th>65</th>\n      <td>16667</td>\n      <td>4857</td>\n      <td>Шербурские зонтики</td>\n      <td>NaN</td>\n    </tr>\n    <tr>\n      <th>66</th>\n      <td>16845</td>\n      <td>26214</td>\n      <td>Шрэк 2</td>\n      <td>NaN</td>\n    </tr>\n    <tr>\n      <th>67</th>\n      <td>17282</td>\n      <td>4037</td>\n      <td>Яркая звезда</td>\n      <td>NaN</td>\n    </tr>\n  </tbody>\n</table>\n<p>68 rows × 4 columns</p>\n</div>"
     },
     "execution_count": 33,
     "metadata": {},
     "output_type": "execute_result"
    }
   ],
   "source": [
    "collect_data\n",
    "\n"
   ],
   "metadata": {
    "collapsed": false,
    "pycharm": {
     "name": "#%%\n"
    }
   }
  }
 ],
 "metadata": {
  "kernelspec": {
   "name": "pycharm-a7fa1f9b",
   "language": "python",
   "display_name": "PyCharm (jb_test_2)"
  },
  "language_info": {
   "codemirror_mode": {
    "name": "ipython",
    "version": 2
   },
   "file_extension": ".py",
   "mimetype": "text/x-python",
   "name": "python",
   "nbconvert_exporter": "python",
   "pygments_lexer": "ipython2",
   "version": "2.7.6"
  }
 },
 "nbformat": 4,
 "nbformat_minor": 0
}