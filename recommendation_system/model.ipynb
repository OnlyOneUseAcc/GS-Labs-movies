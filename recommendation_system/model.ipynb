{
 "cells": [
  {
   "cell_type": "code",
   "execution_count": 12,
   "outputs": [],
   "source": [
    "import pandas as pd\n",
    "from scipy import sparse\n",
    "from preprocessing.duration_matrix import DurationSparseMatrix\n",
    "from scipy.spatial.distance import cosine"
   ],
   "metadata": {
    "collapsed": false,
    "pycharm": {
     "name": "#%%\n"
    }
   }
  },
  {
   "cell_type": "code",
   "execution_count": 3,
   "outputs": [],
   "source": [
    "CONST_PATH = '../data/postprocessing/'"
   ],
   "metadata": {
    "collapsed": false,
    "pycharm": {
     "name": "#%%\n"
    }
   }
  },
  {
   "cell_type": "code",
   "execution_count": 14,
   "outputs": [
    {
     "data": {
      "text/plain": "          игровой  шоу  музыка  комедия  мелодрама  драма  комедийный  \\\nuser_uid                                                                \n1               0    0       0        0          0    400           0   \n4               0    0       0    27683      12981  12324        5154   \n25              0    0       0      900       6920  10666        1559   \n43              0    0       0      599         61     61           0   \n45              0    0       0     1470       1938   4257         293   \n\n          фэнтезийный  боевик  приключение  ...  молодёжь  детский  ситком  \\\nuser_uid                                    ...                              \n1                   0       0            0  ...         0        0       0   \n4                   0       0            0  ...         0        0       0   \n25                  0   14166            0  ...         0        0       0   \n43                  0       0            0  ...         0        0       0   \n45                  0    6029            0  ...         0        0       0   \n\n          индонезия  психологический  увлечение  досуг  концерт  скетчкома  \\\nuser_uid                                                                     \n1                 0                0          0      0        0          0   \n4                 0                0          0      0        0          0   \n25                0                0          0      0        0          0   \n43                0                0          0      0        0          0   \n45                0                0          0      0        0          0   \n\n          интервью  \nuser_uid            \n1                0  \n4                0  \n25               0  \n43               0  \n45               0  \n\n[5 rows x 71 columns]",
      "text/html": "<div>\n<style scoped>\n    .dataframe tbody tr th:only-of-type {\n        vertical-align: middle;\n    }\n\n    .dataframe tbody tr th {\n        vertical-align: top;\n    }\n\n    .dataframe thead th {\n        text-align: right;\n    }\n</style>\n<table border=\"1\" class=\"dataframe\">\n  <thead>\n    <tr style=\"text-align: right;\">\n      <th></th>\n      <th>игровой</th>\n      <th>шоу</th>\n      <th>музыка</th>\n      <th>комедия</th>\n      <th>мелодрама</th>\n      <th>драма</th>\n      <th>комедийный</th>\n      <th>фэнтезийный</th>\n      <th>боевик</th>\n      <th>приключение</th>\n      <th>...</th>\n      <th>молодёжь</th>\n      <th>детский</th>\n      <th>ситком</th>\n      <th>индонезия</th>\n      <th>психологический</th>\n      <th>увлечение</th>\n      <th>досуг</th>\n      <th>концерт</th>\n      <th>скетчкома</th>\n      <th>интервью</th>\n    </tr>\n    <tr>\n      <th>user_uid</th>\n      <th></th>\n      <th></th>\n      <th></th>\n      <th></th>\n      <th></th>\n      <th></th>\n      <th></th>\n      <th></th>\n      <th></th>\n      <th></th>\n      <th></th>\n      <th></th>\n      <th></th>\n      <th></th>\n      <th></th>\n      <th></th>\n      <th></th>\n      <th></th>\n      <th></th>\n      <th></th>\n      <th></th>\n    </tr>\n  </thead>\n  <tbody>\n    <tr>\n      <th>1</th>\n      <td>0</td>\n      <td>0</td>\n      <td>0</td>\n      <td>0</td>\n      <td>0</td>\n      <td>400</td>\n      <td>0</td>\n      <td>0</td>\n      <td>0</td>\n      <td>0</td>\n      <td>...</td>\n      <td>0</td>\n      <td>0</td>\n      <td>0</td>\n      <td>0</td>\n      <td>0</td>\n      <td>0</td>\n      <td>0</td>\n      <td>0</td>\n      <td>0</td>\n      <td>0</td>\n    </tr>\n    <tr>\n      <th>4</th>\n      <td>0</td>\n      <td>0</td>\n      <td>0</td>\n      <td>27683</td>\n      <td>12981</td>\n      <td>12324</td>\n      <td>5154</td>\n      <td>0</td>\n      <td>0</td>\n      <td>0</td>\n      <td>...</td>\n      <td>0</td>\n      <td>0</td>\n      <td>0</td>\n      <td>0</td>\n      <td>0</td>\n      <td>0</td>\n      <td>0</td>\n      <td>0</td>\n      <td>0</td>\n      <td>0</td>\n    </tr>\n    <tr>\n      <th>25</th>\n      <td>0</td>\n      <td>0</td>\n      <td>0</td>\n      <td>900</td>\n      <td>6920</td>\n      <td>10666</td>\n      <td>1559</td>\n      <td>0</td>\n      <td>14166</td>\n      <td>0</td>\n      <td>...</td>\n      <td>0</td>\n      <td>0</td>\n      <td>0</td>\n      <td>0</td>\n      <td>0</td>\n      <td>0</td>\n      <td>0</td>\n      <td>0</td>\n      <td>0</td>\n      <td>0</td>\n    </tr>\n    <tr>\n      <th>43</th>\n      <td>0</td>\n      <td>0</td>\n      <td>0</td>\n      <td>599</td>\n      <td>61</td>\n      <td>61</td>\n      <td>0</td>\n      <td>0</td>\n      <td>0</td>\n      <td>0</td>\n      <td>...</td>\n      <td>0</td>\n      <td>0</td>\n      <td>0</td>\n      <td>0</td>\n      <td>0</td>\n      <td>0</td>\n      <td>0</td>\n      <td>0</td>\n      <td>0</td>\n      <td>0</td>\n    </tr>\n    <tr>\n      <th>45</th>\n      <td>0</td>\n      <td>0</td>\n      <td>0</td>\n      <td>1470</td>\n      <td>1938</td>\n      <td>4257</td>\n      <td>293</td>\n      <td>0</td>\n      <td>6029</td>\n      <td>0</td>\n      <td>...</td>\n      <td>0</td>\n      <td>0</td>\n      <td>0</td>\n      <td>0</td>\n      <td>0</td>\n      <td>0</td>\n      <td>0</td>\n      <td>0</td>\n      <td>0</td>\n      <td>0</td>\n    </tr>\n  </tbody>\n</table>\n<p>5 rows × 71 columns</p>\n</div>"
     },
     "execution_count": 14,
     "metadata": {},
     "output_type": "execute_result"
    }
   ],
   "source": [
    "users_genres = pd.read_csv(f'{CONST_PATH}users_genres.csv', index_col='user_uid')\n",
    "users_genres.head()"
   ],
   "metadata": {
    "collapsed": false,
    "pycharm": {
     "name": "#%%\n"
    }
   }
  },
  {
   "cell_type": "code",
   "execution_count": 15,
   "outputs": [
    {
     "data": {
      "text/plain": "    serial_with_season  movie  serial_without_season\n1                    0   6720                      0\n4                30169  23638                      0\n25                 665  23969                      0\n43                   0    660                      0\n45                   0  14370                      0",
      "text/html": "<div>\n<style scoped>\n    .dataframe tbody tr th:only-of-type {\n        vertical-align: middle;\n    }\n\n    .dataframe tbody tr th {\n        vertical-align: top;\n    }\n\n    .dataframe thead th {\n        text-align: right;\n    }\n</style>\n<table border=\"1\" class=\"dataframe\">\n  <thead>\n    <tr style=\"text-align: right;\">\n      <th></th>\n      <th>serial_with_season</th>\n      <th>movie</th>\n      <th>serial_without_season</th>\n    </tr>\n  </thead>\n  <tbody>\n    <tr>\n      <th>1</th>\n      <td>0</td>\n      <td>6720</td>\n      <td>0</td>\n    </tr>\n    <tr>\n      <th>4</th>\n      <td>30169</td>\n      <td>23638</td>\n      <td>0</td>\n    </tr>\n    <tr>\n      <th>25</th>\n      <td>665</td>\n      <td>23969</td>\n      <td>0</td>\n    </tr>\n    <tr>\n      <th>43</th>\n      <td>0</td>\n      <td>660</td>\n      <td>0</td>\n    </tr>\n    <tr>\n      <th>45</th>\n      <td>0</td>\n      <td>14370</td>\n      <td>0</td>\n    </tr>\n  </tbody>\n</table>\n</div>"
     },
     "execution_count": 15,
     "metadata": {},
     "output_type": "execute_result"
    }
   ],
   "source": [
    "users_types = pd.read_csv(f'{CONST_PATH}user_content_types.csv', index_col=0)\n",
    "users_types.head()"
   ],
   "metadata": {
    "collapsed": false,
    "pycharm": {
     "name": "#%%\n"
    }
   }
  },
  {
   "cell_type": "code",
   "execution_count": 16,
   "outputs": [],
   "source": [
    "USER_ID = 4\n",
    "genres_similar_users = users_genres.drop(USER_ID, axis=0).apply(\n",
    "    lambda row: cosine(users_genres.loc[USER_ID], row), axis=1)"
   ],
   "metadata": {
    "collapsed": false,
    "pycharm": {
     "name": "#%%\n"
    }
   }
  },
  {
   "cell_type": "code",
   "execution_count": 17,
   "outputs": [],
   "source": [
    "genres_similar_users = genres_similar_users.sort_values().head(500)"
   ],
   "metadata": {
    "collapsed": false,
    "pycharm": {
     "name": "#%%\n"
    }
   }
  },
  {
   "cell_type": "code",
   "execution_count": 20,
   "outputs": [
    {
     "data": {
      "text/plain": "          serial_with_season  movie  serial_without_season\nuser_uid                                                  \n12109                  23797  24036                      0\n1030299                25555  11731                      0\n1061216                 1845    590                      0\n174178                 26173  66217                      0\n594868                 33617    584                      0\n...                      ...    ...                    ...\n9085                       0  12253                      0\n421989                     0  36819                      0\n151976                     0   8350                      0\n1244992                    0  15571                      0\n403095                     0  36457                      0\n\n[500 rows x 3 columns]",
      "text/html": "<div>\n<style scoped>\n    .dataframe tbody tr th:only-of-type {\n        vertical-align: middle;\n    }\n\n    .dataframe tbody tr th {\n        vertical-align: top;\n    }\n\n    .dataframe thead th {\n        text-align: right;\n    }\n</style>\n<table border=\"1\" class=\"dataframe\">\n  <thead>\n    <tr style=\"text-align: right;\">\n      <th></th>\n      <th>serial_with_season</th>\n      <th>movie</th>\n      <th>serial_without_season</th>\n    </tr>\n    <tr>\n      <th>user_uid</th>\n      <th></th>\n      <th></th>\n      <th></th>\n    </tr>\n  </thead>\n  <tbody>\n    <tr>\n      <th>12109</th>\n      <td>23797</td>\n      <td>24036</td>\n      <td>0</td>\n    </tr>\n    <tr>\n      <th>1030299</th>\n      <td>25555</td>\n      <td>11731</td>\n      <td>0</td>\n    </tr>\n    <tr>\n      <th>1061216</th>\n      <td>1845</td>\n      <td>590</td>\n      <td>0</td>\n    </tr>\n    <tr>\n      <th>174178</th>\n      <td>26173</td>\n      <td>66217</td>\n      <td>0</td>\n    </tr>\n    <tr>\n      <th>594868</th>\n      <td>33617</td>\n      <td>584</td>\n      <td>0</td>\n    </tr>\n    <tr>\n      <th>...</th>\n      <td>...</td>\n      <td>...</td>\n      <td>...</td>\n    </tr>\n    <tr>\n      <th>9085</th>\n      <td>0</td>\n      <td>12253</td>\n      <td>0</td>\n    </tr>\n    <tr>\n      <th>421989</th>\n      <td>0</td>\n      <td>36819</td>\n      <td>0</td>\n    </tr>\n    <tr>\n      <th>151976</th>\n      <td>0</td>\n      <td>8350</td>\n      <td>0</td>\n    </tr>\n    <tr>\n      <th>1244992</th>\n      <td>0</td>\n      <td>15571</td>\n      <td>0</td>\n    </tr>\n    <tr>\n      <th>403095</th>\n      <td>0</td>\n      <td>36457</td>\n      <td>0</td>\n    </tr>\n  </tbody>\n</table>\n<p>500 rows × 3 columns</p>\n</div>"
     },
     "execution_count": 20,
     "metadata": {},
     "output_type": "execute_result"
    }
   ],
   "source": [
    "most_similar_index = genres_similar_users.index\n",
    "most_similar_users_types = users_types.loc[most_similar_index]"
   ],
   "metadata": {
    "collapsed": false,
    "pycharm": {
     "name": "#%%\n"
    }
   }
  },
  {
   "cell_type": "code",
   "execution_count": 24,
   "outputs": [
    {
     "data": {
      "text/plain": "     serial_with_season  movie  serial_without_season\n0                 23797  24036                      0\n1                 25555  11731                      0\n2                  1845    590                      0\n3                 26173  66217                      0\n4                 33617    584                      0\n..                  ...    ...                    ...\n495                   0  12253                      0\n496                   0  36819                      0\n497                   0   8350                      0\n498                   0  15571                      0\n499                   0  36457                      0\n\n[500 rows x 3 columns]",
      "text/html": "<div>\n<style scoped>\n    .dataframe tbody tr th:only-of-type {\n        vertical-align: middle;\n    }\n\n    .dataframe tbody tr th {\n        vertical-align: top;\n    }\n\n    .dataframe thead th {\n        text-align: right;\n    }\n</style>\n<table border=\"1\" class=\"dataframe\">\n  <thead>\n    <tr style=\"text-align: right;\">\n      <th></th>\n      <th>serial_with_season</th>\n      <th>movie</th>\n      <th>serial_without_season</th>\n    </tr>\n  </thead>\n  <tbody>\n    <tr>\n      <th>0</th>\n      <td>23797</td>\n      <td>24036</td>\n      <td>0</td>\n    </tr>\n    <tr>\n      <th>1</th>\n      <td>25555</td>\n      <td>11731</td>\n      <td>0</td>\n    </tr>\n    <tr>\n      <th>2</th>\n      <td>1845</td>\n      <td>590</td>\n      <td>0</td>\n    </tr>\n    <tr>\n      <th>3</th>\n      <td>26173</td>\n      <td>66217</td>\n      <td>0</td>\n    </tr>\n    <tr>\n      <th>4</th>\n      <td>33617</td>\n      <td>584</td>\n      <td>0</td>\n    </tr>\n    <tr>\n      <th>...</th>\n      <td>...</td>\n      <td>...</td>\n      <td>...</td>\n    </tr>\n    <tr>\n      <th>495</th>\n      <td>0</td>\n      <td>12253</td>\n      <td>0</td>\n    </tr>\n    <tr>\n      <th>496</th>\n      <td>0</td>\n      <td>36819</td>\n      <td>0</td>\n    </tr>\n    <tr>\n      <th>497</th>\n      <td>0</td>\n      <td>8350</td>\n      <td>0</td>\n    </tr>\n    <tr>\n      <th>498</th>\n      <td>0</td>\n      <td>15571</td>\n      <td>0</td>\n    </tr>\n    <tr>\n      <th>499</th>\n      <td>0</td>\n      <td>36457</td>\n      <td>0</td>\n    </tr>\n  </tbody>\n</table>\n<p>500 rows × 3 columns</p>\n</div>"
     },
     "execution_count": 24,
     "metadata": {},
     "output_type": "execute_result"
    }
   ],
   "source": [
    "most_similar_users_types.reset_index().iloc[:, 1:]"
   ],
   "metadata": {
    "collapsed": false,
    "pycharm": {
     "name": "#%%\n"
    }
   }
  },
  {
   "cell_type": "code",
   "execution_count": 25,
   "outputs": [],
   "source": [
    "type_similar_users = most_similar_users_types.apply(\n",
    "    lambda row: cosine(most_similar_users_types.reset_index().iloc[USER_ID, 1:], row), axis=1)"
   ],
   "metadata": {
    "collapsed": false,
    "pycharm": {
     "name": "#%%\n"
    }
   }
  },
  {
   "cell_type": "code",
   "execution_count": 27,
   "outputs": [],
   "source": [
    "type_similar_users = type_similar_users.sort_values(kind='mergesort').head(100)"
   ],
   "metadata": {
    "collapsed": false,
    "pycharm": {
     "name": "#%%\n"
    }
   }
  },
  {
   "cell_type": "code",
   "execution_count": 42,
   "outputs": [
    {
     "data": {
      "text/plain": "   user_uid  content_uid  second\n0         1      11882.0     627\n1         1      26174.0    5693\n2         1      26719.0     400\n3         4       2829.0      12\n4         4       3836.0      64",
      "text/html": "<div>\n<style scoped>\n    .dataframe tbody tr th:only-of-type {\n        vertical-align: middle;\n    }\n\n    .dataframe tbody tr th {\n        vertical-align: top;\n    }\n\n    .dataframe thead th {\n        text-align: right;\n    }\n</style>\n<table border=\"1\" class=\"dataframe\">\n  <thead>\n    <tr style=\"text-align: right;\">\n      <th></th>\n      <th>user_uid</th>\n      <th>content_uid</th>\n      <th>second</th>\n    </tr>\n  </thead>\n  <tbody>\n    <tr>\n      <th>0</th>\n      <td>1</td>\n      <td>11882.0</td>\n      <td>627</td>\n    </tr>\n    <tr>\n      <th>1</th>\n      <td>1</td>\n      <td>26174.0</td>\n      <td>5693</td>\n    </tr>\n    <tr>\n      <th>2</th>\n      <td>1</td>\n      <td>26719.0</td>\n      <td>400</td>\n    </tr>\n    <tr>\n      <th>3</th>\n      <td>4</td>\n      <td>2829.0</td>\n      <td>12</td>\n    </tr>\n    <tr>\n      <th>4</th>\n      <td>4</td>\n      <td>3836.0</td>\n      <td>64</td>\n    </tr>\n  </tbody>\n</table>\n</div>"
     },
     "execution_count": 42,
     "metadata": {},
     "output_type": "execute_result"
    }
   ],
   "source": [
    "history = pd.read_csv(f'{CONST_PATH}watch_history.csv').drop(columns='Unnamed: 0')\n",
    "history.head()"
   ],
   "metadata": {
    "collapsed": false,
    "pycharm": {
     "name": "#%%\n"
    }
   }
  },
  {
   "cell_type": "code",
   "execution_count": 43,
   "outputs": [
    {
     "data": {
      "text/plain": "                             name                type  serial_id  \\\ncontent_uid                                                        \n9882          \"Шоу \"Студия \"Союз\"  serial_with_season        NaN   \n19870                   #СидЯдома  serial_with_season        NaN   \n2312            (Не)жданный принц               movie        NaN   \n12655                         1+1               movie        NaN   \n25771        1+1. Нарушая правила               movie        NaN   \n\n                         genres  duration_seconds  \ncontent_uid                                        \n9882         Игровое шоу,Музыка           88765.0  \n19870                   Комедия           13253.0  \n2312          Мелодрама,Комедия            4983.0  \n12655             Драма,Комедия            6452.0  \n25771          Комедийная драма            6323.0  ",
      "text/html": "<div>\n<style scoped>\n    .dataframe tbody tr th:only-of-type {\n        vertical-align: middle;\n    }\n\n    .dataframe tbody tr th {\n        vertical-align: top;\n    }\n\n    .dataframe thead th {\n        text-align: right;\n    }\n</style>\n<table border=\"1\" class=\"dataframe\">\n  <thead>\n    <tr style=\"text-align: right;\">\n      <th></th>\n      <th>name</th>\n      <th>type</th>\n      <th>serial_id</th>\n      <th>genres</th>\n      <th>duration_seconds</th>\n    </tr>\n    <tr>\n      <th>content_uid</th>\n      <th></th>\n      <th></th>\n      <th></th>\n      <th></th>\n      <th></th>\n    </tr>\n  </thead>\n  <tbody>\n    <tr>\n      <th>9882</th>\n      <td>\"Шоу \"Студия \"Союз\"</td>\n      <td>serial_with_season</td>\n      <td>NaN</td>\n      <td>Игровое шоу,Музыка</td>\n      <td>88765.0</td>\n    </tr>\n    <tr>\n      <th>19870</th>\n      <td>#СидЯдома</td>\n      <td>serial_with_season</td>\n      <td>NaN</td>\n      <td>Комедия</td>\n      <td>13253.0</td>\n    </tr>\n    <tr>\n      <th>2312</th>\n      <td>(Не)жданный принц</td>\n      <td>movie</td>\n      <td>NaN</td>\n      <td>Мелодрама,Комедия</td>\n      <td>4983.0</td>\n    </tr>\n    <tr>\n      <th>12655</th>\n      <td>1+1</td>\n      <td>movie</td>\n      <td>NaN</td>\n      <td>Драма,Комедия</td>\n      <td>6452.0</td>\n    </tr>\n    <tr>\n      <th>25771</th>\n      <td>1+1. Нарушая правила</td>\n      <td>movie</td>\n      <td>NaN</td>\n      <td>Комедийная драма</td>\n      <td>6323.0</td>\n    </tr>\n  </tbody>\n</table>\n</div>"
     },
     "execution_count": 43,
     "metadata": {},
     "output_type": "execute_result"
    }
   ],
   "source": [
    "content = pd.read_csv(f'{CONST_PATH}content.csv', index_col='content_uid')\n",
    "content.head()"
   ],
   "metadata": {
    "collapsed": false,
    "pycharm": {
     "name": "#%%\n"
    }
   }
  },
  {
   "cell_type": "code",
   "execution_count": 44,
   "outputs": [],
   "source": [
    "history = history.merge(content.loc[:,'duration_seconds'], how='inner', on='content_uid')"
   ],
   "metadata": {
    "collapsed": false,
    "pycharm": {
     "name": "#%%\n"
    }
   }
  },
  {
   "cell_type": "code",
   "execution_count": 45,
   "outputs": [
    {
     "data": {
      "text/plain": "user_uid\n594868     0.000000e+00\n161977     1.690356e-08\n1225305    1.551650e-07\n322459     6.512383e-07\n196358     1.117449e-05\n               ...     \n911322     1.935918e-03\n793110     2.833149e-03\n608006     3.140983e-03\n1107083    3.149060e-03\n407484     5.198933e-03\nLength: 100, dtype: float64"
     },
     "execution_count": 45,
     "metadata": {},
     "output_type": "execute_result"
    }
   ],
   "source": [],
   "metadata": {
    "collapsed": false,
    "pycharm": {
     "name": "#%%\n"
    }
   }
  }
 ],
 "metadata": {
  "kernelspec": {
   "name": "pycharm-a7fa1f9b",
   "language": "python",
   "display_name": "PyCharm (jb_test_2)"
  },
  "language_info": {
   "codemirror_mode": {
    "name": "ipython",
    "version": 2
   },
   "file_extension": ".py",
   "mimetype": "text/x-python",
   "name": "python",
   "nbconvert_exporter": "python",
   "pygments_lexer": "ipython2",
   "version": "2.7.6"
  }
 },
 "nbformat": 4,
 "nbformat_minor": 0
}