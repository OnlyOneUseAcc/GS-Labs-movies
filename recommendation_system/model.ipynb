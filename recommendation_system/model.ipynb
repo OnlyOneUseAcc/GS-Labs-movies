{
 "cells": [
  {
   "cell_type": "code",
   "execution_count": 1,
   "outputs": [],
   "source": [
    "import pandas as pd\n",
    "from scipy import sparse\n",
    "from tqdm import tqdm\n",
    "from preprocessing.duration_matrix import DurationSparseMatrix\n",
    "from scipy.spatial.distance import cosine"
   ],
   "metadata": {
    "collapsed": false,
    "pycharm": {
     "name": "#%%\n"
    }
   }
  },
  {
   "cell_type": "code",
   "execution_count": 2,
   "outputs": [],
   "source": [
    "CONST_PATH = '../data/postprocessing/'"
   ],
   "metadata": {
    "collapsed": false,
    "pycharm": {
     "name": "#%%\n"
    }
   }
  },
  {
   "cell_type": "code",
   "execution_count": 3,
   "outputs": [
    {
     "data": {
      "text/plain": "          игровой  шоу  музыка  комедия  мелодрама  драма  комедийный  \\\nuser_uid                                                                \n1               0    0       0        0          0    400           0   \n4               0    0       0    27683      12981  12324        5154   \n25              0    0       0      900       6920  10666        1559   \n43              0    0       0      599         61     61           0   \n45              0    0       0     1470       1938   4257         293   \n\n          фэнтезийный  боевик  приключение  ...  молодёжь  детский  ситком  \\\nuser_uid                                    ...                              \n1                   0       0            0  ...         0        0       0   \n4                   0       0            0  ...         0        0       0   \n25                  0   14166            0  ...         0        0       0   \n43                  0       0            0  ...         0        0       0   \n45                  0    6029            0  ...         0        0       0   \n\n          индонезия  психологический  увлечение  досуг  концерт  скетчкома  \\\nuser_uid                                                                     \n1                 0                0          0      0        0          0   \n4                 0                0          0      0        0          0   \n25                0                0          0      0        0          0   \n43                0                0          0      0        0          0   \n45                0                0          0      0        0          0   \n\n          интервью  \nuser_uid            \n1                0  \n4                0  \n25               0  \n43               0  \n45               0  \n\n[5 rows x 71 columns]",
      "text/html": "<div>\n<style scoped>\n    .dataframe tbody tr th:only-of-type {\n        vertical-align: middle;\n    }\n\n    .dataframe tbody tr th {\n        vertical-align: top;\n    }\n\n    .dataframe thead th {\n        text-align: right;\n    }\n</style>\n<table border=\"1\" class=\"dataframe\">\n  <thead>\n    <tr style=\"text-align: right;\">\n      <th></th>\n      <th>игровой</th>\n      <th>шоу</th>\n      <th>музыка</th>\n      <th>комедия</th>\n      <th>мелодрама</th>\n      <th>драма</th>\n      <th>комедийный</th>\n      <th>фэнтезийный</th>\n      <th>боевик</th>\n      <th>приключение</th>\n      <th>...</th>\n      <th>молодёжь</th>\n      <th>детский</th>\n      <th>ситком</th>\n      <th>индонезия</th>\n      <th>психологический</th>\n      <th>увлечение</th>\n      <th>досуг</th>\n      <th>концерт</th>\n      <th>скетчкома</th>\n      <th>интервью</th>\n    </tr>\n    <tr>\n      <th>user_uid</th>\n      <th></th>\n      <th></th>\n      <th></th>\n      <th></th>\n      <th></th>\n      <th></th>\n      <th></th>\n      <th></th>\n      <th></th>\n      <th></th>\n      <th></th>\n      <th></th>\n      <th></th>\n      <th></th>\n      <th></th>\n      <th></th>\n      <th></th>\n      <th></th>\n      <th></th>\n      <th></th>\n      <th></th>\n    </tr>\n  </thead>\n  <tbody>\n    <tr>\n      <th>1</th>\n      <td>0</td>\n      <td>0</td>\n      <td>0</td>\n      <td>0</td>\n      <td>0</td>\n      <td>400</td>\n      <td>0</td>\n      <td>0</td>\n      <td>0</td>\n      <td>0</td>\n      <td>...</td>\n      <td>0</td>\n      <td>0</td>\n      <td>0</td>\n      <td>0</td>\n      <td>0</td>\n      <td>0</td>\n      <td>0</td>\n      <td>0</td>\n      <td>0</td>\n      <td>0</td>\n    </tr>\n    <tr>\n      <th>4</th>\n      <td>0</td>\n      <td>0</td>\n      <td>0</td>\n      <td>27683</td>\n      <td>12981</td>\n      <td>12324</td>\n      <td>5154</td>\n      <td>0</td>\n      <td>0</td>\n      <td>0</td>\n      <td>...</td>\n      <td>0</td>\n      <td>0</td>\n      <td>0</td>\n      <td>0</td>\n      <td>0</td>\n      <td>0</td>\n      <td>0</td>\n      <td>0</td>\n      <td>0</td>\n      <td>0</td>\n    </tr>\n    <tr>\n      <th>25</th>\n      <td>0</td>\n      <td>0</td>\n      <td>0</td>\n      <td>900</td>\n      <td>6920</td>\n      <td>10666</td>\n      <td>1559</td>\n      <td>0</td>\n      <td>14166</td>\n      <td>0</td>\n      <td>...</td>\n      <td>0</td>\n      <td>0</td>\n      <td>0</td>\n      <td>0</td>\n      <td>0</td>\n      <td>0</td>\n      <td>0</td>\n      <td>0</td>\n      <td>0</td>\n      <td>0</td>\n    </tr>\n    <tr>\n      <th>43</th>\n      <td>0</td>\n      <td>0</td>\n      <td>0</td>\n      <td>599</td>\n      <td>61</td>\n      <td>61</td>\n      <td>0</td>\n      <td>0</td>\n      <td>0</td>\n      <td>0</td>\n      <td>...</td>\n      <td>0</td>\n      <td>0</td>\n      <td>0</td>\n      <td>0</td>\n      <td>0</td>\n      <td>0</td>\n      <td>0</td>\n      <td>0</td>\n      <td>0</td>\n      <td>0</td>\n    </tr>\n    <tr>\n      <th>45</th>\n      <td>0</td>\n      <td>0</td>\n      <td>0</td>\n      <td>1470</td>\n      <td>1938</td>\n      <td>4257</td>\n      <td>293</td>\n      <td>0</td>\n      <td>6029</td>\n      <td>0</td>\n      <td>...</td>\n      <td>0</td>\n      <td>0</td>\n      <td>0</td>\n      <td>0</td>\n      <td>0</td>\n      <td>0</td>\n      <td>0</td>\n      <td>0</td>\n      <td>0</td>\n      <td>0</td>\n    </tr>\n  </tbody>\n</table>\n<p>5 rows × 71 columns</p>\n</div>"
     },
     "execution_count": 3,
     "metadata": {},
     "output_type": "execute_result"
    }
   ],
   "source": [
    "users_genres = pd.read_csv(f'{CONST_PATH}users_genres.csv', index_col='user_uid')\n",
    "users_genres.head()"
   ],
   "metadata": {
    "collapsed": false,
    "pycharm": {
     "name": "#%%\n"
    }
   }
  },
  {
   "cell_type": "code",
   "execution_count": 4,
   "outputs": [
    {
     "data": {
      "text/plain": "    serial_with_season  movie  serial_without_season\n1                    0   6720                      0\n4                30169  23638                      0\n25                 665  23969                      0\n43                   0    660                      0\n45                   0  14370                      0",
      "text/html": "<div>\n<style scoped>\n    .dataframe tbody tr th:only-of-type {\n        vertical-align: middle;\n    }\n\n    .dataframe tbody tr th {\n        vertical-align: top;\n    }\n\n    .dataframe thead th {\n        text-align: right;\n    }\n</style>\n<table border=\"1\" class=\"dataframe\">\n  <thead>\n    <tr style=\"text-align: right;\">\n      <th></th>\n      <th>serial_with_season</th>\n      <th>movie</th>\n      <th>serial_without_season</th>\n    </tr>\n  </thead>\n  <tbody>\n    <tr>\n      <th>1</th>\n      <td>0</td>\n      <td>6720</td>\n      <td>0</td>\n    </tr>\n    <tr>\n      <th>4</th>\n      <td>30169</td>\n      <td>23638</td>\n      <td>0</td>\n    </tr>\n    <tr>\n      <th>25</th>\n      <td>665</td>\n      <td>23969</td>\n      <td>0</td>\n    </tr>\n    <tr>\n      <th>43</th>\n      <td>0</td>\n      <td>660</td>\n      <td>0</td>\n    </tr>\n    <tr>\n      <th>45</th>\n      <td>0</td>\n      <td>14370</td>\n      <td>0</td>\n    </tr>\n  </tbody>\n</table>\n</div>"
     },
     "execution_count": 4,
     "metadata": {},
     "output_type": "execute_result"
    }
   ],
   "source": [
    "users_types = pd.read_csv(f'{CONST_PATH}user_content_types.csv', index_col=0)\n",
    "users_types.head()"
   ],
   "metadata": {
    "collapsed": false,
    "pycharm": {
     "name": "#%%\n"
    }
   }
  },
  {
   "cell_type": "code",
   "execution_count": 5,
   "outputs": [],
   "source": [
    "USER_ID = 4\n",
    "genres_similar_users = users_genres.drop(USER_ID, axis=0).apply(\n",
    "    lambda row: cosine(users_genres.loc[USER_ID], row), axis=1)"
   ],
   "metadata": {
    "collapsed": false,
    "pycharm": {
     "name": "#%%\n"
    }
   }
  },
  {
   "cell_type": "code",
   "execution_count": 6,
   "outputs": [],
   "source": [
    "genres_similar_users = genres_similar_users.sort_values().head(500)"
   ],
   "metadata": {
    "collapsed": false,
    "pycharm": {
     "name": "#%%\n"
    }
   }
  },
  {
   "cell_type": "code",
   "execution_count": 7,
   "outputs": [],
   "source": [
    "most_similar_index = genres_similar_users.index\n",
    "most_similar_users_types = users_types.loc[most_similar_index]"
   ],
   "metadata": {
    "collapsed": false,
    "pycharm": {
     "name": "#%%\n"
    }
   }
  },
  {
   "cell_type": "code",
   "execution_count": 8,
   "outputs": [
    {
     "data": {
      "text/plain": "     serial_with_season  movie  serial_without_season\n0                 23797  24036                      0\n1                 25555  11731                      0\n2                  1845    590                      0\n3                 26173  66217                      0\n4                 33617    584                      0\n..                  ...    ...                    ...\n495                   0  12253                      0\n496                   0  36819                      0\n497                   0   8350                      0\n498                   0  15571                      0\n499                   0  36457                      0\n\n[500 rows x 3 columns]",
      "text/html": "<div>\n<style scoped>\n    .dataframe tbody tr th:only-of-type {\n        vertical-align: middle;\n    }\n\n    .dataframe tbody tr th {\n        vertical-align: top;\n    }\n\n    .dataframe thead th {\n        text-align: right;\n    }\n</style>\n<table border=\"1\" class=\"dataframe\">\n  <thead>\n    <tr style=\"text-align: right;\">\n      <th></th>\n      <th>serial_with_season</th>\n      <th>movie</th>\n      <th>serial_without_season</th>\n    </tr>\n  </thead>\n  <tbody>\n    <tr>\n      <th>0</th>\n      <td>23797</td>\n      <td>24036</td>\n      <td>0</td>\n    </tr>\n    <tr>\n      <th>1</th>\n      <td>25555</td>\n      <td>11731</td>\n      <td>0</td>\n    </tr>\n    <tr>\n      <th>2</th>\n      <td>1845</td>\n      <td>590</td>\n      <td>0</td>\n    </tr>\n    <tr>\n      <th>3</th>\n      <td>26173</td>\n      <td>66217</td>\n      <td>0</td>\n    </tr>\n    <tr>\n      <th>4</th>\n      <td>33617</td>\n      <td>584</td>\n      <td>0</td>\n    </tr>\n    <tr>\n      <th>...</th>\n      <td>...</td>\n      <td>...</td>\n      <td>...</td>\n    </tr>\n    <tr>\n      <th>495</th>\n      <td>0</td>\n      <td>12253</td>\n      <td>0</td>\n    </tr>\n    <tr>\n      <th>496</th>\n      <td>0</td>\n      <td>36819</td>\n      <td>0</td>\n    </tr>\n    <tr>\n      <th>497</th>\n      <td>0</td>\n      <td>8350</td>\n      <td>0</td>\n    </tr>\n    <tr>\n      <th>498</th>\n      <td>0</td>\n      <td>15571</td>\n      <td>0</td>\n    </tr>\n    <tr>\n      <th>499</th>\n      <td>0</td>\n      <td>36457</td>\n      <td>0</td>\n    </tr>\n  </tbody>\n</table>\n<p>500 rows × 3 columns</p>\n</div>"
     },
     "execution_count": 8,
     "metadata": {},
     "output_type": "execute_result"
    }
   ],
   "source": [
    "most_similar_users_types.reset_index().iloc[:, 1:]"
   ],
   "metadata": {
    "collapsed": false,
    "pycharm": {
     "name": "#%%\n"
    }
   }
  },
  {
   "cell_type": "code",
   "execution_count": 9,
   "outputs": [],
   "source": [
    "type_similar_users = most_similar_users_types.apply(\n",
    "    lambda row: cosine(most_similar_users_types.reset_index().iloc[USER_ID, 1:], row), axis=1)"
   ],
   "metadata": {
    "collapsed": false,
    "pycharm": {
     "name": "#%%\n"
    }
   }
  },
  {
   "cell_type": "code",
   "execution_count": 10,
   "outputs": [],
   "source": [
    "type_similar_users = type_similar_users.sort_values(kind='mergesort').head(100)"
   ],
   "metadata": {
    "collapsed": false,
    "pycharm": {
     "name": "#%%\n"
    }
   }
  },
  {
   "cell_type": "code",
   "execution_count": 11,
   "outputs": [],
   "source": [
    "dsm = DurationSparseMatrix()\n",
    "history, content = dsm.read_info()\n",
    "\n",
    "users_films = dsm.get_matrix_part(type_similar_users.index)\n",
    "user_info = dsm.get_matrix_part([USER_ID])"
   ],
   "metadata": {
    "collapsed": false,
    "pycharm": {
     "name": "#%%\n"
    }
   }
  },
  {
   "cell_type": "code",
   "execution_count": 28,
   "outputs": [],
   "source": [
    "ser = users_films.sum()\n",
    "films_to_drop = list(ser[ser < 0.5].index)\n",
    "user_info.drop(columns=films_to_drop, inplace=True)\n",
    "users_films.drop(columns=films_to_drop, inplace=True)"
   ],
   "metadata": {
    "collapsed": false,
    "pycharm": {
     "name": "#%%\n"
    }
   }
  },
  {
   "cell_type": "code",
   "execution_count": 29,
   "outputs": [],
   "source": [
    "target_list = []\n",
    "for column in user_info.columns:\n",
    "    if user_info[column].values[0] == 0:\n",
    "        target_list.append(column)"
   ],
   "metadata": {
    "collapsed": false,
    "pycharm": {
     "name": "#%%\n"
    }
   }
  },
  {
   "cell_type": "code",
   "execution_count": 30,
   "outputs": [
    {
     "name": "stderr",
     "output_type": "stream",
     "text": [
      "100%|██████████| 25/25 [00:26<00:00,  1.06s/it]\n"
     ]
    }
   ],
   "source": [
    "from catboost import CatBoostRegressor, CatBoostError\n",
    "\n",
    "for target in tqdm(target_list):\n",
    "    X = users_films.drop(columns=[target])\n",
    "    Y = users_films[target]\n",
    "    if Y.sum() != 0:\n",
    "        model = CatBoostRegressor(verbose=0)\n",
    "        model.fit(X, Y)\n",
    "        user_info[target] = model.predict(user_info.drop(columns=[target]))\n",
    "    else:\n",
    "        user_info[target] = 0\n",
    "        print('zero')"
   ],
   "metadata": {
    "collapsed": false,
    "pycharm": {
     "name": "#%%\n"
    }
   }
  },
  {
   "cell_type": "code",
   "execution_count": 34,
   "outputs": [
    {
     "data": {
      "text/plain": "              4\n25804  0.003157\n19563  0.002793\n21306  0.000707\n26474  0.000682\n16589  0.000565\n13565  0.000410\n20280  0.000364\n21757  0.000310\n17730  0.000275\n12154  0.000248\n7439   0.000202\n18011  0.000195\n25010  0.000156\n14318  0.000135\n20518  0.000122\n19540  0.000097\n17258  0.000083\n9706   0.000080\n20095  0.000078\n9322   0.000077\n20974  0.000049\n16345 -0.000054\n24254 -0.000329\n19381 -0.001629\n12184 -0.002531",
      "text/html": "<div>\n<style scoped>\n    .dataframe tbody tr th:only-of-type {\n        vertical-align: middle;\n    }\n\n    .dataframe tbody tr th {\n        vertical-align: top;\n    }\n\n    .dataframe thead th {\n        text-align: right;\n    }\n</style>\n<table border=\"1\" class=\"dataframe\">\n  <thead>\n    <tr style=\"text-align: right;\">\n      <th></th>\n      <th>4</th>\n    </tr>\n  </thead>\n  <tbody>\n    <tr>\n      <th>25804</th>\n      <td>0.003157</td>\n    </tr>\n    <tr>\n      <th>19563</th>\n      <td>0.002793</td>\n    </tr>\n    <tr>\n      <th>21306</th>\n      <td>0.000707</td>\n    </tr>\n    <tr>\n      <th>26474</th>\n      <td>0.000682</td>\n    </tr>\n    <tr>\n      <th>16589</th>\n      <td>0.000565</td>\n    </tr>\n    <tr>\n      <th>13565</th>\n      <td>0.000410</td>\n    </tr>\n    <tr>\n      <th>20280</th>\n      <td>0.000364</td>\n    </tr>\n    <tr>\n      <th>21757</th>\n      <td>0.000310</td>\n    </tr>\n    <tr>\n      <th>17730</th>\n      <td>0.000275</td>\n    </tr>\n    <tr>\n      <th>12154</th>\n      <td>0.000248</td>\n    </tr>\n    <tr>\n      <th>7439</th>\n      <td>0.000202</td>\n    </tr>\n    <tr>\n      <th>18011</th>\n      <td>0.000195</td>\n    </tr>\n    <tr>\n      <th>25010</th>\n      <td>0.000156</td>\n    </tr>\n    <tr>\n      <th>14318</th>\n      <td>0.000135</td>\n    </tr>\n    <tr>\n      <th>20518</th>\n      <td>0.000122</td>\n    </tr>\n    <tr>\n      <th>19540</th>\n      <td>0.000097</td>\n    </tr>\n    <tr>\n      <th>17258</th>\n      <td>0.000083</td>\n    </tr>\n    <tr>\n      <th>9706</th>\n      <td>0.000080</td>\n    </tr>\n    <tr>\n      <th>20095</th>\n      <td>0.000078</td>\n    </tr>\n    <tr>\n      <th>9322</th>\n      <td>0.000077</td>\n    </tr>\n    <tr>\n      <th>20974</th>\n      <td>0.000049</td>\n    </tr>\n    <tr>\n      <th>16345</th>\n      <td>-0.000054</td>\n    </tr>\n    <tr>\n      <th>24254</th>\n      <td>-0.000329</td>\n    </tr>\n    <tr>\n      <th>19381</th>\n      <td>-0.001629</td>\n    </tr>\n    <tr>\n      <th>12184</th>\n      <td>-0.002531</td>\n    </tr>\n  </tbody>\n</table>\n</div>"
     },
     "execution_count": 34,
     "metadata": {},
     "output_type": "execute_result"
    }
   ],
   "source": [
    "user_info[target_list].T.sort_values(by=USER_ID, ascending=False)"
   ],
   "metadata": {
    "collapsed": false,
    "pycharm": {
     "name": "#%%\n"
    }
   }
  },
  {
   "cell_type": "code",
   "execution_count": null,
   "outputs": [],
   "source": [],
   "metadata": {
    "collapsed": false,
    "pycharm": {
     "name": "#%%\n"
    }
   }
  }
 ],
 "metadata": {
  "kernelspec": {
   "name": "pycharm-a7fa1f9b",
   "language": "python",
   "display_name": "PyCharm (jb_test_2)"
  },
  "language_info": {
   "codemirror_mode": {
    "name": "ipython",
    "version": 2
   },
   "file_extension": ".py",
   "mimetype": "text/x-python",
   "name": "python",
   "nbconvert_exporter": "python",
   "pygments_lexer": "ipython2",
   "version": "2.7.6"
  }
 },
 "nbformat": 4,
 "nbformat_minor": 0
}