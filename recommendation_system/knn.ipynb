{
 "cells": [
  {
   "cell_type": "code",
   "execution_count": 1,
   "metadata": {
    "collapsed": true
   },
   "outputs": [],
   "source": [
    "import pandas as pd\n",
    "from scipy import sparse\n",
    "from preprocessing.duration_matrix import DurationSparseMatrix"
   ]
  },
  {
   "cell_type": "code",
   "execution_count": 2,
   "outputs": [],
   "source": [
    "CONST_PATH = '../data/postprocessing/'"
   ],
   "metadata": {
    "collapsed": false,
    "pycharm": {
     "name": "#%%\n"
    }
   }
  },
  {
   "cell_type": "code",
   "execution_count": 3,
   "outputs": [],
   "source": [
    "user_genres = pd.read_csv(f'{CONST_PATH}users_genres.csv', index_col=0)\n",
    "user_content_type = pd.read_csv(f'{CONST_PATH}user_content_types.csv', index_col=0)"
   ],
   "metadata": {
    "collapsed": false,
    "pycharm": {
     "name": "#%%\n"
    }
   }
  },
  {
   "cell_type": "code",
   "execution_count": 4,
   "outputs": [],
   "source": [
    "# user_content_type['total'] = user_content_type.apply(sum, axis=1)\n",
    "# user_content_type.head()\n"
   ],
   "metadata": {
    "collapsed": false,
    "pycharm": {
     "name": "#%%\n"
    }
   }
  },
  {
   "cell_type": "code",
   "execution_count": 5,
   "outputs": [],
   "source": [
    "# user_content_type.iloc[:, :3] = user_content_type.iloc[:, :3].apply(lambda col: col / user_content_type.total)\n",
    "# user_content_type.head()"
   ],
   "metadata": {
    "collapsed": false,
    "pycharm": {
     "name": "#%%\n"
    }
   }
  },
  {
   "cell_type": "code",
   "execution_count": 6,
   "outputs": [],
   "source": [
    "# content = pd.read_csv(f'{CONST_PATH}content.csv', index_col='content_uid')\n",
    "# duration_films = content.duration_seconds.sum()\n",
    "# duration_films"
   ],
   "metadata": {
    "collapsed": false,
    "pycharm": {
     "name": "#%%\n"
    }
   }
  },
  {
   "cell_type": "code",
   "execution_count": 7,
   "outputs": [],
   "source": [
    "# user_content_type['total'] = user_content_type['total'] / duration_films\n",
    "\n",
    "# user_content_type.head()"
   ],
   "metadata": {
    "collapsed": false,
    "pycharm": {
     "name": "#%%\n"
    }
   }
  },
  {
   "cell_type": "code",
   "execution_count": 8,
   "outputs": [],
   "source": [
    "# user_content_type.to_csv(f'{CONST_PATH}user_content_types.csv')"
   ],
   "metadata": {
    "collapsed": false,
    "pycharm": {
     "name": "#%%\n"
    }
   }
  },
  {
   "cell_type": "code",
   "execution_count": 9,
   "outputs": [
    {
     "data": {
      "text/plain": "    serial_with_season     movie  serial_without_season     total\n1             0.000000  1.000000                    0.0  0.000159\n4             0.560689  0.439311                    0.0  0.001277\n25            0.026995  0.973005                    0.0  0.000584\n43            0.000000  1.000000                    0.0  0.000016\n45            0.000000  1.000000                    0.0  0.000341",
      "text/html": "<div>\n<style scoped>\n    .dataframe tbody tr th:only-of-type {\n        vertical-align: middle;\n    }\n\n    .dataframe tbody tr th {\n        vertical-align: top;\n    }\n\n    .dataframe thead th {\n        text-align: right;\n    }\n</style>\n<table border=\"1\" class=\"dataframe\">\n  <thead>\n    <tr style=\"text-align: right;\">\n      <th></th>\n      <th>serial_with_season</th>\n      <th>movie</th>\n      <th>serial_without_season</th>\n      <th>total</th>\n    </tr>\n  </thead>\n  <tbody>\n    <tr>\n      <th>1</th>\n      <td>0.000000</td>\n      <td>1.000000</td>\n      <td>0.0</td>\n      <td>0.000159</td>\n    </tr>\n    <tr>\n      <th>4</th>\n      <td>0.560689</td>\n      <td>0.439311</td>\n      <td>0.0</td>\n      <td>0.001277</td>\n    </tr>\n    <tr>\n      <th>25</th>\n      <td>0.026995</td>\n      <td>0.973005</td>\n      <td>0.0</td>\n      <td>0.000584</td>\n    </tr>\n    <tr>\n      <th>43</th>\n      <td>0.000000</td>\n      <td>1.000000</td>\n      <td>0.0</td>\n      <td>0.000016</td>\n    </tr>\n    <tr>\n      <th>45</th>\n      <td>0.000000</td>\n      <td>1.000000</td>\n      <td>0.0</td>\n      <td>0.000341</td>\n    </tr>\n  </tbody>\n</table>\n</div>"
     },
     "execution_count": 9,
     "metadata": {},
     "output_type": "execute_result"
    }
   ],
   "source": [
    "user_content_type.head()"
   ],
   "metadata": {
    "collapsed": false,
    "pycharm": {
     "name": "#%%\n"
    }
   }
  },
  {
   "cell_type": "code",
   "execution_count": 10,
   "outputs": [],
   "source": [
    "USER_ID = 1\n",
    "from scipy.spatial.distance import cosine"
   ],
   "metadata": {
    "collapsed": false,
    "pycharm": {
     "name": "#%%\n"
    }
   }
  },
  {
   "cell_type": "code",
   "execution_count": 11,
   "outputs": [],
   "source": [
    "type_similarity = user_content_type.drop(USER_ID, axis=0)\\\n",
    "    .apply(lambda row: cosine(user_content_type.loc[USER_ID], row), axis=1)"
   ],
   "metadata": {
    "collapsed": false,
    "pycharm": {
     "name": "#%%\n"
    }
   }
  },
  {
   "cell_type": "code",
   "execution_count": 12,
   "outputs": [
    {
     "data": {
      "text/plain": "605244     0.000000e+00\n362393     0.000000e+00\n19018      0.000000e+00\n724983     0.000000e+00\n869296     0.000000e+00\n775050     2.220446e-16\n923905     2.220446e-16\n312166     2.220446e-16\n729758     2.220446e-16\n1291955    2.220446e-16\n304659     2.220446e-16\n370157     4.440892e-16\n429414     4.440892e-16\n1147828    4.440892e-16\n148514     4.440892e-16\n574284     4.440892e-16\n1301196    4.440892e-16\n874357     4.440892e-16\n1255841    1.110223e-15\n1143112    1.110223e-15\n1087203    1.110223e-15\n835498     1.110223e-15\n1147315    1.110223e-15\n766053     1.110223e-15\n1095481    1.110223e-15\n376489     1.110223e-15\n848568     1.110223e-15\n849176     1.110223e-15\n120590     1.110223e-15\n704852     1.110223e-15\ndtype: float64"
     },
     "execution_count": 12,
     "metadata": {},
     "output_type": "execute_result"
    }
   ],
   "source": [
    "type_similarity.sort_values().head(30)"
   ],
   "metadata": {
    "collapsed": false,
    "pycharm": {
     "name": "#%%\n"
    }
   }
  },
  {
   "cell_type": "code",
   "execution_count": 13,
   "outputs": [],
   "source": [
    "from sklearn.metrics import mean_absolute_error"
   ],
   "metadata": {
    "collapsed": false,
    "pycharm": {
     "name": "#%%\n"
    }
   }
  },
  {
   "cell_type": "code",
   "execution_count": 14,
   "outputs": [
    {
     "data": {
      "text/plain": "          игровой  шоу  музыка   комедия  мелодрама     драма  комедийный  \\\nuser_uid                                                                    \n1             0.0  0.0     0.0  0.000000   0.000000  0.000279    0.000000   \n4             0.0  0.0     0.0  0.049363   0.032834  0.008594    0.071109   \n25            0.0  0.0     0.0  0.001605   0.017503  0.007438    0.021509   \n43            0.0  0.0     0.0  0.001068   0.000154  0.000043    0.000000   \n45            0.0  0.0     0.0  0.002621   0.004902  0.002969    0.004042   \n\n          фэнтезийный    боевик  приключение  ...  молодёжь  детский  ситком  \\\nuser_uid                                      ...                              \n1                 0.0  0.000000          0.0  ...       0.0      0.0     0.0   \n4                 0.0  0.000000          0.0  ...       0.0      0.0     0.0   \n25                0.0  0.031750          0.0  ...       0.0      0.0     0.0   \n43                0.0  0.000000          0.0  ...       0.0      0.0     0.0   \n45                0.0  0.013513          0.0  ...       0.0      0.0     0.0   \n\n          индонезия  психологический  увлечение  досуг  концерт  скетчкома  \\\nuser_uid                                                                     \n1               0.0              0.0        0.0    0.0      0.0        0.0   \n4               0.0              0.0        0.0    0.0      0.0        0.0   \n25              0.0              0.0        0.0    0.0      0.0        0.0   \n43              0.0              0.0        0.0    0.0      0.0        0.0   \n45              0.0              0.0        0.0    0.0      0.0        0.0   \n\n          интервью  \nuser_uid            \n1              0.0  \n4              0.0  \n25             0.0  \n43             0.0  \n45             0.0  \n\n[5 rows x 71 columns]",
      "text/html": "<div>\n<style scoped>\n    .dataframe tbody tr th:only-of-type {\n        vertical-align: middle;\n    }\n\n    .dataframe tbody tr th {\n        vertical-align: top;\n    }\n\n    .dataframe thead th {\n        text-align: right;\n    }\n</style>\n<table border=\"1\" class=\"dataframe\">\n  <thead>\n    <tr style=\"text-align: right;\">\n      <th></th>\n      <th>игровой</th>\n      <th>шоу</th>\n      <th>музыка</th>\n      <th>комедия</th>\n      <th>мелодрама</th>\n      <th>драма</th>\n      <th>комедийный</th>\n      <th>фэнтезийный</th>\n      <th>боевик</th>\n      <th>приключение</th>\n      <th>...</th>\n      <th>молодёжь</th>\n      <th>детский</th>\n      <th>ситком</th>\n      <th>индонезия</th>\n      <th>психологический</th>\n      <th>увлечение</th>\n      <th>досуг</th>\n      <th>концерт</th>\n      <th>скетчкома</th>\n      <th>интервью</th>\n    </tr>\n    <tr>\n      <th>user_uid</th>\n      <th></th>\n      <th></th>\n      <th></th>\n      <th></th>\n      <th></th>\n      <th></th>\n      <th></th>\n      <th></th>\n      <th></th>\n      <th></th>\n      <th></th>\n      <th></th>\n      <th></th>\n      <th></th>\n      <th></th>\n      <th></th>\n      <th></th>\n      <th></th>\n      <th></th>\n      <th></th>\n      <th></th>\n    </tr>\n  </thead>\n  <tbody>\n    <tr>\n      <th>1</th>\n      <td>0.0</td>\n      <td>0.0</td>\n      <td>0.0</td>\n      <td>0.000000</td>\n      <td>0.000000</td>\n      <td>0.000279</td>\n      <td>0.000000</td>\n      <td>0.0</td>\n      <td>0.000000</td>\n      <td>0.0</td>\n      <td>...</td>\n      <td>0.0</td>\n      <td>0.0</td>\n      <td>0.0</td>\n      <td>0.0</td>\n      <td>0.0</td>\n      <td>0.0</td>\n      <td>0.0</td>\n      <td>0.0</td>\n      <td>0.0</td>\n      <td>0.0</td>\n    </tr>\n    <tr>\n      <th>4</th>\n      <td>0.0</td>\n      <td>0.0</td>\n      <td>0.0</td>\n      <td>0.049363</td>\n      <td>0.032834</td>\n      <td>0.008594</td>\n      <td>0.071109</td>\n      <td>0.0</td>\n      <td>0.000000</td>\n      <td>0.0</td>\n      <td>...</td>\n      <td>0.0</td>\n      <td>0.0</td>\n      <td>0.0</td>\n      <td>0.0</td>\n      <td>0.0</td>\n      <td>0.0</td>\n      <td>0.0</td>\n      <td>0.0</td>\n      <td>0.0</td>\n      <td>0.0</td>\n    </tr>\n    <tr>\n      <th>25</th>\n      <td>0.0</td>\n      <td>0.0</td>\n      <td>0.0</td>\n      <td>0.001605</td>\n      <td>0.017503</td>\n      <td>0.007438</td>\n      <td>0.021509</td>\n      <td>0.0</td>\n      <td>0.031750</td>\n      <td>0.0</td>\n      <td>...</td>\n      <td>0.0</td>\n      <td>0.0</td>\n      <td>0.0</td>\n      <td>0.0</td>\n      <td>0.0</td>\n      <td>0.0</td>\n      <td>0.0</td>\n      <td>0.0</td>\n      <td>0.0</td>\n      <td>0.0</td>\n    </tr>\n    <tr>\n      <th>43</th>\n      <td>0.0</td>\n      <td>0.0</td>\n      <td>0.0</td>\n      <td>0.001068</td>\n      <td>0.000154</td>\n      <td>0.000043</td>\n      <td>0.000000</td>\n      <td>0.0</td>\n      <td>0.000000</td>\n      <td>0.0</td>\n      <td>...</td>\n      <td>0.0</td>\n      <td>0.0</td>\n      <td>0.0</td>\n      <td>0.0</td>\n      <td>0.0</td>\n      <td>0.0</td>\n      <td>0.0</td>\n      <td>0.0</td>\n      <td>0.0</td>\n      <td>0.0</td>\n    </tr>\n    <tr>\n      <th>45</th>\n      <td>0.0</td>\n      <td>0.0</td>\n      <td>0.0</td>\n      <td>0.002621</td>\n      <td>0.004902</td>\n      <td>0.002969</td>\n      <td>0.004042</td>\n      <td>0.0</td>\n      <td>0.013513</td>\n      <td>0.0</td>\n      <td>...</td>\n      <td>0.0</td>\n      <td>0.0</td>\n      <td>0.0</td>\n      <td>0.0</td>\n      <td>0.0</td>\n      <td>0.0</td>\n      <td>0.0</td>\n      <td>0.0</td>\n      <td>0.0</td>\n      <td>0.0</td>\n    </tr>\n  </tbody>\n</table>\n<p>5 rows × 71 columns</p>\n</div>"
     },
     "execution_count": 14,
     "metadata": {},
     "output_type": "execute_result"
    }
   ],
   "source": [
    "user_genres.head()"
   ],
   "metadata": {
    "collapsed": false,
    "pycharm": {
     "name": "#%%\n"
    }
   }
  },
  {
   "cell_type": "code",
   "execution_count": 15,
   "outputs": [],
   "source": [
    "\n",
    "genre_similarity = user_genres.drop(USER_ID, axis=0)\\\n",
    "    .apply(lambda row: mean_absolute_error(user_genres.loc[USER_ID], row), axis=1)"
   ],
   "metadata": {
    "collapsed": false,
    "pycharm": {
     "name": "#%%\n"
    }
   }
  },
  {
   "cell_type": "code",
   "execution_count": 16,
   "outputs": [
    {
     "data": {
      "text/plain": "user_uid\n402493     0.000082\n514624     0.000094\n658413     0.000094\n996666     0.000094\n369318     0.000094\n397197     0.000094\n1032037    0.000094\n507125     0.000094\n726339     0.000094\n824485     0.000095\n359168     0.000095\n760809     0.000095\n1257273    0.000095\n444728     0.000097\n474652     0.000099\n80682      0.000100\n1275000    0.000101\n931619     0.000101\n925573     0.000101\n1081504    0.000102\n708623     0.000102\n610436     0.000102\n474658     0.000102\n1202466    0.000102\n132383     0.000102\n1088610    0.000102\n21899      0.000102\n1020695    0.000103\n882503     0.000103\n380697     0.000103\ndtype: float64"
     },
     "execution_count": 16,
     "metadata": {},
     "output_type": "execute_result"
    }
   ],
   "source": [
    "genre_similarity.sort_values().head(30)\n"
   ],
   "metadata": {
    "collapsed": false,
    "pycharm": {
     "name": "#%%\n"
    }
   }
  },
  {
   "cell_type": "code",
   "execution_count": 17,
   "outputs": [
    {
     "data": {
      "text/plain": "Int64Index([ 724983,  869296,  605244,  362393,   19018,  775050,  729758,\n             923905,  429414,  304659,\n            ...\n             939880,  415129,  410420,  762492, 1066552,  662191, 1096628,\n             418667,  231010,  422946],\n           dtype='int64', name='user_uid', length=1000)"
     },
     "execution_count": 17,
     "metadata": {},
     "output_type": "execute_result"
    }
   ],
   "source": [
    "similar_users = (genre_similarity * type_similarity).sort_values().head(1000).index\n",
    "similar_users"
   ],
   "metadata": {
    "collapsed": false,
    "pycharm": {
     "name": "#%%\n"
    }
   }
  },
  {
   "cell_type": "code",
   "execution_count": 18,
   "outputs": [],
   "source": [
    "dsm = DurationSparseMatrix()\n",
    "history, content = dsm.read_info()\n",
    "user_films = dsm.get_matrix_part(similar_users)"
   ],
   "metadata": {
    "collapsed": false,
    "pycharm": {
     "name": "#%%\n"
    }
   }
  },
  {
   "cell_type": "code",
   "execution_count": 19,
   "outputs": [
    {
     "data": {
      "text/plain": "         9882   19870  2312   12655  25771  25051  24954  25990  24886  27927  \\\n724983     0.0    0.0    0.0    0.0    0.0    0.0    0.0    0.0    0.0    0.0   \n869296     0.0    0.0    0.0    0.0    0.0    0.0    0.0    0.0    0.0    0.0   \n605244     0.0    0.0    0.0    0.0    0.0    0.0    0.0    0.0    0.0    0.0   \n362393     0.0    0.0    0.0    0.0    0.0    0.0    0.0    0.0    0.0    0.0   \n19018      0.0    0.0    0.0    0.0    0.0    0.0    0.0    0.0    0.0    0.0   \n...        ...    ...    ...    ...    ...    ...    ...    ...    ...    ...   \n662191     0.0    0.0    0.0    0.0    0.0    0.0    0.0    0.0    0.0    0.0   \n1096628    0.0    0.0    0.0    0.0    0.0    0.0    0.0    0.0    0.0    0.0   \n418667     0.0    0.0    0.0    0.0    0.0    0.0    0.0    0.0    0.0    0.0   \n231010     0.0    0.0    0.0    0.0    0.0    0.0    0.0    0.0    0.0    0.0   \n422946     0.0    0.0    0.0    0.0    0.0    0.0    0.0    0.0    0.0    0.0   \n\n         ...  24651  9457   25436  8768   27597  20786  4037   10201  27405  \\\n724983   ...    0.0    0.0    0.0    0.0    0.0    0.0    0.0    0.0    0.0   \n869296   ...    0.0    0.0    0.0    0.0    0.0    0.0    0.0    0.0    0.0   \n605244   ...    0.0    0.0    0.0    0.0    0.0    0.0    0.0    0.0    0.0   \n362393   ...    0.0    0.0    0.0    0.0    0.0    0.0    0.0    0.0    0.0   \n19018    ...    0.0    0.0    0.0    0.0    0.0    0.0    0.0    0.0    0.0   \n...      ...    ...    ...    ...    ...    ...    ...    ...    ...    ...   \n662191   ...    0.0    0.0    0.0    0.0    0.0    0.0    0.0    0.0    0.0   \n1096628  ...    0.0    0.0    0.0    0.0    0.0    0.0    0.0    0.0    0.0   \n418667   ...    0.0    0.0    0.0    0.0    0.0    0.0    0.0    0.0    0.0   \n231010   ...    0.0    0.0    0.0    0.0    0.0    0.0    0.0    0.0    0.0   \n422946   ...    0.0    0.0    0.0    0.0    0.0    0.0    0.0    0.0    0.0   \n\n         10190  \n724983     0.0  \n869296     0.0  \n605244     0.0  \n362393     0.0  \n19018      0.0  \n...        ...  \n662191     0.0  \n1096628    0.0  \n418667     0.0  \n231010     0.0  \n422946     0.0  \n\n[1000 rows x 3829 columns]",
      "text/html": "<div>\n<style scoped>\n    .dataframe tbody tr th:only-of-type {\n        vertical-align: middle;\n    }\n\n    .dataframe tbody tr th {\n        vertical-align: top;\n    }\n\n    .dataframe thead th {\n        text-align: right;\n    }\n</style>\n<table border=\"1\" class=\"dataframe\">\n  <thead>\n    <tr style=\"text-align: right;\">\n      <th></th>\n      <th>9882</th>\n      <th>19870</th>\n      <th>2312</th>\n      <th>12655</th>\n      <th>25771</th>\n      <th>25051</th>\n      <th>24954</th>\n      <th>25990</th>\n      <th>24886</th>\n      <th>27927</th>\n      <th>...</th>\n      <th>24651</th>\n      <th>9457</th>\n      <th>25436</th>\n      <th>8768</th>\n      <th>27597</th>\n      <th>20786</th>\n      <th>4037</th>\n      <th>10201</th>\n      <th>27405</th>\n      <th>10190</th>\n    </tr>\n  </thead>\n  <tbody>\n    <tr>\n      <th>724983</th>\n      <td>0.0</td>\n      <td>0.0</td>\n      <td>0.0</td>\n      <td>0.0</td>\n      <td>0.0</td>\n      <td>0.0</td>\n      <td>0.0</td>\n      <td>0.0</td>\n      <td>0.0</td>\n      <td>0.0</td>\n      <td>...</td>\n      <td>0.0</td>\n      <td>0.0</td>\n      <td>0.0</td>\n      <td>0.0</td>\n      <td>0.0</td>\n      <td>0.0</td>\n      <td>0.0</td>\n      <td>0.0</td>\n      <td>0.0</td>\n      <td>0.0</td>\n    </tr>\n    <tr>\n      <th>869296</th>\n      <td>0.0</td>\n      <td>0.0</td>\n      <td>0.0</td>\n      <td>0.0</td>\n      <td>0.0</td>\n      <td>0.0</td>\n      <td>0.0</td>\n      <td>0.0</td>\n      <td>0.0</td>\n      <td>0.0</td>\n      <td>...</td>\n      <td>0.0</td>\n      <td>0.0</td>\n      <td>0.0</td>\n      <td>0.0</td>\n      <td>0.0</td>\n      <td>0.0</td>\n      <td>0.0</td>\n      <td>0.0</td>\n      <td>0.0</td>\n      <td>0.0</td>\n    </tr>\n    <tr>\n      <th>605244</th>\n      <td>0.0</td>\n      <td>0.0</td>\n      <td>0.0</td>\n      <td>0.0</td>\n      <td>0.0</td>\n      <td>0.0</td>\n      <td>0.0</td>\n      <td>0.0</td>\n      <td>0.0</td>\n      <td>0.0</td>\n      <td>...</td>\n      <td>0.0</td>\n      <td>0.0</td>\n      <td>0.0</td>\n      <td>0.0</td>\n      <td>0.0</td>\n      <td>0.0</td>\n      <td>0.0</td>\n      <td>0.0</td>\n      <td>0.0</td>\n      <td>0.0</td>\n    </tr>\n    <tr>\n      <th>362393</th>\n      <td>0.0</td>\n      <td>0.0</td>\n      <td>0.0</td>\n      <td>0.0</td>\n      <td>0.0</td>\n      <td>0.0</td>\n      <td>0.0</td>\n      <td>0.0</td>\n      <td>0.0</td>\n      <td>0.0</td>\n      <td>...</td>\n      <td>0.0</td>\n      <td>0.0</td>\n      <td>0.0</td>\n      <td>0.0</td>\n      <td>0.0</td>\n      <td>0.0</td>\n      <td>0.0</td>\n      <td>0.0</td>\n      <td>0.0</td>\n      <td>0.0</td>\n    </tr>\n    <tr>\n      <th>19018</th>\n      <td>0.0</td>\n      <td>0.0</td>\n      <td>0.0</td>\n      <td>0.0</td>\n      <td>0.0</td>\n      <td>0.0</td>\n      <td>0.0</td>\n      <td>0.0</td>\n      <td>0.0</td>\n      <td>0.0</td>\n      <td>...</td>\n      <td>0.0</td>\n      <td>0.0</td>\n      <td>0.0</td>\n      <td>0.0</td>\n      <td>0.0</td>\n      <td>0.0</td>\n      <td>0.0</td>\n      <td>0.0</td>\n      <td>0.0</td>\n      <td>0.0</td>\n    </tr>\n    <tr>\n      <th>...</th>\n      <td>...</td>\n      <td>...</td>\n      <td>...</td>\n      <td>...</td>\n      <td>...</td>\n      <td>...</td>\n      <td>...</td>\n      <td>...</td>\n      <td>...</td>\n      <td>...</td>\n      <td>...</td>\n      <td>...</td>\n      <td>...</td>\n      <td>...</td>\n      <td>...</td>\n      <td>...</td>\n      <td>...</td>\n      <td>...</td>\n      <td>...</td>\n      <td>...</td>\n      <td>...</td>\n    </tr>\n    <tr>\n      <th>662191</th>\n      <td>0.0</td>\n      <td>0.0</td>\n      <td>0.0</td>\n      <td>0.0</td>\n      <td>0.0</td>\n      <td>0.0</td>\n      <td>0.0</td>\n      <td>0.0</td>\n      <td>0.0</td>\n      <td>0.0</td>\n      <td>...</td>\n      <td>0.0</td>\n      <td>0.0</td>\n      <td>0.0</td>\n      <td>0.0</td>\n      <td>0.0</td>\n      <td>0.0</td>\n      <td>0.0</td>\n      <td>0.0</td>\n      <td>0.0</td>\n      <td>0.0</td>\n    </tr>\n    <tr>\n      <th>1096628</th>\n      <td>0.0</td>\n      <td>0.0</td>\n      <td>0.0</td>\n      <td>0.0</td>\n      <td>0.0</td>\n      <td>0.0</td>\n      <td>0.0</td>\n      <td>0.0</td>\n      <td>0.0</td>\n      <td>0.0</td>\n      <td>...</td>\n      <td>0.0</td>\n      <td>0.0</td>\n      <td>0.0</td>\n      <td>0.0</td>\n      <td>0.0</td>\n      <td>0.0</td>\n      <td>0.0</td>\n      <td>0.0</td>\n      <td>0.0</td>\n      <td>0.0</td>\n    </tr>\n    <tr>\n      <th>418667</th>\n      <td>0.0</td>\n      <td>0.0</td>\n      <td>0.0</td>\n      <td>0.0</td>\n      <td>0.0</td>\n      <td>0.0</td>\n      <td>0.0</td>\n      <td>0.0</td>\n      <td>0.0</td>\n      <td>0.0</td>\n      <td>...</td>\n      <td>0.0</td>\n      <td>0.0</td>\n      <td>0.0</td>\n      <td>0.0</td>\n      <td>0.0</td>\n      <td>0.0</td>\n      <td>0.0</td>\n      <td>0.0</td>\n      <td>0.0</td>\n      <td>0.0</td>\n    </tr>\n    <tr>\n      <th>231010</th>\n      <td>0.0</td>\n      <td>0.0</td>\n      <td>0.0</td>\n      <td>0.0</td>\n      <td>0.0</td>\n      <td>0.0</td>\n      <td>0.0</td>\n      <td>0.0</td>\n      <td>0.0</td>\n      <td>0.0</td>\n      <td>...</td>\n      <td>0.0</td>\n      <td>0.0</td>\n      <td>0.0</td>\n      <td>0.0</td>\n      <td>0.0</td>\n      <td>0.0</td>\n      <td>0.0</td>\n      <td>0.0</td>\n      <td>0.0</td>\n      <td>0.0</td>\n    </tr>\n    <tr>\n      <th>422946</th>\n      <td>0.0</td>\n      <td>0.0</td>\n      <td>0.0</td>\n      <td>0.0</td>\n      <td>0.0</td>\n      <td>0.0</td>\n      <td>0.0</td>\n      <td>0.0</td>\n      <td>0.0</td>\n      <td>0.0</td>\n      <td>...</td>\n      <td>0.0</td>\n      <td>0.0</td>\n      <td>0.0</td>\n      <td>0.0</td>\n      <td>0.0</td>\n      <td>0.0</td>\n      <td>0.0</td>\n      <td>0.0</td>\n      <td>0.0</td>\n      <td>0.0</td>\n    </tr>\n  </tbody>\n</table>\n<p>1000 rows × 3829 columns</p>\n</div>"
     },
     "execution_count": 19,
     "metadata": {},
     "output_type": "execute_result"
    }
   ],
   "source": [
    "user_films"
   ],
   "metadata": {
    "collapsed": false,
    "pycharm": {
     "name": "#%%\n"
    }
   }
  },
  {
   "cell_type": "code",
   "execution_count": 20,
   "outputs": [
    {
     "data": {
      "text/plain": "   9882   19870  2312   12655  25771  25051  24954  25990  24886  27927  ...  \\\n1    0.0    0.0    0.0    0.0    0.0    0.0    0.0    0.0    0.0    0.0  ...   \n\n   24651  9457   25436  8768   27597  20786  4037   10201  27405  10190  \n1    0.0    0.0    0.0    0.0    0.0    0.0    0.0    0.0    0.0    0.0  \n\n[1 rows x 3829 columns]",
      "text/html": "<div>\n<style scoped>\n    .dataframe tbody tr th:only-of-type {\n        vertical-align: middle;\n    }\n\n    .dataframe tbody tr th {\n        vertical-align: top;\n    }\n\n    .dataframe thead th {\n        text-align: right;\n    }\n</style>\n<table border=\"1\" class=\"dataframe\">\n  <thead>\n    <tr style=\"text-align: right;\">\n      <th></th>\n      <th>9882</th>\n      <th>19870</th>\n      <th>2312</th>\n      <th>12655</th>\n      <th>25771</th>\n      <th>25051</th>\n      <th>24954</th>\n      <th>25990</th>\n      <th>24886</th>\n      <th>27927</th>\n      <th>...</th>\n      <th>24651</th>\n      <th>9457</th>\n      <th>25436</th>\n      <th>8768</th>\n      <th>27597</th>\n      <th>20786</th>\n      <th>4037</th>\n      <th>10201</th>\n      <th>27405</th>\n      <th>10190</th>\n    </tr>\n  </thead>\n  <tbody>\n    <tr>\n      <th>1</th>\n      <td>0.0</td>\n      <td>0.0</td>\n      <td>0.0</td>\n      <td>0.0</td>\n      <td>0.0</td>\n      <td>0.0</td>\n      <td>0.0</td>\n      <td>0.0</td>\n      <td>0.0</td>\n      <td>0.0</td>\n      <td>...</td>\n      <td>0.0</td>\n      <td>0.0</td>\n      <td>0.0</td>\n      <td>0.0</td>\n      <td>0.0</td>\n      <td>0.0</td>\n      <td>0.0</td>\n      <td>0.0</td>\n      <td>0.0</td>\n      <td>0.0</td>\n    </tr>\n  </tbody>\n</table>\n<p>1 rows × 3829 columns</p>\n</div>"
     },
     "execution_count": 20,
     "metadata": {},
     "output_type": "execute_result"
    }
   ],
   "source": [
    "our_user = dsm.get_matrix_part([USER_ID])\n",
    "our_user"
   ],
   "metadata": {
    "collapsed": false,
    "pycharm": {
     "name": "#%%\n"
    }
   }
  },
  {
   "cell_type": "code",
   "execution_count": 21,
   "outputs": [
    {
     "data": {
      "text/plain": "         9882   19870  2312   12655  25771  25051  24954  25990  24886  27927  \\\n724983     0.0    0.0    0.0    0.0    0.0    0.0    0.0    0.0    0.0    0.0   \n869296     0.0    0.0    0.0    0.0    0.0    0.0    0.0    0.0    0.0    0.0   \n605244     0.0    0.0    0.0    0.0    0.0    0.0    0.0    0.0    0.0    0.0   \n362393     0.0    0.0    0.0    0.0    0.0    0.0    0.0    0.0    0.0    0.0   \n19018      0.0    0.0    0.0    0.0    0.0    0.0    0.0    0.0    0.0    0.0   \n...        ...    ...    ...    ...    ...    ...    ...    ...    ...    ...   \n662191     0.0    0.0    0.0    0.0    0.0    0.0    0.0    0.0    0.0    0.0   \n1096628    0.0    0.0    0.0    0.0    0.0    0.0    0.0    0.0    0.0    0.0   \n418667     0.0    0.0    0.0    0.0    0.0    0.0    0.0    0.0    0.0    0.0   \n231010     0.0    0.0    0.0    0.0    0.0    0.0    0.0    0.0    0.0    0.0   \n422946     0.0    0.0    0.0    0.0    0.0    0.0    0.0    0.0    0.0    0.0   \n\n         ...  24651  9457   25436  8768   27597  20786  4037   10201  27405  \\\n724983   ...    0.0    0.0    0.0    0.0    0.0    0.0    0.0    0.0    0.0   \n869296   ...    0.0    0.0    0.0    0.0    0.0    0.0    0.0    0.0    0.0   \n605244   ...    0.0    0.0    0.0    0.0    0.0    0.0    0.0    0.0    0.0   \n362393   ...    0.0    0.0    0.0    0.0    0.0    0.0    0.0    0.0    0.0   \n19018    ...    0.0    0.0    0.0    0.0    0.0    0.0    0.0    0.0    0.0   \n...      ...    ...    ...    ...    ...    ...    ...    ...    ...    ...   \n662191   ...    0.0    0.0    0.0    0.0    0.0    0.0    0.0    0.0    0.0   \n1096628  ...    0.0    0.0    0.0    0.0    0.0    0.0    0.0    0.0    0.0   \n418667   ...    0.0    0.0    0.0    0.0    0.0    0.0    0.0    0.0    0.0   \n231010   ...    0.0    0.0    0.0    0.0    0.0    0.0    0.0    0.0    0.0   \n422946   ...    0.0    0.0    0.0    0.0    0.0    0.0    0.0    0.0    0.0   \n\n         10190  \n724983     0.0  \n869296     0.0  \n605244     0.0  \n362393     0.0  \n19018      0.0  \n...        ...  \n662191     0.0  \n1096628    0.0  \n418667     0.0  \n231010     0.0  \n422946     0.0  \n\n[1000 rows x 3829 columns]",
      "text/html": "<div>\n<style scoped>\n    .dataframe tbody tr th:only-of-type {\n        vertical-align: middle;\n    }\n\n    .dataframe tbody tr th {\n        vertical-align: top;\n    }\n\n    .dataframe thead th {\n        text-align: right;\n    }\n</style>\n<table border=\"1\" class=\"dataframe\">\n  <thead>\n    <tr style=\"text-align: right;\">\n      <th></th>\n      <th>9882</th>\n      <th>19870</th>\n      <th>2312</th>\n      <th>12655</th>\n      <th>25771</th>\n      <th>25051</th>\n      <th>24954</th>\n      <th>25990</th>\n      <th>24886</th>\n      <th>27927</th>\n      <th>...</th>\n      <th>24651</th>\n      <th>9457</th>\n      <th>25436</th>\n      <th>8768</th>\n      <th>27597</th>\n      <th>20786</th>\n      <th>4037</th>\n      <th>10201</th>\n      <th>27405</th>\n      <th>10190</th>\n    </tr>\n  </thead>\n  <tbody>\n    <tr>\n      <th>724983</th>\n      <td>0.0</td>\n      <td>0.0</td>\n      <td>0.0</td>\n      <td>0.0</td>\n      <td>0.0</td>\n      <td>0.0</td>\n      <td>0.0</td>\n      <td>0.0</td>\n      <td>0.0</td>\n      <td>0.0</td>\n      <td>...</td>\n      <td>0.0</td>\n      <td>0.0</td>\n      <td>0.0</td>\n      <td>0.0</td>\n      <td>0.0</td>\n      <td>0.0</td>\n      <td>0.0</td>\n      <td>0.0</td>\n      <td>0.0</td>\n      <td>0.0</td>\n    </tr>\n    <tr>\n      <th>869296</th>\n      <td>0.0</td>\n      <td>0.0</td>\n      <td>0.0</td>\n      <td>0.0</td>\n      <td>0.0</td>\n      <td>0.0</td>\n      <td>0.0</td>\n      <td>0.0</td>\n      <td>0.0</td>\n      <td>0.0</td>\n      <td>...</td>\n      <td>0.0</td>\n      <td>0.0</td>\n      <td>0.0</td>\n      <td>0.0</td>\n      <td>0.0</td>\n      <td>0.0</td>\n      <td>0.0</td>\n      <td>0.0</td>\n      <td>0.0</td>\n      <td>0.0</td>\n    </tr>\n    <tr>\n      <th>605244</th>\n      <td>0.0</td>\n      <td>0.0</td>\n      <td>0.0</td>\n      <td>0.0</td>\n      <td>0.0</td>\n      <td>0.0</td>\n      <td>0.0</td>\n      <td>0.0</td>\n      <td>0.0</td>\n      <td>0.0</td>\n      <td>...</td>\n      <td>0.0</td>\n      <td>0.0</td>\n      <td>0.0</td>\n      <td>0.0</td>\n      <td>0.0</td>\n      <td>0.0</td>\n      <td>0.0</td>\n      <td>0.0</td>\n      <td>0.0</td>\n      <td>0.0</td>\n    </tr>\n    <tr>\n      <th>362393</th>\n      <td>0.0</td>\n      <td>0.0</td>\n      <td>0.0</td>\n      <td>0.0</td>\n      <td>0.0</td>\n      <td>0.0</td>\n      <td>0.0</td>\n      <td>0.0</td>\n      <td>0.0</td>\n      <td>0.0</td>\n      <td>...</td>\n      <td>0.0</td>\n      <td>0.0</td>\n      <td>0.0</td>\n      <td>0.0</td>\n      <td>0.0</td>\n      <td>0.0</td>\n      <td>0.0</td>\n      <td>0.0</td>\n      <td>0.0</td>\n      <td>0.0</td>\n    </tr>\n    <tr>\n      <th>19018</th>\n      <td>0.0</td>\n      <td>0.0</td>\n      <td>0.0</td>\n      <td>0.0</td>\n      <td>0.0</td>\n      <td>0.0</td>\n      <td>0.0</td>\n      <td>0.0</td>\n      <td>0.0</td>\n      <td>0.0</td>\n      <td>...</td>\n      <td>0.0</td>\n      <td>0.0</td>\n      <td>0.0</td>\n      <td>0.0</td>\n      <td>0.0</td>\n      <td>0.0</td>\n      <td>0.0</td>\n      <td>0.0</td>\n      <td>0.0</td>\n      <td>0.0</td>\n    </tr>\n    <tr>\n      <th>...</th>\n      <td>...</td>\n      <td>...</td>\n      <td>...</td>\n      <td>...</td>\n      <td>...</td>\n      <td>...</td>\n      <td>...</td>\n      <td>...</td>\n      <td>...</td>\n      <td>...</td>\n      <td>...</td>\n      <td>...</td>\n      <td>...</td>\n      <td>...</td>\n      <td>...</td>\n      <td>...</td>\n      <td>...</td>\n      <td>...</td>\n      <td>...</td>\n      <td>...</td>\n      <td>...</td>\n    </tr>\n    <tr>\n      <th>662191</th>\n      <td>0.0</td>\n      <td>0.0</td>\n      <td>0.0</td>\n      <td>0.0</td>\n      <td>0.0</td>\n      <td>0.0</td>\n      <td>0.0</td>\n      <td>0.0</td>\n      <td>0.0</td>\n      <td>0.0</td>\n      <td>...</td>\n      <td>0.0</td>\n      <td>0.0</td>\n      <td>0.0</td>\n      <td>0.0</td>\n      <td>0.0</td>\n      <td>0.0</td>\n      <td>0.0</td>\n      <td>0.0</td>\n      <td>0.0</td>\n      <td>0.0</td>\n    </tr>\n    <tr>\n      <th>1096628</th>\n      <td>0.0</td>\n      <td>0.0</td>\n      <td>0.0</td>\n      <td>0.0</td>\n      <td>0.0</td>\n      <td>0.0</td>\n      <td>0.0</td>\n      <td>0.0</td>\n      <td>0.0</td>\n      <td>0.0</td>\n      <td>...</td>\n      <td>0.0</td>\n      <td>0.0</td>\n      <td>0.0</td>\n      <td>0.0</td>\n      <td>0.0</td>\n      <td>0.0</td>\n      <td>0.0</td>\n      <td>0.0</td>\n      <td>0.0</td>\n      <td>0.0</td>\n    </tr>\n    <tr>\n      <th>418667</th>\n      <td>0.0</td>\n      <td>0.0</td>\n      <td>0.0</td>\n      <td>0.0</td>\n      <td>0.0</td>\n      <td>0.0</td>\n      <td>0.0</td>\n      <td>0.0</td>\n      <td>0.0</td>\n      <td>0.0</td>\n      <td>...</td>\n      <td>0.0</td>\n      <td>0.0</td>\n      <td>0.0</td>\n      <td>0.0</td>\n      <td>0.0</td>\n      <td>0.0</td>\n      <td>0.0</td>\n      <td>0.0</td>\n      <td>0.0</td>\n      <td>0.0</td>\n    </tr>\n    <tr>\n      <th>231010</th>\n      <td>0.0</td>\n      <td>0.0</td>\n      <td>0.0</td>\n      <td>0.0</td>\n      <td>0.0</td>\n      <td>0.0</td>\n      <td>0.0</td>\n      <td>0.0</td>\n      <td>0.0</td>\n      <td>0.0</td>\n      <td>...</td>\n      <td>0.0</td>\n      <td>0.0</td>\n      <td>0.0</td>\n      <td>0.0</td>\n      <td>0.0</td>\n      <td>0.0</td>\n      <td>0.0</td>\n      <td>0.0</td>\n      <td>0.0</td>\n      <td>0.0</td>\n    </tr>\n    <tr>\n      <th>422946</th>\n      <td>0.0</td>\n      <td>0.0</td>\n      <td>0.0</td>\n      <td>0.0</td>\n      <td>0.0</td>\n      <td>0.0</td>\n      <td>0.0</td>\n      <td>0.0</td>\n      <td>0.0</td>\n      <td>0.0</td>\n      <td>...</td>\n      <td>0.0</td>\n      <td>0.0</td>\n      <td>0.0</td>\n      <td>0.0</td>\n      <td>0.0</td>\n      <td>0.0</td>\n      <td>0.0</td>\n      <td>0.0</td>\n      <td>0.0</td>\n      <td>0.0</td>\n    </tr>\n  </tbody>\n</table>\n<p>1000 rows × 3829 columns</p>\n</div>"
     },
     "execution_count": 21,
     "metadata": {},
     "output_type": "execute_result"
    }
   ],
   "source": [
    "dif_films = user_films.apply(lambda row: row - our_user.iloc[0], axis=1)\n",
    "dif_films"
   ],
   "metadata": {
    "collapsed": false,
    "pycharm": {
     "name": "#%%\n"
    }
   }
  },
  {
   "cell_type": "code",
   "execution_count": 22,
   "outputs": [],
   "source": [
    "top_films = list()\n",
    "\n",
    "for col, values in dif_films.iteritems():\n",
    "    for value in values:\n",
    "        if value == 1:\n",
    "            top_films.append(col)"
   ],
   "metadata": {
    "collapsed": false,
    "pycharm": {
     "name": "#%%\n"
    }
   }
  },
  {
   "cell_type": "code",
   "execution_count": 23,
   "outputs": [
    {
     "data": {
      "text/plain": "[26482,\n 26482,\n 25793,\n 25793,\n 25793,\n 25794,\n 18399,\n 18399,\n 18399,\n 18399,\n 18399,\n 18399,\n 18399,\n 18399,\n 18399,\n 18399,\n 18399,\n 18399,\n 18399,\n 18399,\n 13011,\n 17545,\n 27996,\n 9791,\n 28965,\n 25943,\n 9843,\n 5097,\n 5097,\n 12120,\n 12746,\n 5121,\n 5121,\n 5121,\n 5121,\n 26329,\n 11728,\n 29059,\n 9910,\n 24566,\n 25719,\n 27091,\n 3489,\n 25231,\n 7834,\n 27866,\n 11285,\n 27552,\n 29014,\n 29014,\n 29014,\n 2043,\n 25304,\n 27098,\n 9439,\n 27686,\n 24568,\n 24568,\n 24568,\n 25838,\n 25838,\n 25838,\n 15104,\n 26718,\n 3340,\n 28170,\n 12914,\n 14917,\n 7350,\n 27717,\n 25035,\n 25807,\n 28150,\n 26361,\n 26405,\n 27139,\n 25468,\n 5274,\n 4708,\n 5133,\n 10993,\n 27610,\n 26656,\n 27015,\n 4564,\n 4564,\n 4564,\n 4564,\n 4564,\n 4564,\n 4564,\n 26142,\n 26142,\n 24634,\n 27754,\n 25444,\n 25444,\n 10736,\n 7263,\n 10895,\n 5315,\n 5315,\n 5315,\n 5315,\n 5315,\n 10258,\n 11518,\n 24688,\n 26595,\n 10856,\n 10856,\n 26746,\n 25073,\n 1575,\n 25180,\n 13565,\n 13565,\n 13565,\n 13565,\n 1650,\n 10151,\n 11020,\n 27274,\n 27103,\n 24776,\n 24723,\n 25329,\n 25329,\n 19210,\n 19210,\n 19210,\n 26153,\n 26153,\n 26153,\n 26153,\n 18023,\n 25988,\n 26748]"
     },
     "execution_count": 23,
     "metadata": {},
     "output_type": "execute_result"
    }
   ],
   "source": [
    "top_films"
   ],
   "metadata": {
    "collapsed": false,
    "pycharm": {
     "name": "#%%\n"
    }
   }
  },
  {
   "cell_type": "code",
   "execution_count": 24,
   "outputs": [
    {
     "data": {
      "text/plain": "array(['Возмездие', 'Меченосец', 'Интимные места', 'Неваляшка',\n       'Райские холмы', 'Джек - убийца великанов', 'План побега',\n       'Операция «Ы» и другие приключения Шурика', 'Запределье', 'Свои',\n       'Чудо', 'Плюс один', 'Битва за землю', 'Их первая ночь',\n       'Королева', 'Скиф', 'Иваново детство', 'Простая просьба',\n       'Не может быть!', 'Шугалей', 'Самый пьяный округ в мире',\n       'Про любовь', 'Ржев', 'Исходный код', 'Вилли и крутые тачки',\n       'Смешарики. Начало', 'Глотай', 'Сбежавшая невеста', 'Я худею',\n       'Батя', 'Тёмный мир: Равновесие', 'Двое - это слишком',\n       'Профессионал', 'Холодное лето пятьдесят третьего...',\n       'Девять жизней', 'Моя госпожа', 'Выжившая',\n       'Когда санта упал на землю', 'Halo 4: Идущий к рассвету',\n       'Halo: Сумерки', 'Пурга', 'Хардкор', 'Кто, если не мы',\n       'Астерикс на Олимпийских играх', 'З/Л/О', 'Война миров',\n       'Дед, привет!', 'Замерзшая из Майами', 'Зачётный препод 2',\n       'Новогодний ремонт', 'Хоть раз в жизни',\n       'Лето. Одноклассники. Любовь', 'Смoтри Кино и ТВ', 'Рейд',\n       'Золотой ключик', 'Чудо', 'Иллюзия обмана', 'Телохранитель',\n       'Брат', 'Максим Перепелица', 'Дурацкое дело нехитрое',\n       'В метре друг от друга', 'Возвращение', 'Берлинский синдром',\n       'Прозрение', '100 вещей и ничего лишнего', 'Монах и бес',\n       'Ворошиловский стрелок', 'Эспен в поисках Золотого замка',\n       'Охотники', 'Дитя робота', 'Гость',\n       'Снежная королева 3: Огонь и лёд', 'Возвращение героя',\n       'Корпорация «Святые моторы»', 'Вооруженный ответ',\n       'Глубоководный горизонт', 'Пипец', 'За спичками',\n       'Ограбление века', 'А зори здесь тихие...', 'Ученик',\n       'Самогонщики', 'Вне/себя', 'Проклятый сезон',\n       'Свадьба в Малиновке', 'Выпускной', 'Куриоса', 'Зачётный препод',\n       'Жадность'], dtype=object)"
     },
     "execution_count": 24,
     "metadata": {},
     "output_type": "execute_result"
    }
   ],
   "source": [
    "content.loc[set(top_films), 'name'].values"
   ],
   "metadata": {
    "collapsed": false,
    "pycharm": {
     "name": "#%%\n"
    }
   }
  },
  {
   "cell_type": "markdown",
   "source": [
    "### Валидация"
   ],
   "metadata": {
    "collapsed": false,
    "pycharm": {
     "name": "#%% md\n"
    }
   }
  },
  {
   "cell_type": "code",
   "execution_count": 46,
   "outputs": [],
   "source": [
    "VAL_ID = 1024395\n",
    "\n",
    "comb_df = pd.concat([user_content_type, user_genres], axis=1)"
   ],
   "metadata": {
    "collapsed": false,
    "pycharm": {
     "name": "#%%\n"
    }
   }
  },
  {
   "cell_type": "code",
   "execution_count": 47,
   "outputs": [],
   "source": [
    "similarity = comb_df.drop(VAL_ID, axis=0)\\\n",
    "    .apply(lambda row: cosine(comb_df.loc[VAL_ID], row), axis=1)"
   ],
   "metadata": {
    "collapsed": false,
    "pycharm": {
     "name": "#%%\n"
    }
   }
  },
  {
   "cell_type": "code",
   "execution_count": 48,
   "outputs": [],
   "source": [
    "# type_similarity = user_content_type.drop(VAL_ID, axis=0)\\\n",
    "# .apply(lambda row: cosine(user_content_type.loc[VAL_ID], row), axis=1)"
   ],
   "metadata": {
    "collapsed": false,
    "pycharm": {
     "name": "#%%\n"
    }
   }
  },
  {
   "cell_type": "code",
   "execution_count": 49,
   "outputs": [],
   "source": [
    "# genre_similarity = user_genres.drop(VAL_ID, axis=0)\\\n",
    "#     .apply(lambda row: mean_absolute_error(user_genres.loc[VAL_ID], row), axis=1)"
   ],
   "metadata": {
    "collapsed": false,
    "pycharm": {
     "name": "#%%\n"
    }
   }
  },
  {
   "cell_type": "code",
   "execution_count": 50,
   "outputs": [],
   "source": [
    "similar_users = similarity.sort_values().head(20000).index\n",
    "# similar_users = (genre_similarity * type_similarity).sort_values().head(20000).index"
   ],
   "metadata": {
    "collapsed": false,
    "pycharm": {
     "name": "#%%\n"
    }
   }
  },
  {
   "cell_type": "code",
   "execution_count": 51,
   "outputs": [],
   "source": [
    "dsm = DurationSparseMatrix()\n",
    "history, content = dsm.read_info()\n",
    "user_films = dsm.get_matrix_part(similar_users)"
   ],
   "metadata": {
    "collapsed": false,
    "pycharm": {
     "name": "#%%\n"
    }
   }
  },
  {
   "cell_type": "code",
   "execution_count": 52,
   "outputs": [
    {
     "data": {
      "text/plain": "         9882   19870  2312   12655  25771  25051  24954  25990  24886  27927  \\\n849982     0.0    0.0    0.0    0.0    0.0    0.0    0.0    0.0    0.0    0.0   \n1097097    0.0    0.0    0.0    0.0    0.0    0.0    0.0    0.0    0.0    0.0   \n111630     0.0    0.0    0.0    0.0    0.0    0.0    0.0    0.0    0.0    0.0   \n905494     0.0    0.0    0.0    0.0    0.0    0.0    0.0    0.0    0.0    0.0   \n1153701    0.0    0.0    0.0    0.0    0.0    0.0    0.0    0.0    0.0    0.0   \n...        ...    ...    ...    ...    ...    ...    ...    ...    ...    ...   \n1083349    0.0    0.0    0.0    0.0    0.0    0.0    0.0    0.0    0.0    0.0   \n195707     0.0    0.0    0.0    0.0    0.0    0.0    0.0    0.0    0.0    0.0   \n1282448    0.0    0.0    0.0    0.0    0.0    0.0    0.0    0.0    0.0    0.0   \n1075689    0.0    0.0    0.0    0.0    0.0    0.0    0.0    0.0    0.0    0.0   \n562916     0.0    0.0    0.0    0.0    0.0    0.0    0.0    0.0    0.0    0.0   \n\n         ...  24651  9457   25436  8768   27597  20786  4037   10201  27405  \\\n849982   ...    0.0    0.0    0.0    0.0    0.0    0.0    0.0    0.0    0.0   \n1097097  ...    0.0    0.0    0.0    0.0    0.0    0.0    0.0    0.0    0.0   \n111630   ...    0.0    0.0    0.0    0.0    0.0    0.0    0.0    0.0    0.0   \n905494   ...    0.0    0.0    0.0    0.0    0.0    0.0    0.0    0.0    0.0   \n1153701  ...    0.0    0.0    0.0    0.0    0.0    0.0    0.0    0.0    0.0   \n...      ...    ...    ...    ...    ...    ...    ...    ...    ...    ...   \n1083349  ...    0.0    0.0    0.0    0.0    0.0    0.0    0.0    0.0    0.0   \n195707   ...    0.0    0.0    0.0    0.0    0.0    0.0    0.0    0.0    0.0   \n1282448  ...    0.0    0.0    0.0    0.0    0.0    0.0    0.0    0.0    0.0   \n1075689  ...    0.0    0.0    0.0    0.0    0.0    0.0    0.0    0.0    0.0   \n562916   ...    0.0    0.0    0.0    0.0    0.0    0.0    0.0    0.0    0.0   \n\n         10190  \n849982     0.0  \n1097097    0.0  \n111630     0.0  \n905494     0.0  \n1153701    0.0  \n...        ...  \n1083349    0.0  \n195707     0.0  \n1282448    0.0  \n1075689    0.0  \n562916     0.0  \n\n[20000 rows x 3829 columns]",
      "text/html": "<div>\n<style scoped>\n    .dataframe tbody tr th:only-of-type {\n        vertical-align: middle;\n    }\n\n    .dataframe tbody tr th {\n        vertical-align: top;\n    }\n\n    .dataframe thead th {\n        text-align: right;\n    }\n</style>\n<table border=\"1\" class=\"dataframe\">\n  <thead>\n    <tr style=\"text-align: right;\">\n      <th></th>\n      <th>9882</th>\n      <th>19870</th>\n      <th>2312</th>\n      <th>12655</th>\n      <th>25771</th>\n      <th>25051</th>\n      <th>24954</th>\n      <th>25990</th>\n      <th>24886</th>\n      <th>27927</th>\n      <th>...</th>\n      <th>24651</th>\n      <th>9457</th>\n      <th>25436</th>\n      <th>8768</th>\n      <th>27597</th>\n      <th>20786</th>\n      <th>4037</th>\n      <th>10201</th>\n      <th>27405</th>\n      <th>10190</th>\n    </tr>\n  </thead>\n  <tbody>\n    <tr>\n      <th>849982</th>\n      <td>0.0</td>\n      <td>0.0</td>\n      <td>0.0</td>\n      <td>0.0</td>\n      <td>0.0</td>\n      <td>0.0</td>\n      <td>0.0</td>\n      <td>0.0</td>\n      <td>0.0</td>\n      <td>0.0</td>\n      <td>...</td>\n      <td>0.0</td>\n      <td>0.0</td>\n      <td>0.0</td>\n      <td>0.0</td>\n      <td>0.0</td>\n      <td>0.0</td>\n      <td>0.0</td>\n      <td>0.0</td>\n      <td>0.0</td>\n      <td>0.0</td>\n    </tr>\n    <tr>\n      <th>1097097</th>\n      <td>0.0</td>\n      <td>0.0</td>\n      <td>0.0</td>\n      <td>0.0</td>\n      <td>0.0</td>\n      <td>0.0</td>\n      <td>0.0</td>\n      <td>0.0</td>\n      <td>0.0</td>\n      <td>0.0</td>\n      <td>...</td>\n      <td>0.0</td>\n      <td>0.0</td>\n      <td>0.0</td>\n      <td>0.0</td>\n      <td>0.0</td>\n      <td>0.0</td>\n      <td>0.0</td>\n      <td>0.0</td>\n      <td>0.0</td>\n      <td>0.0</td>\n    </tr>\n    <tr>\n      <th>111630</th>\n      <td>0.0</td>\n      <td>0.0</td>\n      <td>0.0</td>\n      <td>0.0</td>\n      <td>0.0</td>\n      <td>0.0</td>\n      <td>0.0</td>\n      <td>0.0</td>\n      <td>0.0</td>\n      <td>0.0</td>\n      <td>...</td>\n      <td>0.0</td>\n      <td>0.0</td>\n      <td>0.0</td>\n      <td>0.0</td>\n      <td>0.0</td>\n      <td>0.0</td>\n      <td>0.0</td>\n      <td>0.0</td>\n      <td>0.0</td>\n      <td>0.0</td>\n    </tr>\n    <tr>\n      <th>905494</th>\n      <td>0.0</td>\n      <td>0.0</td>\n      <td>0.0</td>\n      <td>0.0</td>\n      <td>0.0</td>\n      <td>0.0</td>\n      <td>0.0</td>\n      <td>0.0</td>\n      <td>0.0</td>\n      <td>0.0</td>\n      <td>...</td>\n      <td>0.0</td>\n      <td>0.0</td>\n      <td>0.0</td>\n      <td>0.0</td>\n      <td>0.0</td>\n      <td>0.0</td>\n      <td>0.0</td>\n      <td>0.0</td>\n      <td>0.0</td>\n      <td>0.0</td>\n    </tr>\n    <tr>\n      <th>1153701</th>\n      <td>0.0</td>\n      <td>0.0</td>\n      <td>0.0</td>\n      <td>0.0</td>\n      <td>0.0</td>\n      <td>0.0</td>\n      <td>0.0</td>\n      <td>0.0</td>\n      <td>0.0</td>\n      <td>0.0</td>\n      <td>...</td>\n      <td>0.0</td>\n      <td>0.0</td>\n      <td>0.0</td>\n      <td>0.0</td>\n      <td>0.0</td>\n      <td>0.0</td>\n      <td>0.0</td>\n      <td>0.0</td>\n      <td>0.0</td>\n      <td>0.0</td>\n    </tr>\n    <tr>\n      <th>...</th>\n      <td>...</td>\n      <td>...</td>\n      <td>...</td>\n      <td>...</td>\n      <td>...</td>\n      <td>...</td>\n      <td>...</td>\n      <td>...</td>\n      <td>...</td>\n      <td>...</td>\n      <td>...</td>\n      <td>...</td>\n      <td>...</td>\n      <td>...</td>\n      <td>...</td>\n      <td>...</td>\n      <td>...</td>\n      <td>...</td>\n      <td>...</td>\n      <td>...</td>\n      <td>...</td>\n    </tr>\n    <tr>\n      <th>1083349</th>\n      <td>0.0</td>\n      <td>0.0</td>\n      <td>0.0</td>\n      <td>0.0</td>\n      <td>0.0</td>\n      <td>0.0</td>\n      <td>0.0</td>\n      <td>0.0</td>\n      <td>0.0</td>\n      <td>0.0</td>\n      <td>...</td>\n      <td>0.0</td>\n      <td>0.0</td>\n      <td>0.0</td>\n      <td>0.0</td>\n      <td>0.0</td>\n      <td>0.0</td>\n      <td>0.0</td>\n      <td>0.0</td>\n      <td>0.0</td>\n      <td>0.0</td>\n    </tr>\n    <tr>\n      <th>195707</th>\n      <td>0.0</td>\n      <td>0.0</td>\n      <td>0.0</td>\n      <td>0.0</td>\n      <td>0.0</td>\n      <td>0.0</td>\n      <td>0.0</td>\n      <td>0.0</td>\n      <td>0.0</td>\n      <td>0.0</td>\n      <td>...</td>\n      <td>0.0</td>\n      <td>0.0</td>\n      <td>0.0</td>\n      <td>0.0</td>\n      <td>0.0</td>\n      <td>0.0</td>\n      <td>0.0</td>\n      <td>0.0</td>\n      <td>0.0</td>\n      <td>0.0</td>\n    </tr>\n    <tr>\n      <th>1282448</th>\n      <td>0.0</td>\n      <td>0.0</td>\n      <td>0.0</td>\n      <td>0.0</td>\n      <td>0.0</td>\n      <td>0.0</td>\n      <td>0.0</td>\n      <td>0.0</td>\n      <td>0.0</td>\n      <td>0.0</td>\n      <td>...</td>\n      <td>0.0</td>\n      <td>0.0</td>\n      <td>0.0</td>\n      <td>0.0</td>\n      <td>0.0</td>\n      <td>0.0</td>\n      <td>0.0</td>\n      <td>0.0</td>\n      <td>0.0</td>\n      <td>0.0</td>\n    </tr>\n    <tr>\n      <th>1075689</th>\n      <td>0.0</td>\n      <td>0.0</td>\n      <td>0.0</td>\n      <td>0.0</td>\n      <td>0.0</td>\n      <td>0.0</td>\n      <td>0.0</td>\n      <td>0.0</td>\n      <td>0.0</td>\n      <td>0.0</td>\n      <td>...</td>\n      <td>0.0</td>\n      <td>0.0</td>\n      <td>0.0</td>\n      <td>0.0</td>\n      <td>0.0</td>\n      <td>0.0</td>\n      <td>0.0</td>\n      <td>0.0</td>\n      <td>0.0</td>\n      <td>0.0</td>\n    </tr>\n    <tr>\n      <th>562916</th>\n      <td>0.0</td>\n      <td>0.0</td>\n      <td>0.0</td>\n      <td>0.0</td>\n      <td>0.0</td>\n      <td>0.0</td>\n      <td>0.0</td>\n      <td>0.0</td>\n      <td>0.0</td>\n      <td>0.0</td>\n      <td>...</td>\n      <td>0.0</td>\n      <td>0.0</td>\n      <td>0.0</td>\n      <td>0.0</td>\n      <td>0.0</td>\n      <td>0.0</td>\n      <td>0.0</td>\n      <td>0.0</td>\n      <td>0.0</td>\n      <td>0.0</td>\n    </tr>\n  </tbody>\n</table>\n<p>20000 rows × 3829 columns</p>\n</div>"
     },
     "execution_count": 52,
     "metadata": {},
     "output_type": "execute_result"
    }
   ],
   "source": [
    "user_films"
   ],
   "metadata": {
    "collapsed": false,
    "pycharm": {
     "name": "#%%\n"
    }
   }
  },
  {
   "cell_type": "code",
   "execution_count": 53,
   "outputs": [
    {
     "data": {
      "text/plain": "         9882   19870  2312   12655  25771  25051  24954  25990  24886  27927  \\\n1024395    0.0    0.0    0.0    0.0    0.0    0.0    0.0    0.0    0.0    0.0   \n\n         ...  24651  9457   25436  8768   27597  20786  4037      10201  \\\n1024395  ...    0.0    0.0    0.0    0.0    0.0    0.0    0.0  0.000355   \n\n         27405  10190  \n1024395    0.0    0.0  \n\n[1 rows x 3829 columns]",
      "text/html": "<div>\n<style scoped>\n    .dataframe tbody tr th:only-of-type {\n        vertical-align: middle;\n    }\n\n    .dataframe tbody tr th {\n        vertical-align: top;\n    }\n\n    .dataframe thead th {\n        text-align: right;\n    }\n</style>\n<table border=\"1\" class=\"dataframe\">\n  <thead>\n    <tr style=\"text-align: right;\">\n      <th></th>\n      <th>9882</th>\n      <th>19870</th>\n      <th>2312</th>\n      <th>12655</th>\n      <th>25771</th>\n      <th>25051</th>\n      <th>24954</th>\n      <th>25990</th>\n      <th>24886</th>\n      <th>27927</th>\n      <th>...</th>\n      <th>24651</th>\n      <th>9457</th>\n      <th>25436</th>\n      <th>8768</th>\n      <th>27597</th>\n      <th>20786</th>\n      <th>4037</th>\n      <th>10201</th>\n      <th>27405</th>\n      <th>10190</th>\n    </tr>\n  </thead>\n  <tbody>\n    <tr>\n      <th>1024395</th>\n      <td>0.0</td>\n      <td>0.0</td>\n      <td>0.0</td>\n      <td>0.0</td>\n      <td>0.0</td>\n      <td>0.0</td>\n      <td>0.0</td>\n      <td>0.0</td>\n      <td>0.0</td>\n      <td>0.0</td>\n      <td>...</td>\n      <td>0.0</td>\n      <td>0.0</td>\n      <td>0.0</td>\n      <td>0.0</td>\n      <td>0.0</td>\n      <td>0.0</td>\n      <td>0.0</td>\n      <td>0.000355</td>\n      <td>0.0</td>\n      <td>0.0</td>\n    </tr>\n  </tbody>\n</table>\n<p>1 rows × 3829 columns</p>\n</div>"
     },
     "execution_count": 53,
     "metadata": {},
     "output_type": "execute_result"
    }
   ],
   "source": [
    "our_user = dsm.get_matrix_part([VAL_ID])\n",
    "our_user"
   ],
   "metadata": {
    "collapsed": false,
    "pycharm": {
     "name": "#%%\n"
    }
   }
  },
  {
   "cell_type": "code",
   "execution_count": 54,
   "outputs": [
    {
     "data": {
      "text/plain": "[19745,\n 24584,\n 9643,\n 2973,\n 27798,\n 12780,\n 24557,\n 14142,\n 10187,\n 9761,\n 27229,\n 29609,\n 16895,\n 5792,\n 1095,\n 1877,\n 10225,\n 27594,\n 8810,\n 9799,\n 7530,\n 8272,\n 9136,\n 28909,\n 7387,\n 28827,\n 5808,\n 9948,\n 30533,\n 26877,\n 9975,\n 15849,\n 29218,\n 26985,\n 18399,\n 1185,\n 27141,\n 10201,\n 24667,\n 5315,\n 25231,\n 9150,\n 27998,\n 26365,\n 24816,\n 11463,\n 24574,\n 18388,\n 25935,\n 10635]"
     },
     "execution_count": 54,
     "metadata": {},
     "output_type": "execute_result"
    }
   ],
   "source": [
    "import random\n",
    "\n",
    "watched_films = our_user.transpose()[our_user.transpose()[VAL_ID] > 0].index\n",
    "validation_films = random.sample(set(watched_films), 50)\n",
    "validation_films"
   ],
   "metadata": {
    "collapsed": false,
    "pycharm": {
     "name": "#%%\n"
    }
   }
  },
  {
   "cell_type": "code",
   "execution_count": 55,
   "outputs": [
    {
     "data": {
      "text/plain": "84"
     },
     "execution_count": 55,
     "metadata": {},
     "output_type": "execute_result"
    }
   ],
   "source": [
    "len(watched_films)"
   ],
   "metadata": {
    "collapsed": false,
    "pycharm": {
     "name": "#%%\n"
    }
   }
  },
  {
   "cell_type": "code",
   "execution_count": 56,
   "outputs": [
    {
     "data": {
      "text/plain": "         19745  24584  9643   2973   27798  12780  24557  14142  10187  9761   \\\n1024395    0.0    0.0    0.0    0.0    0.0    0.0    0.0    0.0    0.0    0.0   \n\n         ...  25231  9150   27998  26365  24816  11463  24574  18388  25935  \\\n1024395  ...    0.0    0.0    0.0    0.0    0.0    0.0    0.0    0.0    0.0   \n\n         10635  \n1024395    0.0  \n\n[1 rows x 50 columns]",
      "text/html": "<div>\n<style scoped>\n    .dataframe tbody tr th:only-of-type {\n        vertical-align: middle;\n    }\n\n    .dataframe tbody tr th {\n        vertical-align: top;\n    }\n\n    .dataframe thead th {\n        text-align: right;\n    }\n</style>\n<table border=\"1\" class=\"dataframe\">\n  <thead>\n    <tr style=\"text-align: right;\">\n      <th></th>\n      <th>19745</th>\n      <th>24584</th>\n      <th>9643</th>\n      <th>2973</th>\n      <th>27798</th>\n      <th>12780</th>\n      <th>24557</th>\n      <th>14142</th>\n      <th>10187</th>\n      <th>9761</th>\n      <th>...</th>\n      <th>25231</th>\n      <th>9150</th>\n      <th>27998</th>\n      <th>26365</th>\n      <th>24816</th>\n      <th>11463</th>\n      <th>24574</th>\n      <th>18388</th>\n      <th>25935</th>\n      <th>10635</th>\n    </tr>\n  </thead>\n  <tbody>\n    <tr>\n      <th>1024395</th>\n      <td>0.0</td>\n      <td>0.0</td>\n      <td>0.0</td>\n      <td>0.0</td>\n      <td>0.0</td>\n      <td>0.0</td>\n      <td>0.0</td>\n      <td>0.0</td>\n      <td>0.0</td>\n      <td>0.0</td>\n      <td>...</td>\n      <td>0.0</td>\n      <td>0.0</td>\n      <td>0.0</td>\n      <td>0.0</td>\n      <td>0.0</td>\n      <td>0.0</td>\n      <td>0.0</td>\n      <td>0.0</td>\n      <td>0.0</td>\n      <td>0.0</td>\n    </tr>\n  </tbody>\n</table>\n<p>1 rows × 50 columns</p>\n</div>"
     },
     "execution_count": 56,
     "metadata": {},
     "output_type": "execute_result"
    }
   ],
   "source": [
    "our_user[validation_films] = 0\n",
    "our_user[validation_films]"
   ],
   "metadata": {
    "collapsed": false,
    "pycharm": {
     "name": "#%%\n"
    }
   }
  },
  {
   "cell_type": "code",
   "execution_count": 57,
   "outputs": [
    {
     "data": {
      "text/plain": "         9882   19870  2312   12655  25771  25051  24954  25990  24886  27927  \\\n849982     0.0    0.0    0.0    0.0    0.0    0.0    0.0    0.0    0.0    0.0   \n1097097    0.0    0.0    0.0    0.0    0.0    0.0    0.0    0.0    0.0    0.0   \n111630     0.0    0.0    0.0    0.0    0.0    0.0    0.0    0.0    0.0    0.0   \n905494     0.0    0.0    0.0    0.0    0.0    0.0    0.0    0.0    0.0    0.0   \n1153701    0.0    0.0    0.0    0.0    0.0    0.0    0.0    0.0    0.0    0.0   \n...        ...    ...    ...    ...    ...    ...    ...    ...    ...    ...   \n1083349    0.0    0.0    0.0    0.0    0.0    0.0    0.0    0.0    0.0    0.0   \n195707     0.0    0.0    0.0    0.0    0.0    0.0    0.0    0.0    0.0    0.0   \n1282448    0.0    0.0    0.0    0.0    0.0    0.0    0.0    0.0    0.0    0.0   \n1075689    0.0    0.0    0.0    0.0    0.0    0.0    0.0    0.0    0.0    0.0   \n562916     0.0    0.0    0.0    0.0    0.0    0.0    0.0    0.0    0.0    0.0   \n\n         ...  24651  9457   25436  8768   27597  20786  4037   10201  27405  \\\n849982   ...    0.0    0.0    0.0    0.0    0.0    0.0    0.0    0.0    0.0   \n1097097  ...    0.0    0.0    0.0    0.0    0.0    0.0    0.0    0.0    0.0   \n111630   ...    0.0    0.0    0.0    0.0    0.0    0.0    0.0    0.0    0.0   \n905494   ...    0.0    0.0    0.0    0.0    0.0    0.0    0.0    0.0    0.0   \n1153701  ...    0.0    0.0    0.0    0.0    0.0    0.0    0.0    0.0    0.0   \n...      ...    ...    ...    ...    ...    ...    ...    ...    ...    ...   \n1083349  ...    0.0    0.0    0.0    0.0    0.0    0.0    0.0    0.0    0.0   \n195707   ...    0.0    0.0    0.0    0.0    0.0    0.0    0.0    0.0    0.0   \n1282448  ...    0.0    0.0    0.0    0.0    0.0    0.0    0.0    0.0    0.0   \n1075689  ...    0.0    0.0    0.0    0.0    0.0    0.0    0.0    0.0    0.0   \n562916   ...    0.0    0.0    0.0    0.0    0.0    0.0    0.0    0.0    0.0   \n\n         10190  \n849982     0.0  \n1097097    0.0  \n111630     0.0  \n905494     0.0  \n1153701    0.0  \n...        ...  \n1083349    0.0  \n195707     0.0  \n1282448    0.0  \n1075689    0.0  \n562916     0.0  \n\n[20000 rows x 3829 columns]",
      "text/html": "<div>\n<style scoped>\n    .dataframe tbody tr th:only-of-type {\n        vertical-align: middle;\n    }\n\n    .dataframe tbody tr th {\n        vertical-align: top;\n    }\n\n    .dataframe thead th {\n        text-align: right;\n    }\n</style>\n<table border=\"1\" class=\"dataframe\">\n  <thead>\n    <tr style=\"text-align: right;\">\n      <th></th>\n      <th>9882</th>\n      <th>19870</th>\n      <th>2312</th>\n      <th>12655</th>\n      <th>25771</th>\n      <th>25051</th>\n      <th>24954</th>\n      <th>25990</th>\n      <th>24886</th>\n      <th>27927</th>\n      <th>...</th>\n      <th>24651</th>\n      <th>9457</th>\n      <th>25436</th>\n      <th>8768</th>\n      <th>27597</th>\n      <th>20786</th>\n      <th>4037</th>\n      <th>10201</th>\n      <th>27405</th>\n      <th>10190</th>\n    </tr>\n  </thead>\n  <tbody>\n    <tr>\n      <th>849982</th>\n      <td>0.0</td>\n      <td>0.0</td>\n      <td>0.0</td>\n      <td>0.0</td>\n      <td>0.0</td>\n      <td>0.0</td>\n      <td>0.0</td>\n      <td>0.0</td>\n      <td>0.0</td>\n      <td>0.0</td>\n      <td>...</td>\n      <td>0.0</td>\n      <td>0.0</td>\n      <td>0.0</td>\n      <td>0.0</td>\n      <td>0.0</td>\n      <td>0.0</td>\n      <td>0.0</td>\n      <td>0.0</td>\n      <td>0.0</td>\n      <td>0.0</td>\n    </tr>\n    <tr>\n      <th>1097097</th>\n      <td>0.0</td>\n      <td>0.0</td>\n      <td>0.0</td>\n      <td>0.0</td>\n      <td>0.0</td>\n      <td>0.0</td>\n      <td>0.0</td>\n      <td>0.0</td>\n      <td>0.0</td>\n      <td>0.0</td>\n      <td>...</td>\n      <td>0.0</td>\n      <td>0.0</td>\n      <td>0.0</td>\n      <td>0.0</td>\n      <td>0.0</td>\n      <td>0.0</td>\n      <td>0.0</td>\n      <td>0.0</td>\n      <td>0.0</td>\n      <td>0.0</td>\n    </tr>\n    <tr>\n      <th>111630</th>\n      <td>0.0</td>\n      <td>0.0</td>\n      <td>0.0</td>\n      <td>0.0</td>\n      <td>0.0</td>\n      <td>0.0</td>\n      <td>0.0</td>\n      <td>0.0</td>\n      <td>0.0</td>\n      <td>0.0</td>\n      <td>...</td>\n      <td>0.0</td>\n      <td>0.0</td>\n      <td>0.0</td>\n      <td>0.0</td>\n      <td>0.0</td>\n      <td>0.0</td>\n      <td>0.0</td>\n      <td>0.0</td>\n      <td>0.0</td>\n      <td>0.0</td>\n    </tr>\n    <tr>\n      <th>905494</th>\n      <td>0.0</td>\n      <td>0.0</td>\n      <td>0.0</td>\n      <td>0.0</td>\n      <td>0.0</td>\n      <td>0.0</td>\n      <td>0.0</td>\n      <td>0.0</td>\n      <td>0.0</td>\n      <td>0.0</td>\n      <td>...</td>\n      <td>0.0</td>\n      <td>0.0</td>\n      <td>0.0</td>\n      <td>0.0</td>\n      <td>0.0</td>\n      <td>0.0</td>\n      <td>0.0</td>\n      <td>0.0</td>\n      <td>0.0</td>\n      <td>0.0</td>\n    </tr>\n    <tr>\n      <th>1153701</th>\n      <td>0.0</td>\n      <td>0.0</td>\n      <td>0.0</td>\n      <td>0.0</td>\n      <td>0.0</td>\n      <td>0.0</td>\n      <td>0.0</td>\n      <td>0.0</td>\n      <td>0.0</td>\n      <td>0.0</td>\n      <td>...</td>\n      <td>0.0</td>\n      <td>0.0</td>\n      <td>0.0</td>\n      <td>0.0</td>\n      <td>0.0</td>\n      <td>0.0</td>\n      <td>0.0</td>\n      <td>0.0</td>\n      <td>0.0</td>\n      <td>0.0</td>\n    </tr>\n    <tr>\n      <th>...</th>\n      <td>...</td>\n      <td>...</td>\n      <td>...</td>\n      <td>...</td>\n      <td>...</td>\n      <td>...</td>\n      <td>...</td>\n      <td>...</td>\n      <td>...</td>\n      <td>...</td>\n      <td>...</td>\n      <td>...</td>\n      <td>...</td>\n      <td>...</td>\n      <td>...</td>\n      <td>...</td>\n      <td>...</td>\n      <td>...</td>\n      <td>...</td>\n      <td>...</td>\n      <td>...</td>\n    </tr>\n    <tr>\n      <th>1083349</th>\n      <td>0.0</td>\n      <td>0.0</td>\n      <td>0.0</td>\n      <td>0.0</td>\n      <td>0.0</td>\n      <td>0.0</td>\n      <td>0.0</td>\n      <td>0.0</td>\n      <td>0.0</td>\n      <td>0.0</td>\n      <td>...</td>\n      <td>0.0</td>\n      <td>0.0</td>\n      <td>0.0</td>\n      <td>0.0</td>\n      <td>0.0</td>\n      <td>0.0</td>\n      <td>0.0</td>\n      <td>0.0</td>\n      <td>0.0</td>\n      <td>0.0</td>\n    </tr>\n    <tr>\n      <th>195707</th>\n      <td>0.0</td>\n      <td>0.0</td>\n      <td>0.0</td>\n      <td>0.0</td>\n      <td>0.0</td>\n      <td>0.0</td>\n      <td>0.0</td>\n      <td>0.0</td>\n      <td>0.0</td>\n      <td>0.0</td>\n      <td>...</td>\n      <td>0.0</td>\n      <td>0.0</td>\n      <td>0.0</td>\n      <td>0.0</td>\n      <td>0.0</td>\n      <td>0.0</td>\n      <td>0.0</td>\n      <td>0.0</td>\n      <td>0.0</td>\n      <td>0.0</td>\n    </tr>\n    <tr>\n      <th>1282448</th>\n      <td>0.0</td>\n      <td>0.0</td>\n      <td>0.0</td>\n      <td>0.0</td>\n      <td>0.0</td>\n      <td>0.0</td>\n      <td>0.0</td>\n      <td>0.0</td>\n      <td>0.0</td>\n      <td>0.0</td>\n      <td>...</td>\n      <td>0.0</td>\n      <td>0.0</td>\n      <td>0.0</td>\n      <td>0.0</td>\n      <td>0.0</td>\n      <td>0.0</td>\n      <td>0.0</td>\n      <td>0.0</td>\n      <td>0.0</td>\n      <td>0.0</td>\n    </tr>\n    <tr>\n      <th>1075689</th>\n      <td>0.0</td>\n      <td>0.0</td>\n      <td>0.0</td>\n      <td>0.0</td>\n      <td>0.0</td>\n      <td>0.0</td>\n      <td>0.0</td>\n      <td>0.0</td>\n      <td>0.0</td>\n      <td>0.0</td>\n      <td>...</td>\n      <td>0.0</td>\n      <td>0.0</td>\n      <td>0.0</td>\n      <td>0.0</td>\n      <td>0.0</td>\n      <td>0.0</td>\n      <td>0.0</td>\n      <td>0.0</td>\n      <td>0.0</td>\n      <td>0.0</td>\n    </tr>\n    <tr>\n      <th>562916</th>\n      <td>0.0</td>\n      <td>0.0</td>\n      <td>0.0</td>\n      <td>0.0</td>\n      <td>0.0</td>\n      <td>0.0</td>\n      <td>0.0</td>\n      <td>0.0</td>\n      <td>0.0</td>\n      <td>0.0</td>\n      <td>...</td>\n      <td>0.0</td>\n      <td>0.0</td>\n      <td>0.0</td>\n      <td>0.0</td>\n      <td>0.0</td>\n      <td>0.0</td>\n      <td>0.0</td>\n      <td>0.0</td>\n      <td>0.0</td>\n      <td>0.0</td>\n    </tr>\n  </tbody>\n</table>\n<p>20000 rows × 3829 columns</p>\n</div>"
     },
     "execution_count": 57,
     "metadata": {},
     "output_type": "execute_result"
    }
   ],
   "source": [
    "dif_films = user_films.apply(lambda row: row - our_user.iloc[0], axis=1)\n",
    "dif_films"
   ],
   "metadata": {
    "collapsed": false,
    "pycharm": {
     "name": "#%%\n"
    }
   }
  },
  {
   "cell_type": "code",
   "execution_count": 58,
   "outputs": [
    {
     "data": {
      "text/plain": "serial_with_season       0.681718\nmovie                    0.318282\nserial_without_season    0.000000\ntotal                    0.003678\nName: 1024395, dtype: float64"
     },
     "execution_count": 58,
     "metadata": {},
     "output_type": "execute_result"
    }
   ],
   "source": [
    "user_content_type.loc[VAL_ID]"
   ],
   "metadata": {
    "collapsed": false,
    "pycharm": {
     "name": "#%%\n"
    }
   }
  },
  {
   "cell_type": "code",
   "execution_count": 59,
   "outputs": [],
   "source": [
    "top_films = list()\n",
    "mean_dur = list()\n",
    "\n",
    "for col, values in dif_films.iteritems():\n",
    "    genre = content.loc[col, 'type']\n",
    "    for value in values:\n",
    "        if value == 1:\n",
    "            if col in top_films:\n",
    "                continue\n",
    "            mean_dur.append(user_films[col].sum() * user_content_type.loc[VAL_ID, genre])\n",
    "            top_films.append(col)"
   ],
   "metadata": {
    "collapsed": false,
    "pycharm": {
     "name": "#%%\n"
    }
   }
  },
  {
   "cell_type": "code",
   "execution_count": 60,
   "outputs": [
    {
     "data": {
      "text/plain": "array([ 9040.,  7247., 13565.,  9799.,  3813.,  1389., 28028.,  4609.,\n        9725.,  9391., 10141.,  9322., 28019.,  9044.,  9861.,  9847.,\n       12268.,  1628.,  6494., 15849., 12303.,  6192.,  7284.,  3006.,\n       28909.,  4785., 12642.,  5533.,  9719.,  7386.,  7373.,  9623.,\n        7541., 29863.,  6183., 19105.,  8520., 10157.,  5792., 28211.,\n        9910., 11463., 15389.,  9676.,  1095.,  9050., 10216.,  9761.,\n       18023.,  9786., 27045., 28150., 10996.,  2826.,  9088., 28284.,\n       16895., 17545., 12350., 10884.,  5206., 11627.,  8768., 18399.,\n       28222.,  1378.,  7559., 10190., 26474., 25857., 15538.,  1650.,\n        5355., 10463., 25537., 12636.,  7834., 24844.,  9791., 10465.,\n       12120., 12299., 28104., 10237., 28096.,  7705.,  9627.,  8272.,\n        3961.,  4359., 25794., 27885., 26190., 12252., 27873., 28090.,\n       24742., 25793., 28961., 26256., 25719., 11728., 26614., 18823.,\n       24093., 26938.,  5315.,  6267.,  3486., 25670., 28436., 10795.,\n        5182., 25468., 30266.,  7351., 10635.,  7447., 25010.,  9794.,\n        7235.,  4563., 12471., 25740.,  9957., 25002., 25776., 21959.,\n       26547., 24816.,  1877.,  3002., 26621., 10151.,  9652., 29440.,\n       10250., 25991.,  2849., 26909.,  7417.,  1607.,  8361.,  8810.,\n       27113., 24860., 10179., 16008., 21026.,  3122.,  8552.,  7790.,\n        5204., 25393., 10172., 27633., 12672., 28965., 25988., 12302.,\n       25459.,  7480., 27762.,  5807., 27552., 26517.,  1514., 27015.,\n       28167.,  2973., 12325., 25426.,  9843., 27632., 21655., 15005.,\n        3440., 19035.,  8518., 12502., 26061., 15031., 26505., 24776.,\n       29442., 20280., 26257., 25643., 26595., 26143.,  2710.,  2137.,\n       24924., 29850., 12746., 28966., 25684., 25895., 20919., 24626.,\n       11285.,  7680., 12077., 24653.,  1747., 24739.,  4564., 26353.,\n       26111., 12122., 12128., 27768., 27557., 26003.,  9439., 26482.,\n       27423., 25909., 27798., 14604.,  9936., 29743., 26394., 25969.,\n        7684., 12655., 27461., 25275., 12780., 18387., 10919.,  3851.,\n        8601.,  9865.,  9710., 25679., 26656.,  6234., 24749., 26989.,\n       25286.,  3383., 26877., 24808., 15564.,  8226., 28134.,  7263.,\n       25626.,  3267., 25324., 19284., 29549., 11900., 25194., 25525.,\n       27503., 28885.,  9995., 28829., 25058., 24754.,  4999., 16977.,\n       24857.,  9858., 21523., 22148.,  5037.,  5121.,  8988., 27665.,\n       24723., 26076., 25624., 26535., 26013., 12914., 25068., 25269.,\n       26063.,  9944., 28170., 22893.,  1575., 19406., 26556., 26131.,\n       26752., 11057., 15596., 25183., 26129.,  8236.,  9058., 25180.,\n       27716.,  4949., 25000., 11518.,  5126., 27272.,  2044., 24554.,\n       10993., 26968.,   857., 19317., 13621., 18841., 25804.,  5100.,\n       12154., 26338.,  9964., 24632., 11521.,  8747., 27712., 27398.,\n        5500., 29006.,  3844.,  3337.,  4782., 19847., 26055., 27002.,\n        7390.,  9958., 28195., 24577.,  1692., 26847., 24707.,  5009.,\n       22119., 27111., 30035., 25005., 24843., 26023.,  9732., 27763.,\n       25232., 11806.,  5148., 28117.,  8725., 26804., 27415., 26454.,\n       12218.,  9288., 25080., 10097., 12134., 18319., 25922.,  6541.,\n       26883., 22892.,  4447., 25244., 26677.,  6017., 24959., 26175.,\n       10892., 27641., 27140., 26828., 25792.,  3457., 27595., 26952.,\n       26917.,  6322., 24781., 27005., 25329., 16591.,  8225., 25854.,\n       25602., 28132., 25716., 24336., 29613., 25675., 16585.,  3488.,\n       29011.,  1674., 10891.,  6197., 24779.,  8567.,  8455., 27091.,\n        7425., 27502., 12121., 25770., 24335., 25765.,  7532.,  2878.,\n       18412., 19662., 12243., 30687., 24566.,  7773.,  8178., 26057.,\n       27786.,  5255., 26889., 24926., 15512.,  4965.,   763., 10148.,\n       11389.,  4376.,  9892.,  7556., 25424., 25256., 26523., 26719.,\n       26666., 25294.,  6048., 25153., 28119., 24894.,  7309., 25004.,\n       25508., 19080., 26052., 26210., 26405., 16491., 27280., 24568.,\n       11399., 25073., 14032., 25299.,  5120., 26159., 10895., 26759.,\n        7544., 24542., 25128., 27098., 25809.,  3202.,  9602., 26764.,\n       25856., 27507., 24734., 27234.,  5727.,  2043., 15090., 10195.,\n       26769., 26392.,  7285., 26070.,  9785.,  6154., 27274., 27161.,\n       26887.,  9569., 25174., 12474.,  5080.,  7133., 28120.,  7675.,\n       26410., 27026., 27793., 27159., 28118., 26140., 27668., 27513.,\n        2442., 25368.,  7633., 25033., 25644., 24544.,   700., 25031.,\n       24333., 26174.,  9430., 26996., 26413., 28097.,  5532., 24736.,\n        8718.,  9857., 13894., 11020., 27597.,  4132., 26161.,  7645.,\n       12304.,  6291., 17249.,  3910., 25187., 15583., 27629., 26053.,\n       26703., 27456., 26051., 25920., 24334., 26044., 16549., 25431.,\n       25721., 26925.,  5133.,  7967., 26108., 26435.,  9448., 27139.,\n        2752., 25900.,  1050., 27017., 24862., 25391.,  5623.,  1282.,\n        9702., 24697., 24338., 25156., 26704., 25965., 24938., 27436.,\n        9848.,  2327.,  5814., 10133., 26142., 25236., 15507., 26263.,\n       27590., 24747., 25723., 11882., 26891., 26852.,  4708.,  1983.,\n       27137., 26027., 25447.,  7170., 25665., 26781., 21071.,  5706.,\n        5498., 26337., 25758., 25507.,  3815., 29085., 25315.,  1352.,\n        5075., 25886., 26848., 26155., 12552.,  3148., 25396., 15597.,\n        7457., 15623., 25277.,   866.,   414., 24841., 29630., 27467.,\n        8231., 22092.,  9930., 29115., 26932., 29493., 26371.,  8492.,\n       27153., 21327., 26186.,  1737., 26829., 27083., 29008., 25146.,\n        7156., 29839., 18898., 25848., 25089., 26746.,  7290., 28088.,\n       25747., 25362.,  6311., 17629., 27224., 24999.,  5095., 25439.,\n       13277.,  9601., 25546., 10316., 10845., 25103., 26269., 25941.,\n       29665., 26515., 24552., 28139., 16294.,  5545., 25812., 24947.,\n       27505., 27610., 24579., 18354., 28153., 25109., 11886.,  5122.,\n       29081., 27092., 24569., 26095., 12444., 25301., 22120., 26101.,\n        5098., 18917., 28084., 26570., 26645., 26042., 29730.,  9449.,\n       26869., 28121.,  4829., 29093., 26483., 24557., 28208., 16548.,\n       11323., 28193., 25262.,  8713., 19210.,  3822., 19377., 26540.,\n       24834., 26911.,  7847., 26581., 24835., 27151., 25781., 19495.,\n        8227., 26728., 26601., 27664., 19092.,  1536., 26154.,  3395.,\n       25131., 25075., 26971., 28154., 26615., 27508., 26559., 27154.,\n       26112.,  3465.,  4486.,  9542.,  4879., 25609., 27018.,  3390.,\n       25592.,  9543., 26727., 24559.,  9587.,  3397., 25034.,  2871.,\n       27321., 26395., 14991., 25597.,  3644., 30415., 25934., 26166.,\n       18859., 27644.,  1287., 25811.,  5030., 26919., 29373., 26886.,\n        9926., 22784., 26724., 17772., 26501.,  9568., 20371., 25268.,\n       24830.,  4456., 25254., 25186., 11134., 10067., 26467., 24966.,\n       24879., 26632., 12658., 25306., 27446., 13905., 25221., 20780.,\n       26814., 26441., 25203., 16599., 25130., 26558., 16555., 27765.,\n       24945., 25458., 24759.,  3743.,  7738., 29072., 27540., 16285.,\n       29441., 24826.,  8727., 28983.,  6316., 24858., 26073., 19607.,\n       26816., 21173., 20799., 25845., 24635.,  3972., 22919., 25858.,\n        3218., 26940.,  3282., 27102., 26365.,  5081., 26767., 27639.,\n       25191., 28105.,  3302., 25475., 26637., 26110.,  9837., 22117.,\n        4592., 15461., 19279., 25051., 10226., 30881., 27022., 26060.,\n        9490., 25544.,  4861.,  3803., 16647., 28971., 25720., 27129.,\n       27094.,  3345., 24408., 11593.,  8072.,  9560., 26543., 26802.,\n        4530., 22945., 24667.,  8266.,  9575., 25364., 24986., 27569.,\n       26603., 29005.,  2078., 29083., 26237., 25350.,  7505.,  9411.,\n       29521., 27842.,  9931.,  8758., 20018., 27089., 26339., 24564.,\n       26012., 26931., 17040., 28098.,  7968., 26340., 25868., 26735.,\n       27499., 10166., 19100., 27064., 27667.,  7473., 27868.,  6225.,\n       27871., 26469., 25953.,  4027.,  9596., 29548., 25052., 26730.,\n        9576., 29078., 12368.,  9597., 25505., 26118., 25746., 25452.,\n       27283., 26591., 25223.,  7729.,  7651., 25313., 23965., 10211.,\n       10007., 24772., 10173., 28694.,  7688.])"
     },
     "execution_count": 60,
     "metadata": {},
     "output_type": "execute_result"
    }
   ],
   "source": [
    "sorted_top_filmes = pd.DataFrame(data=[top_films, mean_dur]).transpose().sort_values(by=1, ascending=False)[0].values\n",
    "sorted_top_filmes"
   ],
   "metadata": {
    "collapsed": false,
    "pycharm": {
     "name": "#%%\n"
    }
   }
  },
  {
   "cell_type": "code",
   "execution_count": 61,
   "outputs": [],
   "source": [
    "# set(top_films)"
   ],
   "metadata": {
    "collapsed": false,
    "pycharm": {
     "name": "#%%\n"
    }
   }
  },
  {
   "cell_type": "code",
   "execution_count": 62,
   "outputs": [],
   "source": [
    "# len(set(top_films))"
   ],
   "metadata": {
    "collapsed": false,
    "pycharm": {
     "name": "#%%\n"
    }
   }
  },
  {
   "cell_type": "code",
   "execution_count": 63,
   "outputs": [
    {
     "data": {
      "text/plain": "False"
     },
     "execution_count": 63,
     "metadata": {},
     "output_type": "execute_result"
    }
   ],
   "source": [
    "validation_films[0] in top_films"
   ],
   "metadata": {
    "collapsed": false,
    "pycharm": {
     "name": "#%%\n"
    }
   }
  },
  {
   "cell_type": "code",
   "execution_count": 64,
   "outputs": [
    {
     "data": {
      "text/plain": "0.14"
     },
     "execution_count": 64,
     "metadata": {},
     "output_type": "execute_result"
    }
   ],
   "source": [
    "len(set(sorted_top_filmes[:50]) & set(validation_films)) / len(set(validation_films))"
   ],
   "metadata": {
    "collapsed": false,
    "pycharm": {
     "name": "#%%\n"
    }
   }
  },
  {
   "cell_type": "code",
   "execution_count": 65,
   "outputs": [
    {
     "data": {
      "text/plain": "          игровой  шоу  музыка   комедия  мелодрама     драма  комедийный  \\\nuser_uid                                                                    \n1             0.0  0.0     0.0  0.000000   0.000000  0.000279    0.000000   \n4             0.0  0.0     0.0  0.049363   0.032834  0.008594    0.071109   \n25            0.0  0.0     0.0  0.001605   0.017503  0.007438    0.021509   \n43            0.0  0.0     0.0  0.001068   0.000154  0.000043    0.000000   \n45            0.0  0.0     0.0  0.002621   0.004902  0.002969    0.004042   \n...           ...  ...     ...       ...        ...       ...         ...   \n1302880       0.0  0.0     0.0  0.000000   0.000000  0.000000    0.000000   \n1302881       0.0  0.0     0.0  0.045231   0.035032  0.027674    0.101738   \n1302912       0.0  0.0     0.0  0.000000   0.000000  0.000011    0.000000   \n1302913       0.0  0.0     0.0  0.000000   0.000000  0.000000    0.000000   \n1302914       0.0  0.0     0.0  0.000046   0.000000  0.000067    0.000000   \n\n          фэнтезийный    боевик  приключение  ...  молодёжь  детский  ситком  \\\nuser_uid                                      ...                              \n1                 0.0  0.000000     0.000000  ...       0.0      0.0     0.0   \n4                 0.0  0.000000     0.000000  ...       0.0      0.0     0.0   \n25                0.0  0.031750     0.000000  ...       0.0      0.0     0.0   \n43                0.0  0.000000     0.000000  ...       0.0      0.0     0.0   \n45                0.0  0.013513     0.000000  ...       0.0      0.0     0.0   \n...               ...       ...          ...  ...       ...      ...     ...   \n1302880           0.0  0.000000     0.000000  ...       0.0      0.0     0.0   \n1302881           0.0  0.010875     0.002365  ...       0.0      0.0     0.0   \n1302912           0.0  0.000000     0.000000  ...       0.0      0.0     0.0   \n1302913           0.0  0.000000     0.000000  ...       0.0      0.0     0.0   \n1302914           0.0  0.000000     0.000000  ...       0.0      0.0     0.0   \n\n          индонезия  психологический  увлечение  досуг  концерт  скетчкома  \\\nuser_uid                                                                     \n1               0.0              0.0        0.0    0.0      0.0        0.0   \n4               0.0              0.0        0.0    0.0      0.0        0.0   \n25              0.0              0.0        0.0    0.0      0.0        0.0   \n43              0.0              0.0        0.0    0.0      0.0        0.0   \n45              0.0              0.0        0.0    0.0      0.0        0.0   \n...             ...              ...        ...    ...      ...        ...   \n1302880         0.0              0.0        0.0    0.0      0.0        0.0   \n1302881         0.0              0.0        0.0    0.0      0.0        0.0   \n1302912         0.0              0.0        0.0    0.0      0.0        0.0   \n1302913         0.0              0.0        0.0    0.0      0.0        0.0   \n1302914         0.0              0.0        0.0    0.0      0.0        0.0   \n\n          интервью  \nuser_uid            \n1              0.0  \n4              0.0  \n25             0.0  \n43             0.0  \n45             0.0  \n...            ...  \n1302880        0.0  \n1302881        0.0  \n1302912        0.0  \n1302913        0.0  \n1302914        0.0  \n\n[233180 rows x 71 columns]",
      "text/html": "<div>\n<style scoped>\n    .dataframe tbody tr th:only-of-type {\n        vertical-align: middle;\n    }\n\n    .dataframe tbody tr th {\n        vertical-align: top;\n    }\n\n    .dataframe thead th {\n        text-align: right;\n    }\n</style>\n<table border=\"1\" class=\"dataframe\">\n  <thead>\n    <tr style=\"text-align: right;\">\n      <th></th>\n      <th>игровой</th>\n      <th>шоу</th>\n      <th>музыка</th>\n      <th>комедия</th>\n      <th>мелодрама</th>\n      <th>драма</th>\n      <th>комедийный</th>\n      <th>фэнтезийный</th>\n      <th>боевик</th>\n      <th>приключение</th>\n      <th>...</th>\n      <th>молодёжь</th>\n      <th>детский</th>\n      <th>ситком</th>\n      <th>индонезия</th>\n      <th>психологический</th>\n      <th>увлечение</th>\n      <th>досуг</th>\n      <th>концерт</th>\n      <th>скетчкома</th>\n      <th>интервью</th>\n    </tr>\n    <tr>\n      <th>user_uid</th>\n      <th></th>\n      <th></th>\n      <th></th>\n      <th></th>\n      <th></th>\n      <th></th>\n      <th></th>\n      <th></th>\n      <th></th>\n      <th></th>\n      <th></th>\n      <th></th>\n      <th></th>\n      <th></th>\n      <th></th>\n      <th></th>\n      <th></th>\n      <th></th>\n      <th></th>\n      <th></th>\n      <th></th>\n    </tr>\n  </thead>\n  <tbody>\n    <tr>\n      <th>1</th>\n      <td>0.0</td>\n      <td>0.0</td>\n      <td>0.0</td>\n      <td>0.000000</td>\n      <td>0.000000</td>\n      <td>0.000279</td>\n      <td>0.000000</td>\n      <td>0.0</td>\n      <td>0.000000</td>\n      <td>0.000000</td>\n      <td>...</td>\n      <td>0.0</td>\n      <td>0.0</td>\n      <td>0.0</td>\n      <td>0.0</td>\n      <td>0.0</td>\n      <td>0.0</td>\n      <td>0.0</td>\n      <td>0.0</td>\n      <td>0.0</td>\n      <td>0.0</td>\n    </tr>\n    <tr>\n      <th>4</th>\n      <td>0.0</td>\n      <td>0.0</td>\n      <td>0.0</td>\n      <td>0.049363</td>\n      <td>0.032834</td>\n      <td>0.008594</td>\n      <td>0.071109</td>\n      <td>0.0</td>\n      <td>0.000000</td>\n      <td>0.000000</td>\n      <td>...</td>\n      <td>0.0</td>\n      <td>0.0</td>\n      <td>0.0</td>\n      <td>0.0</td>\n      <td>0.0</td>\n      <td>0.0</td>\n      <td>0.0</td>\n      <td>0.0</td>\n      <td>0.0</td>\n      <td>0.0</td>\n    </tr>\n    <tr>\n      <th>25</th>\n      <td>0.0</td>\n      <td>0.0</td>\n      <td>0.0</td>\n      <td>0.001605</td>\n      <td>0.017503</td>\n      <td>0.007438</td>\n      <td>0.021509</td>\n      <td>0.0</td>\n      <td>0.031750</td>\n      <td>0.000000</td>\n      <td>...</td>\n      <td>0.0</td>\n      <td>0.0</td>\n      <td>0.0</td>\n      <td>0.0</td>\n      <td>0.0</td>\n      <td>0.0</td>\n      <td>0.0</td>\n      <td>0.0</td>\n      <td>0.0</td>\n      <td>0.0</td>\n    </tr>\n    <tr>\n      <th>43</th>\n      <td>0.0</td>\n      <td>0.0</td>\n      <td>0.0</td>\n      <td>0.001068</td>\n      <td>0.000154</td>\n      <td>0.000043</td>\n      <td>0.000000</td>\n      <td>0.0</td>\n      <td>0.000000</td>\n      <td>0.000000</td>\n      <td>...</td>\n      <td>0.0</td>\n      <td>0.0</td>\n      <td>0.0</td>\n      <td>0.0</td>\n      <td>0.0</td>\n      <td>0.0</td>\n      <td>0.0</td>\n      <td>0.0</td>\n      <td>0.0</td>\n      <td>0.0</td>\n    </tr>\n    <tr>\n      <th>45</th>\n      <td>0.0</td>\n      <td>0.0</td>\n      <td>0.0</td>\n      <td>0.002621</td>\n      <td>0.004902</td>\n      <td>0.002969</td>\n      <td>0.004042</td>\n      <td>0.0</td>\n      <td>0.013513</td>\n      <td>0.000000</td>\n      <td>...</td>\n      <td>0.0</td>\n      <td>0.0</td>\n      <td>0.0</td>\n      <td>0.0</td>\n      <td>0.0</td>\n      <td>0.0</td>\n      <td>0.0</td>\n      <td>0.0</td>\n      <td>0.0</td>\n      <td>0.0</td>\n    </tr>\n    <tr>\n      <th>...</th>\n      <td>...</td>\n      <td>...</td>\n      <td>...</td>\n      <td>...</td>\n      <td>...</td>\n      <td>...</td>\n      <td>...</td>\n      <td>...</td>\n      <td>...</td>\n      <td>...</td>\n      <td>...</td>\n      <td>...</td>\n      <td>...</td>\n      <td>...</td>\n      <td>...</td>\n      <td>...</td>\n      <td>...</td>\n      <td>...</td>\n      <td>...</td>\n      <td>...</td>\n      <td>...</td>\n    </tr>\n    <tr>\n      <th>1302880</th>\n      <td>0.0</td>\n      <td>0.0</td>\n      <td>0.0</td>\n      <td>0.000000</td>\n      <td>0.000000</td>\n      <td>0.000000</td>\n      <td>0.000000</td>\n      <td>0.0</td>\n      <td>0.000000</td>\n      <td>0.000000</td>\n      <td>...</td>\n      <td>0.0</td>\n      <td>0.0</td>\n      <td>0.0</td>\n      <td>0.0</td>\n      <td>0.0</td>\n      <td>0.0</td>\n      <td>0.0</td>\n      <td>0.0</td>\n      <td>0.0</td>\n      <td>0.0</td>\n    </tr>\n    <tr>\n      <th>1302881</th>\n      <td>0.0</td>\n      <td>0.0</td>\n      <td>0.0</td>\n      <td>0.045231</td>\n      <td>0.035032</td>\n      <td>0.027674</td>\n      <td>0.101738</td>\n      <td>0.0</td>\n      <td>0.010875</td>\n      <td>0.002365</td>\n      <td>...</td>\n      <td>0.0</td>\n      <td>0.0</td>\n      <td>0.0</td>\n      <td>0.0</td>\n      <td>0.0</td>\n      <td>0.0</td>\n      <td>0.0</td>\n      <td>0.0</td>\n      <td>0.0</td>\n      <td>0.0</td>\n    </tr>\n    <tr>\n      <th>1302912</th>\n      <td>0.0</td>\n      <td>0.0</td>\n      <td>0.0</td>\n      <td>0.000000</td>\n      <td>0.000000</td>\n      <td>0.000011</td>\n      <td>0.000000</td>\n      <td>0.0</td>\n      <td>0.000000</td>\n      <td>0.000000</td>\n      <td>...</td>\n      <td>0.0</td>\n      <td>0.0</td>\n      <td>0.0</td>\n      <td>0.0</td>\n      <td>0.0</td>\n      <td>0.0</td>\n      <td>0.0</td>\n      <td>0.0</td>\n      <td>0.0</td>\n      <td>0.0</td>\n    </tr>\n    <tr>\n      <th>1302913</th>\n      <td>0.0</td>\n      <td>0.0</td>\n      <td>0.0</td>\n      <td>0.000000</td>\n      <td>0.000000</td>\n      <td>0.000000</td>\n      <td>0.000000</td>\n      <td>0.0</td>\n      <td>0.000000</td>\n      <td>0.000000</td>\n      <td>...</td>\n      <td>0.0</td>\n      <td>0.0</td>\n      <td>0.0</td>\n      <td>0.0</td>\n      <td>0.0</td>\n      <td>0.0</td>\n      <td>0.0</td>\n      <td>0.0</td>\n      <td>0.0</td>\n      <td>0.0</td>\n    </tr>\n    <tr>\n      <th>1302914</th>\n      <td>0.0</td>\n      <td>0.0</td>\n      <td>0.0</td>\n      <td>0.000046</td>\n      <td>0.000000</td>\n      <td>0.000067</td>\n      <td>0.000000</td>\n      <td>0.0</td>\n      <td>0.000000</td>\n      <td>0.000000</td>\n      <td>...</td>\n      <td>0.0</td>\n      <td>0.0</td>\n      <td>0.0</td>\n      <td>0.0</td>\n      <td>0.0</td>\n      <td>0.0</td>\n      <td>0.0</td>\n      <td>0.0</td>\n      <td>0.0</td>\n      <td>0.0</td>\n    </tr>\n  </tbody>\n</table>\n<p>233180 rows × 71 columns</p>\n</div>"
     },
     "execution_count": 65,
     "metadata": {},
     "output_type": "execute_result"
    }
   ],
   "source": [
    "user_genres"
   ],
   "metadata": {
    "collapsed": false,
    "pycharm": {
     "name": "#%%\n"
    }
   }
  },
  {
   "cell_type": "code",
   "execution_count": 66,
   "outputs": [
    {
     "ename": "ValueError",
     "evalue": "operands could not be broadcast together with shapes (71,) (75,) ",
     "output_type": "error",
     "traceback": [
      "\u001B[1;31m---------------------------------------------------------------------------\u001B[0m",
      "\u001B[1;31mValueError\u001B[0m                                Traceback (most recent call last)",
      "\u001B[1;32m<ipython-input-66-1ce59dcb1f21>\u001B[0m in \u001B[0;36m<module>\u001B[1;34m\u001B[0m\n\u001B[1;32m----> 1\u001B[1;33m \u001B[0msimilarity\u001B[0m \u001B[1;33m=\u001B[0m \u001B[0mcomb_df\u001B[0m\u001B[1;33m.\u001B[0m\u001B[0mdrop\u001B[0m\u001B[1;33m(\u001B[0m\u001B[0mVAL_ID\u001B[0m\u001B[1;33m,\u001B[0m \u001B[0maxis\u001B[0m\u001B[1;33m=\u001B[0m\u001B[1;36m0\u001B[0m\u001B[1;33m)\u001B[0m\u001B[0;31m\\\u001B[0m\u001B[1;33m\u001B[0m\u001B[1;33m\u001B[0m\u001B[0m\n\u001B[0m\u001B[0;32m      2\u001B[0m     \u001B[1;33m.\u001B[0m\u001B[0mapply\u001B[0m\u001B[1;33m(\u001B[0m\u001B[1;32mlambda\u001B[0m \u001B[0mrow\u001B[0m\u001B[1;33m:\u001B[0m \u001B[0mcosine\u001B[0m\u001B[1;33m(\u001B[0m\u001B[0muser_genres\u001B[0m\u001B[1;33m.\u001B[0m\u001B[0mloc\u001B[0m\u001B[1;33m[\u001B[0m\u001B[0mVAL_ID\u001B[0m\u001B[1;33m]\u001B[0m\u001B[1;33m,\u001B[0m \u001B[0mrow\u001B[0m\u001B[1;33m)\u001B[0m\u001B[1;33m,\u001B[0m \u001B[0maxis\u001B[0m\u001B[1;33m=\u001B[0m\u001B[1;36m1\u001B[0m\u001B[1;33m)\u001B[0m\u001B[1;33m\u001B[0m\u001B[1;33m\u001B[0m\u001B[0m\n",
      "\u001B[1;32m~\\anaconda3\\lib\\site-packages\\pandas\\core\\frame.py\u001B[0m in \u001B[0;36mapply\u001B[1;34m(self, func, axis, raw, result_type, args, **kwds)\u001B[0m\n\u001B[0;32m   7546\u001B[0m             \u001B[0mkwds\u001B[0m\u001B[1;33m=\u001B[0m\u001B[0mkwds\u001B[0m\u001B[1;33m,\u001B[0m\u001B[1;33m\u001B[0m\u001B[1;33m\u001B[0m\u001B[0m\n\u001B[0;32m   7547\u001B[0m         )\n\u001B[1;32m-> 7548\u001B[1;33m         \u001B[1;32mreturn\u001B[0m \u001B[0mop\u001B[0m\u001B[1;33m.\u001B[0m\u001B[0mget_result\u001B[0m\u001B[1;33m(\u001B[0m\u001B[1;33m)\u001B[0m\u001B[1;33m\u001B[0m\u001B[1;33m\u001B[0m\u001B[0m\n\u001B[0m\u001B[0;32m   7549\u001B[0m \u001B[1;33m\u001B[0m\u001B[0m\n\u001B[0;32m   7550\u001B[0m     \u001B[1;32mdef\u001B[0m \u001B[0mapplymap\u001B[0m\u001B[1;33m(\u001B[0m\u001B[0mself\u001B[0m\u001B[1;33m,\u001B[0m \u001B[0mfunc\u001B[0m\u001B[1;33m)\u001B[0m \u001B[1;33m->\u001B[0m \u001B[1;34m\"DataFrame\"\u001B[0m\u001B[1;33m:\u001B[0m\u001B[1;33m\u001B[0m\u001B[1;33m\u001B[0m\u001B[0m\n",
      "\u001B[1;32m~\\anaconda3\\lib\\site-packages\\pandas\\core\\apply.py\u001B[0m in \u001B[0;36mget_result\u001B[1;34m(self)\u001B[0m\n\u001B[0;32m    178\u001B[0m             \u001B[1;32mreturn\u001B[0m \u001B[0mself\u001B[0m\u001B[1;33m.\u001B[0m\u001B[0mapply_raw\u001B[0m\u001B[1;33m(\u001B[0m\u001B[1;33m)\u001B[0m\u001B[1;33m\u001B[0m\u001B[1;33m\u001B[0m\u001B[0m\n\u001B[0;32m    179\u001B[0m \u001B[1;33m\u001B[0m\u001B[0m\n\u001B[1;32m--> 180\u001B[1;33m         \u001B[1;32mreturn\u001B[0m \u001B[0mself\u001B[0m\u001B[1;33m.\u001B[0m\u001B[0mapply_standard\u001B[0m\u001B[1;33m(\u001B[0m\u001B[1;33m)\u001B[0m\u001B[1;33m\u001B[0m\u001B[1;33m\u001B[0m\u001B[0m\n\u001B[0m\u001B[0;32m    181\u001B[0m \u001B[1;33m\u001B[0m\u001B[0m\n\u001B[0;32m    182\u001B[0m     \u001B[1;32mdef\u001B[0m \u001B[0mapply_empty_result\u001B[0m\u001B[1;33m(\u001B[0m\u001B[0mself\u001B[0m\u001B[1;33m)\u001B[0m\u001B[1;33m:\u001B[0m\u001B[1;33m\u001B[0m\u001B[1;33m\u001B[0m\u001B[0m\n",
      "\u001B[1;32m~\\anaconda3\\lib\\site-packages\\pandas\\core\\apply.py\u001B[0m in \u001B[0;36mapply_standard\u001B[1;34m(self)\u001B[0m\n\u001B[0;32m    269\u001B[0m \u001B[1;33m\u001B[0m\u001B[0m\n\u001B[0;32m    270\u001B[0m     \u001B[1;32mdef\u001B[0m \u001B[0mapply_standard\u001B[0m\u001B[1;33m(\u001B[0m\u001B[0mself\u001B[0m\u001B[1;33m)\u001B[0m\u001B[1;33m:\u001B[0m\u001B[1;33m\u001B[0m\u001B[1;33m\u001B[0m\u001B[0m\n\u001B[1;32m--> 271\u001B[1;33m         \u001B[0mresults\u001B[0m\u001B[1;33m,\u001B[0m \u001B[0mres_index\u001B[0m \u001B[1;33m=\u001B[0m \u001B[0mself\u001B[0m\u001B[1;33m.\u001B[0m\u001B[0mapply_series_generator\u001B[0m\u001B[1;33m(\u001B[0m\u001B[1;33m)\u001B[0m\u001B[1;33m\u001B[0m\u001B[1;33m\u001B[0m\u001B[0m\n\u001B[0m\u001B[0;32m    272\u001B[0m \u001B[1;33m\u001B[0m\u001B[0m\n\u001B[0;32m    273\u001B[0m         \u001B[1;31m# wrap results\u001B[0m\u001B[1;33m\u001B[0m\u001B[1;33m\u001B[0m\u001B[1;33m\u001B[0m\u001B[0m\n",
      "\u001B[1;32m~\\anaconda3\\lib\\site-packages\\pandas\\core\\apply.py\u001B[0m in \u001B[0;36mapply_series_generator\u001B[1;34m(self)\u001B[0m\n\u001B[0;32m    298\u001B[0m                 \u001B[1;32mfor\u001B[0m \u001B[0mi\u001B[0m\u001B[1;33m,\u001B[0m \u001B[0mv\u001B[0m \u001B[1;32min\u001B[0m \u001B[0menumerate\u001B[0m\u001B[1;33m(\u001B[0m\u001B[0mseries_gen\u001B[0m\u001B[1;33m)\u001B[0m\u001B[1;33m:\u001B[0m\u001B[1;33m\u001B[0m\u001B[1;33m\u001B[0m\u001B[0m\n\u001B[0;32m    299\u001B[0m                     \u001B[1;31m# ignore SettingWithCopy here in case the user mutates\u001B[0m\u001B[1;33m\u001B[0m\u001B[1;33m\u001B[0m\u001B[1;33m\u001B[0m\u001B[0m\n\u001B[1;32m--> 300\u001B[1;33m                     \u001B[0mresults\u001B[0m\u001B[1;33m[\u001B[0m\u001B[0mi\u001B[0m\u001B[1;33m]\u001B[0m \u001B[1;33m=\u001B[0m \u001B[0mself\u001B[0m\u001B[1;33m.\u001B[0m\u001B[0mf\u001B[0m\u001B[1;33m(\u001B[0m\u001B[0mv\u001B[0m\u001B[1;33m)\u001B[0m\u001B[1;33m\u001B[0m\u001B[1;33m\u001B[0m\u001B[0m\n\u001B[0m\u001B[0;32m    301\u001B[0m                     \u001B[1;32mif\u001B[0m \u001B[0misinstance\u001B[0m\u001B[1;33m(\u001B[0m\u001B[0mresults\u001B[0m\u001B[1;33m[\u001B[0m\u001B[0mi\u001B[0m\u001B[1;33m]\u001B[0m\u001B[1;33m,\u001B[0m \u001B[0mABCSeries\u001B[0m\u001B[1;33m)\u001B[0m\u001B[1;33m:\u001B[0m\u001B[1;33m\u001B[0m\u001B[1;33m\u001B[0m\u001B[0m\n\u001B[0;32m    302\u001B[0m                         \u001B[1;31m# If we have a view on v, we need to make a copy because\u001B[0m\u001B[1;33m\u001B[0m\u001B[1;33m\u001B[0m\u001B[1;33m\u001B[0m\u001B[0m\n",
      "\u001B[1;32m<ipython-input-66-1ce59dcb1f21>\u001B[0m in \u001B[0;36m<lambda>\u001B[1;34m(row)\u001B[0m\n\u001B[0;32m      1\u001B[0m \u001B[0msimilarity\u001B[0m \u001B[1;33m=\u001B[0m \u001B[0mcomb_df\u001B[0m\u001B[1;33m.\u001B[0m\u001B[0mdrop\u001B[0m\u001B[1;33m(\u001B[0m\u001B[0mVAL_ID\u001B[0m\u001B[1;33m,\u001B[0m \u001B[0maxis\u001B[0m\u001B[1;33m=\u001B[0m\u001B[1;36m0\u001B[0m\u001B[1;33m)\u001B[0m\u001B[0;31m\\\u001B[0m\u001B[1;33m\u001B[0m\u001B[1;33m\u001B[0m\u001B[0m\n\u001B[1;32m----> 2\u001B[1;33m     \u001B[1;33m.\u001B[0m\u001B[0mapply\u001B[0m\u001B[1;33m(\u001B[0m\u001B[1;32mlambda\u001B[0m \u001B[0mrow\u001B[0m\u001B[1;33m:\u001B[0m \u001B[0mcosine\u001B[0m\u001B[1;33m(\u001B[0m\u001B[0muser_genres\u001B[0m\u001B[1;33m.\u001B[0m\u001B[0mloc\u001B[0m\u001B[1;33m[\u001B[0m\u001B[0mVAL_ID\u001B[0m\u001B[1;33m]\u001B[0m\u001B[1;33m,\u001B[0m \u001B[0mrow\u001B[0m\u001B[1;33m)\u001B[0m\u001B[1;33m,\u001B[0m \u001B[0maxis\u001B[0m\u001B[1;33m=\u001B[0m\u001B[1;36m1\u001B[0m\u001B[1;33m)\u001B[0m\u001B[1;33m\u001B[0m\u001B[1;33m\u001B[0m\u001B[0m\n\u001B[0m",
      "\u001B[1;32m~\\anaconda3\\lib\\site-packages\\scipy\\spatial\\distance.py\u001B[0m in \u001B[0;36mcosine\u001B[1;34m(u, v, w)\u001B[0m\n\u001B[0;32m    759\u001B[0m     \u001B[1;31m# cosine distance is also referred to as 'uncentered correlation',\u001B[0m\u001B[1;33m\u001B[0m\u001B[1;33m\u001B[0m\u001B[1;33m\u001B[0m\u001B[0m\n\u001B[0;32m    760\u001B[0m     \u001B[1;31m#   or 'reflective correlation'\u001B[0m\u001B[1;33m\u001B[0m\u001B[1;33m\u001B[0m\u001B[1;33m\u001B[0m\u001B[0m\n\u001B[1;32m--> 761\u001B[1;33m     \u001B[1;32mreturn\u001B[0m \u001B[0mcorrelation\u001B[0m\u001B[1;33m(\u001B[0m\u001B[0mu\u001B[0m\u001B[1;33m,\u001B[0m \u001B[0mv\u001B[0m\u001B[1;33m,\u001B[0m \u001B[0mw\u001B[0m\u001B[1;33m=\u001B[0m\u001B[0mw\u001B[0m\u001B[1;33m,\u001B[0m \u001B[0mcentered\u001B[0m\u001B[1;33m=\u001B[0m\u001B[1;32mFalse\u001B[0m\u001B[1;33m)\u001B[0m\u001B[1;33m\u001B[0m\u001B[1;33m\u001B[0m\u001B[0m\n\u001B[0m\u001B[0;32m    762\u001B[0m \u001B[1;33m\u001B[0m\u001B[0m\n\u001B[0;32m    763\u001B[0m \u001B[1;33m\u001B[0m\u001B[0m\n",
      "\u001B[1;32m~\\anaconda3\\lib\\site-packages\\scipy\\spatial\\distance.py\u001B[0m in \u001B[0;36mcorrelation\u001B[1;34m(u, v, w, centered)\u001B[0m\n\u001B[0;32m    709\u001B[0m         \u001B[0mu\u001B[0m \u001B[1;33m=\u001B[0m \u001B[0mu\u001B[0m \u001B[1;33m-\u001B[0m \u001B[0mumu\u001B[0m\u001B[1;33m\u001B[0m\u001B[1;33m\u001B[0m\u001B[0m\n\u001B[0;32m    710\u001B[0m         \u001B[0mv\u001B[0m \u001B[1;33m=\u001B[0m \u001B[0mv\u001B[0m \u001B[1;33m-\u001B[0m \u001B[0mvmu\u001B[0m\u001B[1;33m\u001B[0m\u001B[1;33m\u001B[0m\u001B[0m\n\u001B[1;32m--> 711\u001B[1;33m     \u001B[0muv\u001B[0m \u001B[1;33m=\u001B[0m \u001B[0mnp\u001B[0m\u001B[1;33m.\u001B[0m\u001B[0maverage\u001B[0m\u001B[1;33m(\u001B[0m\u001B[0mu\u001B[0m \u001B[1;33m*\u001B[0m \u001B[0mv\u001B[0m\u001B[1;33m,\u001B[0m \u001B[0mweights\u001B[0m\u001B[1;33m=\u001B[0m\u001B[0mw\u001B[0m\u001B[1;33m)\u001B[0m\u001B[1;33m\u001B[0m\u001B[1;33m\u001B[0m\u001B[0m\n\u001B[0m\u001B[0;32m    712\u001B[0m     \u001B[0muu\u001B[0m \u001B[1;33m=\u001B[0m \u001B[0mnp\u001B[0m\u001B[1;33m.\u001B[0m\u001B[0maverage\u001B[0m\u001B[1;33m(\u001B[0m\u001B[0mnp\u001B[0m\u001B[1;33m.\u001B[0m\u001B[0msquare\u001B[0m\u001B[1;33m(\u001B[0m\u001B[0mu\u001B[0m\u001B[1;33m)\u001B[0m\u001B[1;33m,\u001B[0m \u001B[0mweights\u001B[0m\u001B[1;33m=\u001B[0m\u001B[0mw\u001B[0m\u001B[1;33m)\u001B[0m\u001B[1;33m\u001B[0m\u001B[1;33m\u001B[0m\u001B[0m\n\u001B[0;32m    713\u001B[0m     \u001B[0mvv\u001B[0m \u001B[1;33m=\u001B[0m \u001B[0mnp\u001B[0m\u001B[1;33m.\u001B[0m\u001B[0maverage\u001B[0m\u001B[1;33m(\u001B[0m\u001B[0mnp\u001B[0m\u001B[1;33m.\u001B[0m\u001B[0msquare\u001B[0m\u001B[1;33m(\u001B[0m\u001B[0mv\u001B[0m\u001B[1;33m)\u001B[0m\u001B[1;33m,\u001B[0m \u001B[0mweights\u001B[0m\u001B[1;33m=\u001B[0m\u001B[0mw\u001B[0m\u001B[1;33m)\u001B[0m\u001B[1;33m\u001B[0m\u001B[1;33m\u001B[0m\u001B[0m\n",
      "\u001B[1;31mValueError\u001B[0m: operands could not be broadcast together with shapes (71,) (75,) "
     ]
    }
   ],
   "source": [
    "similarity = comb_df.drop(VAL_ID, axis=0)\\\n",
    "    .apply(lambda row: cosine(user_genres.loc[VAL_ID], row), axis=1)"
   ],
   "metadata": {
    "collapsed": false,
    "pycharm": {
     "name": "#%%\n"
    }
   }
  },
  {
   "cell_type": "code",
   "execution_count": 102,
   "outputs": [],
   "source": [
    "from tqdm import tqdm\n",
    "\n",
    "\n",
    "def pipeline(ids, num_similar_users):\n",
    "    score = 0\n",
    "    films = list()\n",
    "    for i in tqdm(range(len(ids))):\n",
    "        id = ids[i]\n",
    "        similarity = comb_df.drop(id, axis=0)\\\n",
    "            .apply(lambda row: cosine(comb_df.loc[id], row), axis=1)\n",
    "        similar_users = similarity.sort_values().head(num_similar_users).index\n",
    "\n",
    "        dsm = DurationSparseMatrix()\n",
    "        history, content = dsm.read_info()\n",
    "        user_films = dsm.get_matrix_part(similar_users)\n",
    "\n",
    "        our_user = dsm.get_matrix_part([id])\n",
    "\n",
    "        watched_films = our_user.transpose()[our_user.transpose()[id] > 0].index\n",
    "        validation_films = random.sample(set(watched_films), 5)\n",
    "\n",
    "        our_user[validation_films] = 0\n",
    "\n",
    "        dif_films = user_films.apply(lambda row: row - our_user.iloc[0], axis=1)\n",
    "\n",
    "        top_films = list()\n",
    "        mean_dur = list()\n",
    "\n",
    "        for col, values in dif_films.iteritems():\n",
    "            genre = content.loc[col, 'type']\n",
    "            for value in values:\n",
    "                if value == 1:\n",
    "                    if col in top_films:\n",
    "                        continue\n",
    "                    mean_dur.append(user_films[col].sum() * user_content_type.loc[id, genre])\n",
    "                    top_films.append(col)\n",
    "\n",
    "        sorted_top_filmes = pd.DataFrame(data=[top_films, mean_dur]).transpose()\\\n",
    "            .sort_values(by=1, ascending=False)[0].values[:50]\n",
    "\n",
    "        films.append(sorted_top_filmes)\n",
    "\n",
    "        score += len(set(sorted_top_filmes) & set(validation_films)) / len(set(validation_films))\n",
    "\n",
    "    return films, score / len(ids)\n"
   ],
   "metadata": {
    "collapsed": false,
    "pycharm": {
     "name": "#%%\n"
    }
   }
  },
  {
   "cell_type": "code",
   "execution_count": 106,
   "outputs": [
    {
     "data": {
      "text/plain": "         serial_with_season     movie  serial_without_season     total\n14540              0.794851  0.205149               0.000000  0.022252\n45055              0.825139  0.174861               0.000000  0.025007\n48621              0.002453  0.997547               0.000000  0.023067\n50728              0.967901  0.032099               0.000000  0.039281\n126546             0.662838  0.337162               0.000000  0.026871\n150517             0.954109  0.045891               0.000000  0.031330\n200150             0.229745  0.764392               0.005863  0.024561\n453211             0.258159  0.741841               0.000000  0.025981\n668391             0.069461  0.930441               0.000098  0.032564\n710473             0.573729  0.426271               0.000000  0.028743\n894577             0.568217  0.414210               0.017573  0.022800\n1114854            0.108661  0.879824               0.011515  0.026184\n1161364            0.944775  0.055225               0.000000  0.022683\n1161722            0.980649  0.019351               0.000000  0.022362",
      "text/html": "<div>\n<style scoped>\n    .dataframe tbody tr th:only-of-type {\n        vertical-align: middle;\n    }\n\n    .dataframe tbody tr th {\n        vertical-align: top;\n    }\n\n    .dataframe thead th {\n        text-align: right;\n    }\n</style>\n<table border=\"1\" class=\"dataframe\">\n  <thead>\n    <tr style=\"text-align: right;\">\n      <th></th>\n      <th>serial_with_season</th>\n      <th>movie</th>\n      <th>serial_without_season</th>\n      <th>total</th>\n    </tr>\n  </thead>\n  <tbody>\n    <tr>\n      <th>14540</th>\n      <td>0.794851</td>\n      <td>0.205149</td>\n      <td>0.000000</td>\n      <td>0.022252</td>\n    </tr>\n    <tr>\n      <th>45055</th>\n      <td>0.825139</td>\n      <td>0.174861</td>\n      <td>0.000000</td>\n      <td>0.025007</td>\n    </tr>\n    <tr>\n      <th>48621</th>\n      <td>0.002453</td>\n      <td>0.997547</td>\n      <td>0.000000</td>\n      <td>0.023067</td>\n    </tr>\n    <tr>\n      <th>50728</th>\n      <td>0.967901</td>\n      <td>0.032099</td>\n      <td>0.000000</td>\n      <td>0.039281</td>\n    </tr>\n    <tr>\n      <th>126546</th>\n      <td>0.662838</td>\n      <td>0.337162</td>\n      <td>0.000000</td>\n      <td>0.026871</td>\n    </tr>\n    <tr>\n      <th>150517</th>\n      <td>0.954109</td>\n      <td>0.045891</td>\n      <td>0.000000</td>\n      <td>0.031330</td>\n    </tr>\n    <tr>\n      <th>200150</th>\n      <td>0.229745</td>\n      <td>0.764392</td>\n      <td>0.005863</td>\n      <td>0.024561</td>\n    </tr>\n    <tr>\n      <th>453211</th>\n      <td>0.258159</td>\n      <td>0.741841</td>\n      <td>0.000000</td>\n      <td>0.025981</td>\n    </tr>\n    <tr>\n      <th>668391</th>\n      <td>0.069461</td>\n      <td>0.930441</td>\n      <td>0.000098</td>\n      <td>0.032564</td>\n    </tr>\n    <tr>\n      <th>710473</th>\n      <td>0.573729</td>\n      <td>0.426271</td>\n      <td>0.000000</td>\n      <td>0.028743</td>\n    </tr>\n    <tr>\n      <th>894577</th>\n      <td>0.568217</td>\n      <td>0.414210</td>\n      <td>0.017573</td>\n      <td>0.022800</td>\n    </tr>\n    <tr>\n      <th>1114854</th>\n      <td>0.108661</td>\n      <td>0.879824</td>\n      <td>0.011515</td>\n      <td>0.026184</td>\n    </tr>\n    <tr>\n      <th>1161364</th>\n      <td>0.944775</td>\n      <td>0.055225</td>\n      <td>0.000000</td>\n      <td>0.022683</td>\n    </tr>\n    <tr>\n      <th>1161722</th>\n      <td>0.980649</td>\n      <td>0.019351</td>\n      <td>0.000000</td>\n      <td>0.022362</td>\n    </tr>\n  </tbody>\n</table>\n</div>"
     },
     "execution_count": 106,
     "metadata": {},
     "output_type": "execute_result"
    }
   ],
   "source": [
    "validation_users = user_content_type[user_content_type.total > user_content_type.total.mean() * 70]\n",
    "validation_users"
   ],
   "metadata": {
    "collapsed": false,
    "pycharm": {
     "name": "#%%\n"
    }
   }
  },
  {
   "cell_type": "code",
   "execution_count": 110,
   "outputs": [
    {
     "name": "stderr",
     "output_type": "stream",
     "text": [
      "100%|██████████| 10/10 [09:43<00:00, 58.37s/it]\n"
     ]
    },
    {
     "data": {
      "text/plain": "([array([15492., 15389.,  9861.,  7244.,  9847., 12642.,  9721.,  9088.,\n          7373.,  9322.,  8520.,  6183., 10157., 14606., 14604.,  9451.,\n          1628., 14532., 12502., 10190.,  1291.,  5249., 22148., 15432.,\n          8396., 11627.,  6494.,  7284.,  7684.,  1389.,  4785.,  5792.,\n          5533., 14390.,  7595., 24093., 18579., 15031., 20280., 13565.,\n         27045., 28211., 26474.,  3006., 19105., 26256., 28150., 12299.,\n         24844., 28222.]),\n  array([26474., 28211., 25393.,  9910., 28284., 25857., 24808., 28104.,\n         24943., 26059., 25537.,  1607., 25909., 11463.,  3202.,  9858.,\n          3002., 26394., 25794.,  9652., 25294., 27045., 26063.,  9843.,\n         28966.,  3418.,  9930., 24335., 27097., 11015., 28119., 27140.,\n         12672.,  9794., 24776., 13326., 24938., 11728., 26742., 27885.,\n         10919., 24803., 25715., 28101.,  9899., 25058.,  9785., 11521.,\n         24924., 28120.]),\n  array([28211., 26474.,  9910., 11463., 25537., 24844., 26257., 28104.,\n         28096., 27552., 27768., 16008.,  7834., 24967., 25988., 28222.,\n         11728.,  1514., 24749., 12122., 27015., 25643., 12077., 28090.,\n         10258., 12647., 27045., 15389., 27885., 27097.,  1877., 21026.,\n         26938., 26843., 24860.,  9652., 25715., 27633., 28150., 26111.,\n         13326., 19035., 25530., 13565., 18023., 12471., 25670., 29549.,\n         10919.,  9957.]),\n  array([19381.,  5756., 10884.,  1628., 15161.,  9061.,  6192., 12350.,\n          1095.,  9451., 14606.,  7284., 12502., 12642.,  9847., 25857.,\n         15389.,  4852.,  6183.,  5182.,  7595.,  8810., 10465., 28150.,\n          3813., 30081.,  7834., 27885., 11463., 25719., 14604.,  9910.,\n         24844., 26256., 27045., 29609.,  7684.,  9958., 28090., 10179.,\n          5315.,  1877.,  5533., 26257., 26968., 24749., 25537., 18023.,\n         26482., 25794.]),\n  array([28211.,  2667.,  9910.,  1628., 28284., 11463.,  5182., 26474.,\n         24844., 12471., 25857.,  6192., 18023., 26256., 12299., 25537.,\n          9041., 28090., 12350., 13565.,  1095., 15161., 10884., 27885.,\n          9451.,  7834.,  5756.,  9791.,  1877., 27045., 28222., 12647.,\n         28150., 11015.,  7284., 24967.,  9958.,  9627., 11728.,  5315.,\n         25859., 26257., 27552., 30081.,  7375., 26111., 12268., 28961.,\n         25988., 25793.]),\n  array([ 3329.,  1628.,  9041., 10783., 12350.,  1095.,  9451.,  9627.,\n         13565., 25857.,  5182.,  9910.,  9044., 27885., 12642., 28284.,\n          3006.,  9088., 12471.,  6494., 27632., 27798., 10190., 27045.,\n         25719., 28090., 24844., 30081.,  4852., 12299.,  7284.,  5249.,\n          5533., 12268.,  5355., 25988., 25537., 18023.,  1389., 28104.,\n          9791.,  6267., 27552.,  8810., 24967.,  1514.,  9652.,  7595.,\n         29549., 28150.]),\n  array([12471., 29549., 27097., 26257., 25988., 24967., 27633., 19035.,\n         25530., 25715., 27716., 25423.,  8361.,  2735., 28167.,  9944.,\n         25643., 24894., 26764., 27557., 25125., 25809., 12914., 12072.,\n         12780., 24339., 26614.,  5807.,  9288., 24904., 24926., 28436.,\n         11057.,   833., 10795., 27445., 26130.,  1581., 28134.,  1674.,\n          4005.,  5021., 10350., 27671., 26853., 28119., 28204., 29123.,\n         11900., 26410.]),\n  array([26256., 28211., 26474., 24844., 11463.,  9791., 12299., 28150.,\n         18023., 12120.,  3006., 28096., 24554., 25857., 27632., 25988.,\n         25794., 12122., 25793., 12647.,  5182., 11015., 26614.,  9794.,\n         28104.,  1514.,  2826., 11728., 25670., 24860., 28436.,  5315.,\n         25131., 26505., 25246., 27885., 15005., 25719., 10991., 26111.,\n         12128., 26257., 29549., 24582., 12077., 24749., 13621., 12471.,\n         22900., 13326.]),\n  array([ 2667.,  6192., 12350., 15389.,  1628.,  9451., 12268.,  7375.,\n          1378., 14606., 29863.,  1095., 30081.,  7595.,  9088.,  7284.,\n          6494.,  6183.,  4852.,  6599.,  9719.,  5533., 10884.,  8768.,\n         10465., 12642.,  8520., 11627.,  9847.,  5792.,  8810.,  8272.,\n         10190., 24093., 12352.,  7684., 15031., 29332., 20280., 14390.,\n         13565.,  1050., 28211.,  3006., 11463., 28284., 12471., 28090.,\n         24844., 27885.]),\n  array([ 1628.,  5756., 19381., 12350.,  6192.,  9061., 10884.,  9451.,\n         12502., 15389.,  1095., 30081.,  4852.,  7284., 12268., 14604.,\n          8810.,  9088., 10465.,  6183., 12352., 12642.,  3813., 10190.,\n          9847.,  7595.,  5533., 15432.,  7684., 29332., 28284.,  8520.,\n         25857., 11463., 14390., 28150.,  1050., 24093., 24844.,  9958.,\n          7834., 27885., 18023., 25793., 25719., 28096.,  5315.,  1877.,\n         12672., 26968.])],\n 0.16)"
     },
     "execution_count": 110,
     "metadata": {},
     "output_type": "execute_result"
    }
   ],
   "source": [
    "id_users = random.sample(list(validation_users.index.values), 10)\n",
    "\n",
    "pipeline(id_users, 500)\n"
   ],
   "metadata": {
    "collapsed": false,
    "pycharm": {
     "name": "#%%\n"
    }
   }
  }
 ],
 "metadata": {
  "kernelspec": {
   "display_name": "Python 3",
   "language": "python",
   "name": "python3"
  },
  "language_info": {
   "codemirror_mode": {
    "name": "ipython",
    "version": 2
   },
   "file_extension": ".py",
   "mimetype": "text/x-python",
   "name": "python",
   "nbconvert_exporter": "python",
   "pygments_lexer": "ipython2",
   "version": "2.7.6"
  }
 },
 "nbformat": 4,
 "nbformat_minor": 0
}